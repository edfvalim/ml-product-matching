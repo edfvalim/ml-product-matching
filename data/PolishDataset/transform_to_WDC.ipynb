{
 "cells": [
  {
   "cell_type": "markdown",
   "source": [
    "# Analysis of raw dataset"
   ],
   "metadata": {
    "collapsed": false,
    "pycharm": {
     "name": "#%% md\n"
    }
   }
  },
  {
   "cell_type": "code",
   "execution_count": 7,
   "metadata": {
    "collapsed": true
   },
   "outputs": [],
   "source": [
    "import os\n",
    "\n",
    "import numpy as np\n",
    "import pandas as pd\n",
    "import seaborn as sns\n",
    "sns.set_style(\"whitegrid\")"
   ]
  },
  {
   "cell_type": "code",
   "execution_count": 8,
   "outputs": [
    {
     "output_type": "execute_result",
     "data": {
      "text/plain": [
       "Index(['EAN', 'amount', 'brand', 'capacity', 'category', 'description',\n",
       "       'extras', 'image_url', 'ingredients', 'origin', 'price', 'seller',\n",
       "       'storage', 'title', 'url', 'weight'],\n",
       "      dtype='object')"
      ]
     },
     "metadata": {},
     "execution_count": 8
    }
   ],
   "source": [
    "df = pd.read_csv('raw_data.csv').drop(columns=['Unnamed: 0'])\n",
    "df.keys()"
   ],
   "metadata": {
    "collapsed": false,
    "pycharm": {
     "name": "#%%\n"
    }
   }
  },
  {
   "cell_type": "code",
   "execution_count": 9,
   "outputs": [
    {
     "output_type": "execute_result",
     "data": {
      "text/plain": [
       "EAN            object\n",
       "amount         object\n",
       "brand          object\n",
       "capacity       object\n",
       "category       object\n",
       "description    object\n",
       "extras         object\n",
       "image_url      object\n",
       "ingredients    object\n",
       "origin         object\n",
       "price          object\n",
       "seller         object\n",
       "storage        object\n",
       "title          object\n",
       "url            object\n",
       "weight         object\n",
       "dtype: object"
      ]
     },
     "metadata": {},
     "execution_count": 9
    }
   ],
   "source": [
    "df.dtypes"
   ],
   "metadata": {
    "collapsed": false,
    "pycharm": {
     "name": "#%%\n"
    }
   }
  },
  {
   "cell_type": "code",
   "execution_count": 10,
   "outputs": [
    {
     "output_type": "execute_result",
     "data": {
      "text/plain": [
       "                EAN  amount    brand capacity  \\\n",
       "6674  5900627081732   470 g      NaN    470 g   \n",
       "4855  5902249011890  500 ml   ZIELKO   500 ml   \n",
       "4615  5901549955132     1 l  NANOMAX      1 l   \n",
       "4493  5904771004562   1 szt    GOSIA      NaN   \n",
       "3497  8001090992383   1 szt    FAIRY      NaN   \n",
       "\n",
       "                                               category  \\\n",
       "6674                   Chemia > Odplamiacze, wybielacze   \n",
       "4855  Środki czystości, chemia > Czyszczenie > Środk...   \n",
       "4615  Środki czystości, chemia > Czyszczenie > Środk...   \n",
       "4493  Środki czystości, chemia > Czyszczenie > Szczo...   \n",
       "3497  Środki czystości, chemia > Zmywanie naczyń > T...   \n",
       "\n",
       "                                            description extras  \\\n",
       "6674  ul. Okunin 1 \\n05-100 Nowy Dwór Mazowiecki Czą...    NaN   \n",
       "4855  Naturalny płyn do czyszczenia praktycznie każd...    NaN   \n",
       "4615                NANOMAX Płyn do mycia okien i szkła    NaN   \n",
       "4493  GOSIA Mop płaski do płytek, paneli (zapas)\\n\\n...    NaN   \n",
       "3497  Aby Twoje naczynia były lśniąco czyste, wyprób...    NaN   \n",
       "\n",
       "                                              image_url  \\\n",
       "6674  https://www.leclerc.rzeszow.pl/resize.php?pic=...   \n",
       "4855  https://www.frisco.pl/pid,127083/n,zielko-uniw...   \n",
       "4615  https://www.frisco.pl/pid,122583/n,nanomax-ply...   \n",
       "4493  https://www.frisco.pl/pid,88757/n,gosia-mop-pl...   \n",
       "3497  https://www.frisco.pl/pid,114629/n,fairy-plati...   \n",
       "\n",
       "                                            ingredients  \\\n",
       "6674  >30%: związki wybielające na bazie tlenu\\n<5%:...   \n",
       "4855  Mniej niż 5% amfoteryczne związki powierzchnio...   \n",
       "4615                                                NaN   \n",
       "4493                                                NaN   \n",
       "3497  5-15% Niejonowe Środki Powierzchniowo Czynne\\n...   \n",
       "\n",
       "                                                 origin  price  \\\n",
       "6674                                         Produkt UE  22.99   \n",
       "4855                                                NaN  14.99   \n",
       "4615                                                NaN  22.99   \n",
       "4493                                                NaN  17.79   \n",
       "3497  \"Kraj pochodzenia\",\"Belgia\"\\n\"Zapakowano w\",\"B...  84.99   \n",
       "\n",
       "               seller                                            storage  \\\n",
       "6674  Leclerc Rzeszów  Data ważności: 2 lata od daty produkcji podane...   \n",
       "4855           Frisco                                                NaN   \n",
       "4615           Frisco             Przechowywać w temperaturze otoczenia.   \n",
       "4493           Frisco                                                NaN   \n",
       "3497           Frisco                                                NaN   \n",
       "\n",
       "                                                  title  \\\n",
       "6674  Vanish Oxi Action Odplamiacz do białych tkanin...   \n",
       "4855  ZIELKO Uniwersalny płyn do czyszczenia do wszy...   \n",
       "4615                NANOMAX Płyn do mycia okien i szkła   \n",
       "4493         GOSIA Mop płaski do płytek, paneli (zapas)   \n",
       "3497  FAIRY PLATINUM Plus Kapsułki do zmywarki cytry...   \n",
       "\n",
       "                                                    url            weight  \n",
       "6674  https://www.leclerc.rzeszow.pl/vanish-oxi-acti...  Waga netto 470 g  \n",
       "4855  https://www.frisco.pl/pid,127083/n,zielko-uniw...   Waga brutto 544  \n",
       "4615  https://www.frisco.pl/pid,122583/n,nanomax-ply...               NaN  \n",
       "4493  https://www.frisco.pl/pid,88757/n,gosia-mop-pl...             1 szt  \n",
       "3497  https://www.frisco.pl/pid,114629/n,fairy-plati...  Waga brutto 1037  "
      ],
      "text/html": "<div>\n<style scoped>\n    .dataframe tbody tr th:only-of-type {\n        vertical-align: middle;\n    }\n\n    .dataframe tbody tr th {\n        vertical-align: top;\n    }\n\n    .dataframe thead th {\n        text-align: right;\n    }\n</style>\n<table border=\"1\" class=\"dataframe\">\n  <thead>\n    <tr style=\"text-align: right;\">\n      <th></th>\n      <th>EAN</th>\n      <th>amount</th>\n      <th>brand</th>\n      <th>capacity</th>\n      <th>category</th>\n      <th>description</th>\n      <th>extras</th>\n      <th>image_url</th>\n      <th>ingredients</th>\n      <th>origin</th>\n      <th>price</th>\n      <th>seller</th>\n      <th>storage</th>\n      <th>title</th>\n      <th>url</th>\n      <th>weight</th>\n    </tr>\n  </thead>\n  <tbody>\n    <tr>\n      <th>6674</th>\n      <td>5900627081732</td>\n      <td>470 g</td>\n      <td>NaN</td>\n      <td>470 g</td>\n      <td>Chemia &gt; Odplamiacze, wybielacze</td>\n      <td>ul. Okunin 1 \\n05-100 Nowy Dwór Mazowiecki Czą...</td>\n      <td>NaN</td>\n      <td>https://www.leclerc.rzeszow.pl/resize.php?pic=...</td>\n      <td>&gt;30%: związki wybielające na bazie tlenu\\n&lt;5%:...</td>\n      <td>Produkt UE</td>\n      <td>22.99</td>\n      <td>Leclerc Rzeszów</td>\n      <td>Data ważności: 2 lata od daty produkcji podane...</td>\n      <td>Vanish Oxi Action Odplamiacz do białych tkanin...</td>\n      <td>https://www.leclerc.rzeszow.pl/vanish-oxi-acti...</td>\n      <td>Waga netto 470 g</td>\n    </tr>\n    <tr>\n      <th>4855</th>\n      <td>5902249011890</td>\n      <td>500 ml</td>\n      <td>ZIELKO</td>\n      <td>500 ml</td>\n      <td>Środki czystości, chemia &gt; Czyszczenie &gt; Środk...</td>\n      <td>Naturalny płyn do czyszczenia praktycznie każd...</td>\n      <td>NaN</td>\n      <td>https://www.frisco.pl/pid,127083/n,zielko-uniw...</td>\n      <td>Mniej niż 5% amfoteryczne związki powierzchnio...</td>\n      <td>NaN</td>\n      <td>14.99</td>\n      <td>Frisco</td>\n      <td>NaN</td>\n      <td>ZIELKO Uniwersalny płyn do czyszczenia do wszy...</td>\n      <td>https://www.frisco.pl/pid,127083/n,zielko-uniw...</td>\n      <td>Waga brutto 544</td>\n    </tr>\n    <tr>\n      <th>4615</th>\n      <td>5901549955132</td>\n      <td>1 l</td>\n      <td>NANOMAX</td>\n      <td>1 l</td>\n      <td>Środki czystości, chemia &gt; Czyszczenie &gt; Środk...</td>\n      <td>NANOMAX Płyn do mycia okien i szkła</td>\n      <td>NaN</td>\n      <td>https://www.frisco.pl/pid,122583/n,nanomax-ply...</td>\n      <td>NaN</td>\n      <td>NaN</td>\n      <td>22.99</td>\n      <td>Frisco</td>\n      <td>Przechowywać w temperaturze otoczenia.</td>\n      <td>NANOMAX Płyn do mycia okien i szkła</td>\n      <td>https://www.frisco.pl/pid,122583/n,nanomax-ply...</td>\n      <td>NaN</td>\n    </tr>\n    <tr>\n      <th>4493</th>\n      <td>5904771004562</td>\n      <td>1 szt</td>\n      <td>GOSIA</td>\n      <td>NaN</td>\n      <td>Środki czystości, chemia &gt; Czyszczenie &gt; Szczo...</td>\n      <td>GOSIA Mop płaski do płytek, paneli (zapas)\\n\\n...</td>\n      <td>NaN</td>\n      <td>https://www.frisco.pl/pid,88757/n,gosia-mop-pl...</td>\n      <td>NaN</td>\n      <td>NaN</td>\n      <td>17.79</td>\n      <td>Frisco</td>\n      <td>NaN</td>\n      <td>GOSIA Mop płaski do płytek, paneli (zapas)</td>\n      <td>https://www.frisco.pl/pid,88757/n,gosia-mop-pl...</td>\n      <td>1 szt</td>\n    </tr>\n    <tr>\n      <th>3497</th>\n      <td>8001090992383</td>\n      <td>1 szt</td>\n      <td>FAIRY</td>\n      <td>NaN</td>\n      <td>Środki czystości, chemia &gt; Zmywanie naczyń &gt; T...</td>\n      <td>Aby Twoje naczynia były lśniąco czyste, wyprób...</td>\n      <td>NaN</td>\n      <td>https://www.frisco.pl/pid,114629/n,fairy-plati...</td>\n      <td>5-15% Niejonowe Środki Powierzchniowo Czynne\\n...</td>\n      <td>\"Kraj pochodzenia\",\"Belgia\"\\n\"Zapakowano w\",\"B...</td>\n      <td>84.99</td>\n      <td>Frisco</td>\n      <td>NaN</td>\n      <td>FAIRY PLATINUM Plus Kapsułki do zmywarki cytry...</td>\n      <td>https://www.frisco.pl/pid,114629/n,fairy-plati...</td>\n      <td>Waga brutto 1037</td>\n    </tr>\n  </tbody>\n</table>\n</div>"
     },
     "metadata": {},
     "execution_count": 10
    }
   ],
   "source": [
    "df = df.sample(frac=1) # shuffle data\n",
    "df.head()"
   ],
   "metadata": {
    "collapsed": false,
    "pycharm": {
     "name": "#%%\n"
    }
   }
  },
  {
   "cell_type": "code",
   "execution_count": 15,
   "metadata": {},
   "outputs": [
    {
     "output_type": "execute_result",
     "data": {
      "text/plain": [
       "                 EAN                                              title  \\\n",
       "4545   9000101385298  SILAN Aromatherapy+ Płyn do zmiękczania tkanin...   \n",
       "5544   5060639125739  Monster Energy Ultra Violet Gazowany napój ene...   \n",
       "67     5900334012784                     TYMBARK Nektar Biały Grejpfrut   \n",
       "1959   5449000019745  ADEZ Napój owsiany z brązowym ryżem i komosą r...   \n",
       "4854   5902811780551                      ONLY ECO Płyn do mycia kuchni   \n",
       "4367   5900536230399              JAN NIEZBĘDNY Zmywak kuchenny 10 szt.   \n",
       "5412   5900352013701                      Hellena Oranżada biała 275 ml   \n",
       "6901   5000204718027  Pronto Original Płyn do czyszczenia różnych po...   \n",
       "8258   5900500031045                               Napój Zimowa herbata   \n",
       "7863   5900497036726                    Pepsi Lime Napój gazowany 1,5 l   \n",
       "\n",
       "              brand                                           category  \\\n",
       "4545          SILAN  Środki czystości, chemia > Pranie > Do płukani...   \n",
       "5544        Monster  WODA I NAPOJE > NAPOJE ENERGETYCZNE I IZOTONICZNE   \n",
       "67          TYMBARK  Napoje > Soki i nektary > Nektary > Grejpfruto...   \n",
       "1959           ADEZ  Strefa Roślinna > Napoje roślinne > Owsiane, o...   \n",
       "4854       ONLY ECO  BIO > Środki czystości, chemia > ONLY ECO Płyn...   \n",
       "4367  JAN NIEZBĘDNY  Środki czystości, chemia > Zmywanie naczyń > G...   \n",
       "5412        Hellena                    WODA I NAPOJE > NAPOJE GAZOWANE   \n",
       "6901         Pronto      Chemia > Akcesoria domowe > Środki czyszczące   \n",
       "8258         Hortex                                             napoje   \n",
       "7863            NaN                           Napoje > Napoje gazowane   \n",
       "\n",
       "                 weight             amount  \n",
       "4545                NaN             1.45 l  \n",
       "5544                NaN             500 ml  \n",
       "67                  NaN                1 l  \n",
       "1959                NaN              9.6 l  \n",
       "4854                NaN             500 ml  \n",
       "4367     Waga brutto 70              1 szt  \n",
       "5412                NaN             275 ml  \n",
       "6901  Waga netto 500 ml             500 ml  \n",
       "8258                NaN   1 l               \n",
       "7863   Waga netto 1,5 l              1,5 l  "
      ],
      "text/html": "<div>\n<style scoped>\n    .dataframe tbody tr th:only-of-type {\n        vertical-align: middle;\n    }\n\n    .dataframe tbody tr th {\n        vertical-align: top;\n    }\n\n    .dataframe thead th {\n        text-align: right;\n    }\n</style>\n<table border=\"1\" class=\"dataframe\">\n  <thead>\n    <tr style=\"text-align: right;\">\n      <th></th>\n      <th>EAN</th>\n      <th>title</th>\n      <th>brand</th>\n      <th>category</th>\n      <th>weight</th>\n      <th>amount</th>\n    </tr>\n  </thead>\n  <tbody>\n    <tr>\n      <th>4545</th>\n      <td>9000101385298</td>\n      <td>SILAN Aromatherapy+ Płyn do zmiękczania tkanin...</td>\n      <td>SILAN</td>\n      <td>Środki czystości, chemia &gt; Pranie &gt; Do płukani...</td>\n      <td>NaN</td>\n      <td>1.45 l</td>\n    </tr>\n    <tr>\n      <th>5544</th>\n      <td>5060639125739</td>\n      <td>Monster Energy Ultra Violet Gazowany napój ene...</td>\n      <td>Monster</td>\n      <td>WODA I NAPOJE &gt; NAPOJE ENERGETYCZNE I IZOTONICZNE</td>\n      <td>NaN</td>\n      <td>500 ml</td>\n    </tr>\n    <tr>\n      <th>67</th>\n      <td>5900334012784</td>\n      <td>TYMBARK Nektar Biały Grejpfrut</td>\n      <td>TYMBARK</td>\n      <td>Napoje &gt; Soki i nektary &gt; Nektary &gt; Grejpfruto...</td>\n      <td>NaN</td>\n      <td>1 l</td>\n    </tr>\n    <tr>\n      <th>1959</th>\n      <td>5449000019745</td>\n      <td>ADEZ Napój owsiany z brązowym ryżem i komosą r...</td>\n      <td>ADEZ</td>\n      <td>Strefa Roślinna &gt; Napoje roślinne &gt; Owsiane, o...</td>\n      <td>NaN</td>\n      <td>9.6 l</td>\n    </tr>\n    <tr>\n      <th>4854</th>\n      <td>5902811780551</td>\n      <td>ONLY ECO Płyn do mycia kuchni</td>\n      <td>ONLY ECO</td>\n      <td>BIO &gt; Środki czystości, chemia &gt; ONLY ECO Płyn...</td>\n      <td>NaN</td>\n      <td>500 ml</td>\n    </tr>\n    <tr>\n      <th>4367</th>\n      <td>5900536230399</td>\n      <td>JAN NIEZBĘDNY Zmywak kuchenny 10 szt.</td>\n      <td>JAN NIEZBĘDNY</td>\n      <td>Środki czystości, chemia &gt; Zmywanie naczyń &gt; G...</td>\n      <td>Waga brutto 70</td>\n      <td>1 szt</td>\n    </tr>\n    <tr>\n      <th>5412</th>\n      <td>5900352013701</td>\n      <td>Hellena Oranżada biała 275 ml</td>\n      <td>Hellena</td>\n      <td>WODA I NAPOJE &gt; NAPOJE GAZOWANE</td>\n      <td>NaN</td>\n      <td>275 ml</td>\n    </tr>\n    <tr>\n      <th>6901</th>\n      <td>5000204718027</td>\n      <td>Pronto Original Płyn do czyszczenia różnych po...</td>\n      <td>Pronto</td>\n      <td>Chemia &gt; Akcesoria domowe &gt; Środki czyszczące</td>\n      <td>Waga netto 500 ml</td>\n      <td>500 ml</td>\n    </tr>\n    <tr>\n      <th>8258</th>\n      <td>5900500031045</td>\n      <td>Napój Zimowa herbata</td>\n      <td>Hortex</td>\n      <td>napoje</td>\n      <td>NaN</td>\n      <td>1 l</td>\n    </tr>\n    <tr>\n      <th>7863</th>\n      <td>5900497036726</td>\n      <td>Pepsi Lime Napój gazowany 1,5 l</td>\n      <td>NaN</td>\n      <td>Napoje &gt; Napoje gazowane</td>\n      <td>Waga netto 1,5 l</td>\n      <td>1,5 l</td>\n    </tr>\n  </tbody>\n</table>\n</div>"
     },
     "metadata": {},
     "execution_count": 15
    }
   ],
   "source": [
    "df[['EAN', 'title', 'brand', 'category', 'weight', 'amount']].sample(n=10)"
   ]
  },
  {
   "cell_type": "markdown",
   "source": [
    "## Data cleaning\n",
    "Drop corupted data from swiadome zakupy"
   ],
   "metadata": {
    "collapsed": false,
    "pycharm": {
     "name": "#%% md\n"
    }
   }
  },
  {
   "cell_type": "code",
   "execution_count": 286,
   "outputs": [],
   "source": [
    "df = df[df['seller'] != '']"
   ],
   "metadata": {
    "collapsed": false,
    "pycharm": {
     "name": "#%%\n"
    }
   }
  },
  {
   "cell_type": "markdown",
   "source": [
    "Choose records with EAN and title available"
   ],
   "metadata": {
    "collapsed": false,
    "pycharm": {
     "name": "#%% md\n"
    }
   }
  },
  {
   "cell_type": "code",
   "execution_count": 287,
   "outputs": [],
   "source": [
    "df = df.dropna(subset=['EAN', 'title'], how='any')"
   ],
   "metadata": {
    "collapsed": false,
    "pycharm": {
     "name": "#%%\n"
    }
   }
  },
  {
   "cell_type": "markdown",
   "source": [
    "Drop unknown sellers"
   ],
   "metadata": {
    "collapsed": false,
    "pycharm": {
     "name": "#%% md\n"
    }
   }
  },
  {
   "cell_type": "code",
   "source": [
    "df['seller'].unique()\n",
    "df = df[df['seller'] != '7.19']"
   ],
   "metadata": {
    "collapsed": false,
    "pycharm": {
     "name": "#%%\n"
    }
   },
   "execution_count": 288,
   "outputs": []
  },
  {
   "cell_type": "markdown",
   "source": [
    "Extract the main category from category tree."
   ],
   "metadata": {
    "collapsed": false,
    "pycharm": {
     "name": "#%% md\n"
    }
   }
  },
  {
   "cell_type": "code",
   "execution_count": 289,
   "outputs": [
    {
     "output_type": "execute_result",
     "data": {
      "text/plain": [
       "                              0  \\\n",
       "434                     Napoje    \n",
       "4237  Środki czystości, chemia    \n",
       "5107                  DROGERIA    \n",
       "4653  Środki czystości, chemia    \n",
       "1510                    Napoje    \n",
       "\n",
       "                                                      1  \n",
       "434    Soki i nektary > Soki owocowo-warzywne > TYMB...  \n",
       "4237   Czyszczenie > Zawieszki toaletowe > DOMESTOS ...  \n",
       "5107                                 RĘCZNIKI PAPIEROWE  \n",
       "4653   Pranie > Płyny i żele > Płyn > Uniwersalny > ...  \n",
       "1510   Woda > Niegazowana > ŻYWIEC ZDRÓJ Niegazowany...  "
      ],
      "text/html": "<div>\n<style scoped>\n    .dataframe tbody tr th:only-of-type {\n        vertical-align: middle;\n    }\n\n    .dataframe tbody tr th {\n        vertical-align: top;\n    }\n\n    .dataframe thead th {\n        text-align: right;\n    }\n</style>\n<table border=\"1\" class=\"dataframe\">\n  <thead>\n    <tr style=\"text-align: right;\">\n      <th></th>\n      <th>0</th>\n      <th>1</th>\n    </tr>\n  </thead>\n  <tbody>\n    <tr>\n      <th>434</th>\n      <td>Napoje</td>\n      <td>Soki i nektary &gt; Soki owocowo-warzywne &gt; TYMB...</td>\n    </tr>\n    <tr>\n      <th>4237</th>\n      <td>Środki czystości, chemia</td>\n      <td>Czyszczenie &gt; Zawieszki toaletowe &gt; DOMESTOS ...</td>\n    </tr>\n    <tr>\n      <th>5107</th>\n      <td>DROGERIA</td>\n      <td>RĘCZNIKI PAPIEROWE</td>\n    </tr>\n    <tr>\n      <th>4653</th>\n      <td>Środki czystości, chemia</td>\n      <td>Pranie &gt; Płyny i żele &gt; Płyn &gt; Uniwersalny &gt; ...</td>\n    </tr>\n    <tr>\n      <th>1510</th>\n      <td>Napoje</td>\n      <td>Woda &gt; Niegazowana &gt; ŻYWIEC ZDRÓJ Niegazowany...</td>\n    </tr>\n  </tbody>\n</table>\n</div>"
     },
     "metadata": {},
     "execution_count": 289
    }
   ],
   "source": [
    "categories = df['category'].str.split('>', n=1, expand=True)\n",
    "categories.head()"
   ],
   "metadata": {
    "collapsed": false,
    "pycharm": {
     "name": "#%%\n"
    }
   }
  },
  {
   "cell_type": "code",
   "execution_count": 290,
   "outputs": [
    {
     "output_type": "execute_result",
     "data": {
      "text/plain": [
       "                           EAN  amount  brand  capacity  category  \\\n",
       "main_category                                                       \n",
       "napoje                    3353    3319   3165      3295      3353   \n",
       "środki czystości, chemia  2430    2430   2430      1241      2430   \n",
       "drogeria                   791     790    774         0       791   \n",
       "chemia                     688     542    408       542       688   \n",
       "woda i napoje              586     583    574         0       586   \n",
       "alkohol                    323     254    154       319       323   \n",
       "bio                         86      86     86        64        86   \n",
       "soki świeże i tłoczone      40      37     34        37        40   \n",
       "mama i dziecko              24      24     24         6        24   \n",
       "strefa roślinna             20      20     20        20        20   \n",
       "zdrowa żywność               8       8      8         0         8   \n",
       "spożywcze                    6       6      6         4         6   \n",
       "artykuły spożywcze           3       0      2         0         3   \n",
       "artykuły przemysłowe         2       2      2         0         2   \n",
       "warzywniak                   1       1      1         1         1   \n",
       "\n",
       "                          description  extras  image_url  ingredients  origin  \\\n",
       "main_category                                                                   \n",
       "napoje                           3353    1222       3353         2037     255   \n",
       "środki czystości, chemia         2430       2       2430         1522     735   \n",
       "drogeria                          556       1        791          630     320   \n",
       "chemia                            684       1        688          477     310   \n",
       "woda i napoje                     339     209        586          467     150   \n",
       "alkohol                           277     222        316           37      43   \n",
       "bio                                86       0         86           30      12   \n",
       "soki świeże i tłoczone             40       6         40           10       0   \n",
       "mama i dziecko                     24       4         24           18       4   \n",
       "strefa roślinna                    20       0         20            8       0   \n",
       "zdrowa żywność                      6       0          8            6       0   \n",
       "spożywcze                           6       0          6            4       2   \n",
       "artykuły spożywcze                  3       0          3            0       0   \n",
       "artykuły przemysłowe                1       0          2            0       0   \n",
       "warzywniak                          1       0          1            1       0   \n",
       "\n",
       "                          price  seller  storage  title   url  weight  \n",
       "main_category                                                          \n",
       "napoje                     3045    3353     2062   3353  3353    1670  \n",
       "środki czystości, chemia   2430    2430     1096   2430  2430    1867  \n",
       "drogeria                    791     791      418    791   791       0  \n",
       "chemia                      688     688      352    688   688     542  \n",
       "woda i napoje               584     586      575    586   586       0  \n",
       "alkohol                     168     315       30    323   316     115  \n",
       "bio                          86      86       29     86    86      26  \n",
       "soki świeże i tłoczone       40      40       34     40    40      37  \n",
       "mama i dziecko               24      24       10     24    24      18  \n",
       "strefa roślinna              20      20       20     20    20       0  \n",
       "zdrowa żywność                8       8        8      8     8       0  \n",
       "spożywcze                     6       6        2      6     6       4  \n",
       "artykuły spożywcze            3       3        3      3     3       0  \n",
       "artykuły przemysłowe          2       2        0      2     2       0  \n",
       "warzywniak                    1       1        1      1     1       1  "
      ],
      "text/html": "<div>\n<style scoped>\n    .dataframe tbody tr th:only-of-type {\n        vertical-align: middle;\n    }\n\n    .dataframe tbody tr th {\n        vertical-align: top;\n    }\n\n    .dataframe thead th {\n        text-align: right;\n    }\n</style>\n<table border=\"1\" class=\"dataframe\">\n  <thead>\n    <tr style=\"text-align: right;\">\n      <th></th>\n      <th>EAN</th>\n      <th>amount</th>\n      <th>brand</th>\n      <th>capacity</th>\n      <th>category</th>\n      <th>description</th>\n      <th>extras</th>\n      <th>image_url</th>\n      <th>ingredients</th>\n      <th>origin</th>\n      <th>price</th>\n      <th>seller</th>\n      <th>storage</th>\n      <th>title</th>\n      <th>url</th>\n      <th>weight</th>\n    </tr>\n    <tr>\n      <th>main_category</th>\n      <th></th>\n      <th></th>\n      <th></th>\n      <th></th>\n      <th></th>\n      <th></th>\n      <th></th>\n      <th></th>\n      <th></th>\n      <th></th>\n      <th></th>\n      <th></th>\n      <th></th>\n      <th></th>\n      <th></th>\n      <th></th>\n    </tr>\n  </thead>\n  <tbody>\n    <tr>\n      <th>napoje</th>\n      <td>3353</td>\n      <td>3319</td>\n      <td>3165</td>\n      <td>3295</td>\n      <td>3353</td>\n      <td>3353</td>\n      <td>1222</td>\n      <td>3353</td>\n      <td>2037</td>\n      <td>255</td>\n      <td>3045</td>\n      <td>3353</td>\n      <td>2062</td>\n      <td>3353</td>\n      <td>3353</td>\n      <td>1670</td>\n    </tr>\n    <tr>\n      <th>środki czystości, chemia</th>\n      <td>2430</td>\n      <td>2430</td>\n      <td>2430</td>\n      <td>1241</td>\n      <td>2430</td>\n      <td>2430</td>\n      <td>2</td>\n      <td>2430</td>\n      <td>1522</td>\n      <td>735</td>\n      <td>2430</td>\n      <td>2430</td>\n      <td>1096</td>\n      <td>2430</td>\n      <td>2430</td>\n      <td>1867</td>\n    </tr>\n    <tr>\n      <th>drogeria</th>\n      <td>791</td>\n      <td>790</td>\n      <td>774</td>\n      <td>0</td>\n      <td>791</td>\n      <td>556</td>\n      <td>1</td>\n      <td>791</td>\n      <td>630</td>\n      <td>320</td>\n      <td>791</td>\n      <td>791</td>\n      <td>418</td>\n      <td>791</td>\n      <td>791</td>\n      <td>0</td>\n    </tr>\n    <tr>\n      <th>chemia</th>\n      <td>688</td>\n      <td>542</td>\n      <td>408</td>\n      <td>542</td>\n      <td>688</td>\n      <td>684</td>\n      <td>1</td>\n      <td>688</td>\n      <td>477</td>\n      <td>310</td>\n      <td>688</td>\n      <td>688</td>\n      <td>352</td>\n      <td>688</td>\n      <td>688</td>\n      <td>542</td>\n    </tr>\n    <tr>\n      <th>woda i napoje</th>\n      <td>586</td>\n      <td>583</td>\n      <td>574</td>\n      <td>0</td>\n      <td>586</td>\n      <td>339</td>\n      <td>209</td>\n      <td>586</td>\n      <td>467</td>\n      <td>150</td>\n      <td>584</td>\n      <td>586</td>\n      <td>575</td>\n      <td>586</td>\n      <td>586</td>\n      <td>0</td>\n    </tr>\n    <tr>\n      <th>alkohol</th>\n      <td>323</td>\n      <td>254</td>\n      <td>154</td>\n      <td>319</td>\n      <td>323</td>\n      <td>277</td>\n      <td>222</td>\n      <td>316</td>\n      <td>37</td>\n      <td>43</td>\n      <td>168</td>\n      <td>315</td>\n      <td>30</td>\n      <td>323</td>\n      <td>316</td>\n      <td>115</td>\n    </tr>\n    <tr>\n      <th>bio</th>\n      <td>86</td>\n      <td>86</td>\n      <td>86</td>\n      <td>64</td>\n      <td>86</td>\n      <td>86</td>\n      <td>0</td>\n      <td>86</td>\n      <td>30</td>\n      <td>12</td>\n      <td>86</td>\n      <td>86</td>\n      <td>29</td>\n      <td>86</td>\n      <td>86</td>\n      <td>26</td>\n    </tr>\n    <tr>\n      <th>soki świeże i tłoczone</th>\n      <td>40</td>\n      <td>37</td>\n      <td>34</td>\n      <td>37</td>\n      <td>40</td>\n      <td>40</td>\n      <td>6</td>\n      <td>40</td>\n      <td>10</td>\n      <td>0</td>\n      <td>40</td>\n      <td>40</td>\n      <td>34</td>\n      <td>40</td>\n      <td>40</td>\n      <td>37</td>\n    </tr>\n    <tr>\n      <th>mama i dziecko</th>\n      <td>24</td>\n      <td>24</td>\n      <td>24</td>\n      <td>6</td>\n      <td>24</td>\n      <td>24</td>\n      <td>4</td>\n      <td>24</td>\n      <td>18</td>\n      <td>4</td>\n      <td>24</td>\n      <td>24</td>\n      <td>10</td>\n      <td>24</td>\n      <td>24</td>\n      <td>18</td>\n    </tr>\n    <tr>\n      <th>strefa roślinna</th>\n      <td>20</td>\n      <td>20</td>\n      <td>20</td>\n      <td>20</td>\n      <td>20</td>\n      <td>20</td>\n      <td>0</td>\n      <td>20</td>\n      <td>8</td>\n      <td>0</td>\n      <td>20</td>\n      <td>20</td>\n      <td>20</td>\n      <td>20</td>\n      <td>20</td>\n      <td>0</td>\n    </tr>\n    <tr>\n      <th>zdrowa żywność</th>\n      <td>8</td>\n      <td>8</td>\n      <td>8</td>\n      <td>0</td>\n      <td>8</td>\n      <td>6</td>\n      <td>0</td>\n      <td>8</td>\n      <td>6</td>\n      <td>0</td>\n      <td>8</td>\n      <td>8</td>\n      <td>8</td>\n      <td>8</td>\n      <td>8</td>\n      <td>0</td>\n    </tr>\n    <tr>\n      <th>spożywcze</th>\n      <td>6</td>\n      <td>6</td>\n      <td>6</td>\n      <td>4</td>\n      <td>6</td>\n      <td>6</td>\n      <td>0</td>\n      <td>6</td>\n      <td>4</td>\n      <td>2</td>\n      <td>6</td>\n      <td>6</td>\n      <td>2</td>\n      <td>6</td>\n      <td>6</td>\n      <td>4</td>\n    </tr>\n    <tr>\n      <th>artykuły spożywcze</th>\n      <td>3</td>\n      <td>0</td>\n      <td>2</td>\n      <td>0</td>\n      <td>3</td>\n      <td>3</td>\n      <td>0</td>\n      <td>3</td>\n      <td>0</td>\n      <td>0</td>\n      <td>3</td>\n      <td>3</td>\n      <td>3</td>\n      <td>3</td>\n      <td>3</td>\n      <td>0</td>\n    </tr>\n    <tr>\n      <th>artykuły przemysłowe</th>\n      <td>2</td>\n      <td>2</td>\n      <td>2</td>\n      <td>0</td>\n      <td>2</td>\n      <td>1</td>\n      <td>0</td>\n      <td>2</td>\n      <td>0</td>\n      <td>0</td>\n      <td>2</td>\n      <td>2</td>\n      <td>0</td>\n      <td>2</td>\n      <td>2</td>\n      <td>0</td>\n    </tr>\n    <tr>\n      <th>warzywniak</th>\n      <td>1</td>\n      <td>1</td>\n      <td>1</td>\n      <td>1</td>\n      <td>1</td>\n      <td>1</td>\n      <td>0</td>\n      <td>1</td>\n      <td>1</td>\n      <td>0</td>\n      <td>1</td>\n      <td>1</td>\n      <td>1</td>\n      <td>1</td>\n      <td>1</td>\n      <td>1</td>\n    </tr>\n  </tbody>\n</table>\n</div>"
     },
     "metadata": {},
     "execution_count": 290
    }
   ],
   "source": [
    "df['main_category'] = categories[0]\n",
    "df['main_category'] = df['main_category'].str.lower()\n",
    "df['main_category'] = df['main_category'].str.strip()\n",
    "df.groupby(by='main_category').count().sort_values(by='EAN', ascending=False)"
   ],
   "metadata": {
    "collapsed": false,
    "pycharm": {
     "name": "#%%\n"
    }
   }
  },
  {
   "cell_type": "markdown",
   "source": [
    "Unify category names"
   ],
   "metadata": {
    "collapsed": false,
    "pycharm": {
     "name": "#%% md\n"
    }
   }
  },
  {
   "cell_type": "code",
   "execution_count": 291,
   "outputs": [
    {
     "output_type": "execute_result",
     "data": {
      "text/plain": [
       "                       EAN  amount  brand  capacity  category  description  \\\n",
       "main_category                                                                \n",
       "napoje                3979    3939   3773      3332      3979         3732   \n",
       "chemia                3909    3762   3612      1783      3909         3670   \n",
       "alkohol                323     254    154       319       323          277   \n",
       "bio                     86      86     86        64        86           86   \n",
       "mama i dziecko          24      24     24         6        24           24   \n",
       "strefa roślinna         20      20     20        20        20           20   \n",
       "zdrowa żywność           8       8      8         0         8            6   \n",
       "spożywcze                6       6      6         4         6            6   \n",
       "artykuły spożywcze       3       0      2         0         3            3   \n",
       "artykuły przemysłowe     2       2      2         0         2            1   \n",
       "warzywniak               1       1      1         1         1            1   \n",
       "\n",
       "                      extras  image_url  ingredients  origin  price  seller  \\\n",
       "main_category                                                                 \n",
       "napoje                  1437       3979         2514     405   3669    3979   \n",
       "chemia                     4       3909         2629    1365   3909    3909   \n",
       "alkohol                  222        316           37      43    168     315   \n",
       "bio                        0         86           30      12     86      86   \n",
       "mama i dziecko             4         24           18       4     24      24   \n",
       "strefa roślinna            0         20            8       0     20      20   \n",
       "zdrowa żywność             0          8            6       0      8       8   \n",
       "spożywcze                  0          6            4       2      6       6   \n",
       "artykuły spożywcze         0          3            0       0      3       3   \n",
       "artykuły przemysłowe       0          2            0       0      2       2   \n",
       "warzywniak                 0          1            1       0      1       1   \n",
       "\n",
       "                      storage  title   url  weight  \n",
       "main_category                                       \n",
       "napoje                   2671   3979  3979    1707  \n",
       "chemia                   1866   3909  3909    2409  \n",
       "alkohol                    30    323   316     115  \n",
       "bio                        29     86    86      26  \n",
       "mama i dziecko             10     24    24      18  \n",
       "strefa roślinna            20     20    20       0  \n",
       "zdrowa żywność              8      8     8       0  \n",
       "spożywcze                   2      6     6       4  \n",
       "artykuły spożywcze          3      3     3       0  \n",
       "artykuły przemysłowe        0      2     2       0  \n",
       "warzywniak                  1      1     1       1  "
      ],
      "text/html": "<div>\n<style scoped>\n    .dataframe tbody tr th:only-of-type {\n        vertical-align: middle;\n    }\n\n    .dataframe tbody tr th {\n        vertical-align: top;\n    }\n\n    .dataframe thead th {\n        text-align: right;\n    }\n</style>\n<table border=\"1\" class=\"dataframe\">\n  <thead>\n    <tr style=\"text-align: right;\">\n      <th></th>\n      <th>EAN</th>\n      <th>amount</th>\n      <th>brand</th>\n      <th>capacity</th>\n      <th>category</th>\n      <th>description</th>\n      <th>extras</th>\n      <th>image_url</th>\n      <th>ingredients</th>\n      <th>origin</th>\n      <th>price</th>\n      <th>seller</th>\n      <th>storage</th>\n      <th>title</th>\n      <th>url</th>\n      <th>weight</th>\n    </tr>\n    <tr>\n      <th>main_category</th>\n      <th></th>\n      <th></th>\n      <th></th>\n      <th></th>\n      <th></th>\n      <th></th>\n      <th></th>\n      <th></th>\n      <th></th>\n      <th></th>\n      <th></th>\n      <th></th>\n      <th></th>\n      <th></th>\n      <th></th>\n      <th></th>\n    </tr>\n  </thead>\n  <tbody>\n    <tr>\n      <th>napoje</th>\n      <td>3979</td>\n      <td>3939</td>\n      <td>3773</td>\n      <td>3332</td>\n      <td>3979</td>\n      <td>3732</td>\n      <td>1437</td>\n      <td>3979</td>\n      <td>2514</td>\n      <td>405</td>\n      <td>3669</td>\n      <td>3979</td>\n      <td>2671</td>\n      <td>3979</td>\n      <td>3979</td>\n      <td>1707</td>\n    </tr>\n    <tr>\n      <th>chemia</th>\n      <td>3909</td>\n      <td>3762</td>\n      <td>3612</td>\n      <td>1783</td>\n      <td>3909</td>\n      <td>3670</td>\n      <td>4</td>\n      <td>3909</td>\n      <td>2629</td>\n      <td>1365</td>\n      <td>3909</td>\n      <td>3909</td>\n      <td>1866</td>\n      <td>3909</td>\n      <td>3909</td>\n      <td>2409</td>\n    </tr>\n    <tr>\n      <th>alkohol</th>\n      <td>323</td>\n      <td>254</td>\n      <td>154</td>\n      <td>319</td>\n      <td>323</td>\n      <td>277</td>\n      <td>222</td>\n      <td>316</td>\n      <td>37</td>\n      <td>43</td>\n      <td>168</td>\n      <td>315</td>\n      <td>30</td>\n      <td>323</td>\n      <td>316</td>\n      <td>115</td>\n    </tr>\n    <tr>\n      <th>bio</th>\n      <td>86</td>\n      <td>86</td>\n      <td>86</td>\n      <td>64</td>\n      <td>86</td>\n      <td>86</td>\n      <td>0</td>\n      <td>86</td>\n      <td>30</td>\n      <td>12</td>\n      <td>86</td>\n      <td>86</td>\n      <td>29</td>\n      <td>86</td>\n      <td>86</td>\n      <td>26</td>\n    </tr>\n    <tr>\n      <th>mama i dziecko</th>\n      <td>24</td>\n      <td>24</td>\n      <td>24</td>\n      <td>6</td>\n      <td>24</td>\n      <td>24</td>\n      <td>4</td>\n      <td>24</td>\n      <td>18</td>\n      <td>4</td>\n      <td>24</td>\n      <td>24</td>\n      <td>10</td>\n      <td>24</td>\n      <td>24</td>\n      <td>18</td>\n    </tr>\n    <tr>\n      <th>strefa roślinna</th>\n      <td>20</td>\n      <td>20</td>\n      <td>20</td>\n      <td>20</td>\n      <td>20</td>\n      <td>20</td>\n      <td>0</td>\n      <td>20</td>\n      <td>8</td>\n      <td>0</td>\n      <td>20</td>\n      <td>20</td>\n      <td>20</td>\n      <td>20</td>\n      <td>20</td>\n      <td>0</td>\n    </tr>\n    <tr>\n      <th>zdrowa żywność</th>\n      <td>8</td>\n      <td>8</td>\n      <td>8</td>\n      <td>0</td>\n      <td>8</td>\n      <td>6</td>\n      <td>0</td>\n      <td>8</td>\n      <td>6</td>\n      <td>0</td>\n      <td>8</td>\n      <td>8</td>\n      <td>8</td>\n      <td>8</td>\n      <td>8</td>\n      <td>0</td>\n    </tr>\n    <tr>\n      <th>spożywcze</th>\n      <td>6</td>\n      <td>6</td>\n      <td>6</td>\n      <td>4</td>\n      <td>6</td>\n      <td>6</td>\n      <td>0</td>\n      <td>6</td>\n      <td>4</td>\n      <td>2</td>\n      <td>6</td>\n      <td>6</td>\n      <td>2</td>\n      <td>6</td>\n      <td>6</td>\n      <td>4</td>\n    </tr>\n    <tr>\n      <th>artykuły spożywcze</th>\n      <td>3</td>\n      <td>0</td>\n      <td>2</td>\n      <td>0</td>\n      <td>3</td>\n      <td>3</td>\n      <td>0</td>\n      <td>3</td>\n      <td>0</td>\n      <td>0</td>\n      <td>3</td>\n      <td>3</td>\n      <td>3</td>\n      <td>3</td>\n      <td>3</td>\n      <td>0</td>\n    </tr>\n    <tr>\n      <th>artykuły przemysłowe</th>\n      <td>2</td>\n      <td>2</td>\n      <td>2</td>\n      <td>0</td>\n      <td>2</td>\n      <td>1</td>\n      <td>0</td>\n      <td>2</td>\n      <td>0</td>\n      <td>0</td>\n      <td>2</td>\n      <td>2</td>\n      <td>0</td>\n      <td>2</td>\n      <td>2</td>\n      <td>0</td>\n    </tr>\n    <tr>\n      <th>warzywniak</th>\n      <td>1</td>\n      <td>1</td>\n      <td>1</td>\n      <td>1</td>\n      <td>1</td>\n      <td>1</td>\n      <td>0</td>\n      <td>1</td>\n      <td>1</td>\n      <td>0</td>\n      <td>1</td>\n      <td>1</td>\n      <td>1</td>\n      <td>1</td>\n      <td>1</td>\n      <td>1</td>\n    </tr>\n  </tbody>\n</table>\n</div>"
     },
     "metadata": {},
     "execution_count": 291
    }
   ],
   "source": [
    "def map_prime_category(data, old_value, new_value):\n",
    "    data.at[df['main_category'] == old_value, 'main_category'] = new_value\n",
    "    return data\n",
    "\n",
    "df = map_prime_category(df, 'woda i napoje', 'napoje')\n",
    "df = map_prime_category(df, 'soki świeże i tłoczone', 'napoje')\n",
    "df = map_prime_category(df, 'środki czystości, chemia', 'chemia')\n",
    "df = map_prime_category(df, 'drogeria', 'chemia')\n",
    "df.groupby(by='main_category').count().sort_values(by='EAN', ascending=False)"
   ],
   "metadata": {
    "collapsed": false,
    "pycharm": {
     "name": "#%%\n"
    }
   }
  },
  {
   "cell_type": "markdown",
   "source": [
    "Select only \"napoje\" and \"chemia\""
   ],
   "metadata": {
    "collapsed": false,
    "pycharm": {
     "name": "#%% md\n"
    }
   }
  },
  {
   "cell_type": "code",
   "execution_count": 292,
   "outputs": [
    {
     "output_type": "stream",
     "name": "stdout",
     "text": [
      "Value counts\n"
     ]
    },
    {
     "output_type": "execute_result",
     "data": {
      "text/plain": [
       "                EAN  amount  brand  capacity  category  description  extras  \\\n",
       "main_category                                                                 \n",
       "napoje         3979    3939   3773      3332      3979         3732    1437   \n",
       "chemia         3909    3762   3612      1783      3909         3670       4   \n",
       "\n",
       "               image_url  ingredients  origin  price  seller  storage  title  \\\n",
       "main_category                                                                  \n",
       "napoje              3979         2514     405   3669    3979     2671   3979   \n",
       "chemia              3909         2629    1365   3909    3909     1866   3909   \n",
       "\n",
       "                url  weight  \n",
       "main_category                \n",
       "napoje         3979    1707  \n",
       "chemia         3909    2409  "
      ],
      "text/html": "<div>\n<style scoped>\n    .dataframe tbody tr th:only-of-type {\n        vertical-align: middle;\n    }\n\n    .dataframe tbody tr th {\n        vertical-align: top;\n    }\n\n    .dataframe thead th {\n        text-align: right;\n    }\n</style>\n<table border=\"1\" class=\"dataframe\">\n  <thead>\n    <tr style=\"text-align: right;\">\n      <th></th>\n      <th>EAN</th>\n      <th>amount</th>\n      <th>brand</th>\n      <th>capacity</th>\n      <th>category</th>\n      <th>description</th>\n      <th>extras</th>\n      <th>image_url</th>\n      <th>ingredients</th>\n      <th>origin</th>\n      <th>price</th>\n      <th>seller</th>\n      <th>storage</th>\n      <th>title</th>\n      <th>url</th>\n      <th>weight</th>\n    </tr>\n    <tr>\n      <th>main_category</th>\n      <th></th>\n      <th></th>\n      <th></th>\n      <th></th>\n      <th></th>\n      <th></th>\n      <th></th>\n      <th></th>\n      <th></th>\n      <th></th>\n      <th></th>\n      <th></th>\n      <th></th>\n      <th></th>\n      <th></th>\n      <th></th>\n    </tr>\n  </thead>\n  <tbody>\n    <tr>\n      <th>napoje</th>\n      <td>3979</td>\n      <td>3939</td>\n      <td>3773</td>\n      <td>3332</td>\n      <td>3979</td>\n      <td>3732</td>\n      <td>1437</td>\n      <td>3979</td>\n      <td>2514</td>\n      <td>405</td>\n      <td>3669</td>\n      <td>3979</td>\n      <td>2671</td>\n      <td>3979</td>\n      <td>3979</td>\n      <td>1707</td>\n    </tr>\n    <tr>\n      <th>chemia</th>\n      <td>3909</td>\n      <td>3762</td>\n      <td>3612</td>\n      <td>1783</td>\n      <td>3909</td>\n      <td>3670</td>\n      <td>4</td>\n      <td>3909</td>\n      <td>2629</td>\n      <td>1365</td>\n      <td>3909</td>\n      <td>3909</td>\n      <td>1866</td>\n      <td>3909</td>\n      <td>3909</td>\n      <td>2409</td>\n    </tr>\n  </tbody>\n</table>\n</div>"
     },
     "metadata": {},
     "execution_count": 292
    }
   ],
   "source": [
    "df = df.loc[df['main_category'].isin(['napoje', 'chemia'])]\n",
    "print('Value counts')\n",
    "df.groupby(by='main_category').count().sort_values(by='EAN', ascending=False)"
   ],
   "metadata": {
    "collapsed": false,
    "pycharm": {
     "name": "#%%\n"
    }
   }
  },
  {
   "cell_type": "markdown",
   "source": [
    "Combination of EAN and seller must be unique.\n",
    "\n",
    "We want offers to be unique in every seller."
   ],
   "metadata": {
    "collapsed": false,
    "pycharm": {
     "name": "#%% md\n"
    }
   }
  },
  {
   "cell_type": "code",
   "execution_count": 293,
   "outputs": [
    {
     "output_type": "stream",
     "name": "stdout",
     "text": [
      "Unique\n"
     ]
    },
    {
     "output_type": "execute_result",
     "data": {
      "text/plain": [
       "main_category\n",
       "chemia    2699\n",
       "napoje    2782\n",
       "Name: EAN_seller, dtype: int64"
      ]
     },
     "metadata": {},
     "execution_count": 293
    }
   ],
   "source": [
    "df['EAN_seller'] = df['EAN'] + '_' + df['seller']\n",
    "print('Unique')\n",
    "df.groupby(by='main_category')['EAN_seller'].nunique()"
   ],
   "metadata": {
    "collapsed": false,
    "pycharm": {
     "name": "#%%\n"
    }
   }
  },
  {
   "cell_type": "code",
   "execution_count": 294,
   "outputs": [
    {
     "output_type": "stream",
     "name": "stdout",
     "text": [
      "Value counts\n"
     ]
    },
    {
     "output_type": "execute_result",
     "data": {
      "text/plain": [
       "                EAN  amount  brand  capacity  category  description  extras  \\\n",
       "main_category                                                                 \n",
       "napoje         2782    2742   2576      2145      2782         2535    1114   \n",
       "chemia         2699    2552   2402      1164      2699         2460       3   \n",
       "\n",
       "               image_url  ingredients  origin  price  seller  storage  title  \\\n",
       "main_category                                                                  \n",
       "napoje              2782         1759     313   2474    2782     1836   2782   \n",
       "chemia              2699         1873     999   2699    2699     1318   2699   \n",
       "\n",
       "                url  weight  EAN_seller  \n",
       "main_category                            \n",
       "napoje         2782    1180        2782  \n",
       "chemia         2699    1481        2699  "
      ],
      "text/html": "<div>\n<style scoped>\n    .dataframe tbody tr th:only-of-type {\n        vertical-align: middle;\n    }\n\n    .dataframe tbody tr th {\n        vertical-align: top;\n    }\n\n    .dataframe thead th {\n        text-align: right;\n    }\n</style>\n<table border=\"1\" class=\"dataframe\">\n  <thead>\n    <tr style=\"text-align: right;\">\n      <th></th>\n      <th>EAN</th>\n      <th>amount</th>\n      <th>brand</th>\n      <th>capacity</th>\n      <th>category</th>\n      <th>description</th>\n      <th>extras</th>\n      <th>image_url</th>\n      <th>ingredients</th>\n      <th>origin</th>\n      <th>price</th>\n      <th>seller</th>\n      <th>storage</th>\n      <th>title</th>\n      <th>url</th>\n      <th>weight</th>\n      <th>EAN_seller</th>\n    </tr>\n    <tr>\n      <th>main_category</th>\n      <th></th>\n      <th></th>\n      <th></th>\n      <th></th>\n      <th></th>\n      <th></th>\n      <th></th>\n      <th></th>\n      <th></th>\n      <th></th>\n      <th></th>\n      <th></th>\n      <th></th>\n      <th></th>\n      <th></th>\n      <th></th>\n      <th></th>\n    </tr>\n  </thead>\n  <tbody>\n    <tr>\n      <th>napoje</th>\n      <td>2782</td>\n      <td>2742</td>\n      <td>2576</td>\n      <td>2145</td>\n      <td>2782</td>\n      <td>2535</td>\n      <td>1114</td>\n      <td>2782</td>\n      <td>1759</td>\n      <td>313</td>\n      <td>2474</td>\n      <td>2782</td>\n      <td>1836</td>\n      <td>2782</td>\n      <td>2782</td>\n      <td>1180</td>\n      <td>2782</td>\n    </tr>\n    <tr>\n      <th>chemia</th>\n      <td>2699</td>\n      <td>2552</td>\n      <td>2402</td>\n      <td>1164</td>\n      <td>2699</td>\n      <td>2460</td>\n      <td>3</td>\n      <td>2699</td>\n      <td>1873</td>\n      <td>999</td>\n      <td>2699</td>\n      <td>2699</td>\n      <td>1318</td>\n      <td>2699</td>\n      <td>2699</td>\n      <td>1481</td>\n      <td>2699</td>\n    </tr>\n  </tbody>\n</table>\n</div>"
     },
     "metadata": {},
     "execution_count": 294
    }
   ],
   "source": [
    "df = df.drop_duplicates(subset=['EAN_seller'])\n",
    "print('Value counts')\n",
    "df.groupby(by='main_category').count().sort_values(by='EAN', ascending=False)"
   ],
   "metadata": {
    "collapsed": false,
    "pycharm": {
     "name": "#%%\n"
    }
   }
  },
  {
   "cell_type": "code",
   "execution_count": 295,
   "outputs": [
    {
     "output_type": "stream",
     "name": "stdout",
     "text": [
      "Unique\n"
     ]
    },
    {
     "output_type": "execute_result",
     "data": {
      "text/plain": [
       "                EAN  amount  brand  capacity  category  description  extras  \\\n",
       "main_category                                                                 \n",
       "chemia         1797     365    174       192      1218         1713       3   \n",
       "napoje         2078     195    238       153       709         1671      94   \n",
       "\n",
       "               image_url  ingredients  origin  price  seller  storage  title  \\\n",
       "main_category                                                                  \n",
       "chemia              2699          856      42    451       3      222   2304   \n",
       "napoje              2782          892      26    454       4      327   1818   \n",
       "\n",
       "                url  weight  EAN_seller  \n",
       "main_category                            \n",
       "chemia         2699     602        2699  \n",
       "napoje         2782     302        2782  "
      ],
      "text/html": "<div>\n<style scoped>\n    .dataframe tbody tr th:only-of-type {\n        vertical-align: middle;\n    }\n\n    .dataframe tbody tr th {\n        vertical-align: top;\n    }\n\n    .dataframe thead th {\n        text-align: right;\n    }\n</style>\n<table border=\"1\" class=\"dataframe\">\n  <thead>\n    <tr style=\"text-align: right;\">\n      <th></th>\n      <th>EAN</th>\n      <th>amount</th>\n      <th>brand</th>\n      <th>capacity</th>\n      <th>category</th>\n      <th>description</th>\n      <th>extras</th>\n      <th>image_url</th>\n      <th>ingredients</th>\n      <th>origin</th>\n      <th>price</th>\n      <th>seller</th>\n      <th>storage</th>\n      <th>title</th>\n      <th>url</th>\n      <th>weight</th>\n      <th>EAN_seller</th>\n    </tr>\n    <tr>\n      <th>main_category</th>\n      <th></th>\n      <th></th>\n      <th></th>\n      <th></th>\n      <th></th>\n      <th></th>\n      <th></th>\n      <th></th>\n      <th></th>\n      <th></th>\n      <th></th>\n      <th></th>\n      <th></th>\n      <th></th>\n      <th></th>\n      <th></th>\n      <th></th>\n    </tr>\n  </thead>\n  <tbody>\n    <tr>\n      <th>chemia</th>\n      <td>1797</td>\n      <td>365</td>\n      <td>174</td>\n      <td>192</td>\n      <td>1218</td>\n      <td>1713</td>\n      <td>3</td>\n      <td>2699</td>\n      <td>856</td>\n      <td>42</td>\n      <td>451</td>\n      <td>3</td>\n      <td>222</td>\n      <td>2304</td>\n      <td>2699</td>\n      <td>602</td>\n      <td>2699</td>\n    </tr>\n    <tr>\n      <th>napoje</th>\n      <td>2078</td>\n      <td>195</td>\n      <td>238</td>\n      <td>153</td>\n      <td>709</td>\n      <td>1671</td>\n      <td>94</td>\n      <td>2782</td>\n      <td>892</td>\n      <td>26</td>\n      <td>454</td>\n      <td>4</td>\n      <td>327</td>\n      <td>1818</td>\n      <td>2782</td>\n      <td>302</td>\n      <td>2782</td>\n    </tr>\n  </tbody>\n</table>\n</div>"
     },
     "metadata": {},
     "execution_count": 295
    }
   ],
   "source": [
    "print('Unique')\n",
    "df.groupby(by='main_category').nunique()"
   ],
   "metadata": {
    "collapsed": false,
    "pycharm": {
     "name": "#%%\n"
    }
   }
  },
  {
   "cell_type": "code",
   "execution_count": 296,
   "outputs": [],
   "source": [
    "df = df.drop('EAN_seller', axis=1)"
   ],
   "metadata": {
    "collapsed": false,
    "pycharm": {
     "name": "#%%\n"
    }
   }
  },
  {
   "cell_type": "markdown",
   "source": [
    "Select products which are present in more than one shop"
   ],
   "metadata": {
    "collapsed": false,
    "pycharm": {
     "name": "#%% md\n"
    }
   }
  },
  {
   "cell_type": "code",
   "execution_count": 297,
   "outputs": [
    {
     "output_type": "execute_result",
     "data": {
      "text/plain": [
       "1    2639\n",
       "2     866\n",
       "3     370\n",
       "Name: EAN, dtype: int64"
      ]
     },
     "metadata": {},
     "execution_count": 297
    }
   ],
   "source": [
    "ean_counts = df['EAN'].value_counts()\n",
    "ean_counts.value_counts()"
   ],
   "metadata": {
    "collapsed": false,
    "pycharm": {
     "name": "#%%\n"
    }
   }
  },
  {
   "cell_type": "code",
   "execution_count": 298,
   "outputs": [
    {
     "output_type": "stream",
     "name": "stdout",
     "text": [
      "Value counts\n"
     ]
    },
    {
     "output_type": "execute_result",
     "data": {
      "text/plain": [
       "                EAN  amount  brand  capacity  category  description  extras  \\\n",
       "main_category                                                                 \n",
       "chemia         1585    1470   1392       719      1585         1446       3   \n",
       "napoje         1257    1229   1122       839      1257         1096     475   \n",
       "\n",
       "               image_url  ingredients  origin  price  seller  storage  title  \\\n",
       "main_category                                                                  \n",
       "chemia              1585         1282     694   1585    1585      835   1585   \n",
       "napoje              1257          947     149   1255    1257      941   1257   \n",
       "\n",
       "                url  weight  \n",
       "main_category                \n",
       "chemia         1585     796  \n",
       "napoje         1257     669  "
      ],
      "text/html": "<div>\n<style scoped>\n    .dataframe tbody tr th:only-of-type {\n        vertical-align: middle;\n    }\n\n    .dataframe tbody tr th {\n        vertical-align: top;\n    }\n\n    .dataframe thead th {\n        text-align: right;\n    }\n</style>\n<table border=\"1\" class=\"dataframe\">\n  <thead>\n    <tr style=\"text-align: right;\">\n      <th></th>\n      <th>EAN</th>\n      <th>amount</th>\n      <th>brand</th>\n      <th>capacity</th>\n      <th>category</th>\n      <th>description</th>\n      <th>extras</th>\n      <th>image_url</th>\n      <th>ingredients</th>\n      <th>origin</th>\n      <th>price</th>\n      <th>seller</th>\n      <th>storage</th>\n      <th>title</th>\n      <th>url</th>\n      <th>weight</th>\n    </tr>\n    <tr>\n      <th>main_category</th>\n      <th></th>\n      <th></th>\n      <th></th>\n      <th></th>\n      <th></th>\n      <th></th>\n      <th></th>\n      <th></th>\n      <th></th>\n      <th></th>\n      <th></th>\n      <th></th>\n      <th></th>\n      <th></th>\n      <th></th>\n      <th></th>\n    </tr>\n  </thead>\n  <tbody>\n    <tr>\n      <th>chemia</th>\n      <td>1585</td>\n      <td>1470</td>\n      <td>1392</td>\n      <td>719</td>\n      <td>1585</td>\n      <td>1446</td>\n      <td>3</td>\n      <td>1585</td>\n      <td>1282</td>\n      <td>694</td>\n      <td>1585</td>\n      <td>1585</td>\n      <td>835</td>\n      <td>1585</td>\n      <td>1585</td>\n      <td>796</td>\n    </tr>\n    <tr>\n      <th>napoje</th>\n      <td>1257</td>\n      <td>1229</td>\n      <td>1122</td>\n      <td>839</td>\n      <td>1257</td>\n      <td>1096</td>\n      <td>475</td>\n      <td>1257</td>\n      <td>947</td>\n      <td>149</td>\n      <td>1255</td>\n      <td>1257</td>\n      <td>941</td>\n      <td>1257</td>\n      <td>1257</td>\n      <td>669</td>\n    </tr>\n  </tbody>\n</table>\n</div>"
     },
     "metadata": {},
     "execution_count": 298
    }
   ],
   "source": [
    "df = df[df['EAN'].isin(ean_counts[ean_counts > 1].index)]\n",
    "print('Value counts')\n",
    "df.groupby(by='main_category').count().sort_values(by='EAN', ascending=False)"
   ],
   "metadata": {
    "collapsed": false,
    "pycharm": {
     "name": "#%%\n"
    }
   }
  },
  {
   "cell_type": "code",
   "execution_count": 299,
   "outputs": [
    {
     "output_type": "stream",
     "name": "stdout",
     "text": [
      "Unique\n"
     ]
    },
    {
     "output_type": "execute_result",
     "data": {
      "text/plain": [
       "               EAN  amount  brand  capacity  category  description  extras  \\\n",
       "main_category                                                                \n",
       "chemia         683     240    125       130       546          889       3   \n",
       "napoje         553      90    128        64       339          874      58   \n",
       "\n",
       "               image_url  ingredients  origin  price  seller  storage  title  \\\n",
       "main_category                                                                  \n",
       "chemia              1585          495      31    316       3      127   1239   \n",
       "napoje              1257          447      14    242       3      184    863   \n",
       "\n",
       "                url  weight  \n",
       "main_category                \n",
       "chemia         1585     352  \n",
       "napoje         1257     201  "
      ],
      "text/html": "<div>\n<style scoped>\n    .dataframe tbody tr th:only-of-type {\n        vertical-align: middle;\n    }\n\n    .dataframe tbody tr th {\n        vertical-align: top;\n    }\n\n    .dataframe thead th {\n        text-align: right;\n    }\n</style>\n<table border=\"1\" class=\"dataframe\">\n  <thead>\n    <tr style=\"text-align: right;\">\n      <th></th>\n      <th>EAN</th>\n      <th>amount</th>\n      <th>brand</th>\n      <th>capacity</th>\n      <th>category</th>\n      <th>description</th>\n      <th>extras</th>\n      <th>image_url</th>\n      <th>ingredients</th>\n      <th>origin</th>\n      <th>price</th>\n      <th>seller</th>\n      <th>storage</th>\n      <th>title</th>\n      <th>url</th>\n      <th>weight</th>\n    </tr>\n    <tr>\n      <th>main_category</th>\n      <th></th>\n      <th></th>\n      <th></th>\n      <th></th>\n      <th></th>\n      <th></th>\n      <th></th>\n      <th></th>\n      <th></th>\n      <th></th>\n      <th></th>\n      <th></th>\n      <th></th>\n      <th></th>\n      <th></th>\n      <th></th>\n    </tr>\n  </thead>\n  <tbody>\n    <tr>\n      <th>chemia</th>\n      <td>683</td>\n      <td>240</td>\n      <td>125</td>\n      <td>130</td>\n      <td>546</td>\n      <td>889</td>\n      <td>3</td>\n      <td>1585</td>\n      <td>495</td>\n      <td>31</td>\n      <td>316</td>\n      <td>3</td>\n      <td>127</td>\n      <td>1239</td>\n      <td>1585</td>\n      <td>352</td>\n    </tr>\n    <tr>\n      <th>napoje</th>\n      <td>553</td>\n      <td>90</td>\n      <td>128</td>\n      <td>64</td>\n      <td>339</td>\n      <td>874</td>\n      <td>58</td>\n      <td>1257</td>\n      <td>447</td>\n      <td>14</td>\n      <td>242</td>\n      <td>3</td>\n      <td>184</td>\n      <td>863</td>\n      <td>1257</td>\n      <td>201</td>\n    </tr>\n  </tbody>\n</table>\n</div>"
     },
     "metadata": {},
     "execution_count": 299
    }
   ],
   "source": [
    "print('Unique')\n",
    "df.groupby(by='main_category').nunique()"
   ],
   "metadata": {
    "collapsed": false,
    "pycharm": {
     "name": "#%%\n"
    }
   }
  },
  {
   "cell_type": "code",
   "execution_count": 300,
   "outputs": [
    {
     "output_type": "execute_result",
     "data": {
      "text/plain": [
       "                  EAN  amount  brand  capacity  category  description  extras  \\\n",
       "seller                                                                          \n",
       "Frisco            888     888    888       697       888          888     135   \n",
       "Leclerc Rzeszów  1003     861    691       861      1003         1003     201   \n",
       "Leclerc lublin    951     950    935         0       951          651     142   \n",
       "\n",
       "                 image_url  ingredients  origin  price  storage  title   url  \\\n",
       "seller                                                                         \n",
       "Frisco                 888          692     249    888      528    888   888   \n",
       "Leclerc Rzeszów       1003          757     269   1003      549   1003  1003   \n",
       "Leclerc lublin         951          780     325    949      699    951   951   \n",
       "\n",
       "                 weight  main_category  \n",
       "seller                                  \n",
       "Frisco              604            888  \n",
       "Leclerc Rzeszów     861           1003  \n",
       "Leclerc lublin        0            951  "
      ],
      "text/html": "<div>\n<style scoped>\n    .dataframe tbody tr th:only-of-type {\n        vertical-align: middle;\n    }\n\n    .dataframe tbody tr th {\n        vertical-align: top;\n    }\n\n    .dataframe thead th {\n        text-align: right;\n    }\n</style>\n<table border=\"1\" class=\"dataframe\">\n  <thead>\n    <tr style=\"text-align: right;\">\n      <th></th>\n      <th>EAN</th>\n      <th>amount</th>\n      <th>brand</th>\n      <th>capacity</th>\n      <th>category</th>\n      <th>description</th>\n      <th>extras</th>\n      <th>image_url</th>\n      <th>ingredients</th>\n      <th>origin</th>\n      <th>price</th>\n      <th>storage</th>\n      <th>title</th>\n      <th>url</th>\n      <th>weight</th>\n      <th>main_category</th>\n    </tr>\n    <tr>\n      <th>seller</th>\n      <th></th>\n      <th></th>\n      <th></th>\n      <th></th>\n      <th></th>\n      <th></th>\n      <th></th>\n      <th></th>\n      <th></th>\n      <th></th>\n      <th></th>\n      <th></th>\n      <th></th>\n      <th></th>\n      <th></th>\n      <th></th>\n    </tr>\n  </thead>\n  <tbody>\n    <tr>\n      <th>Frisco</th>\n      <td>888</td>\n      <td>888</td>\n      <td>888</td>\n      <td>697</td>\n      <td>888</td>\n      <td>888</td>\n      <td>135</td>\n      <td>888</td>\n      <td>692</td>\n      <td>249</td>\n      <td>888</td>\n      <td>528</td>\n      <td>888</td>\n      <td>888</td>\n      <td>604</td>\n      <td>888</td>\n    </tr>\n    <tr>\n      <th>Leclerc Rzeszów</th>\n      <td>1003</td>\n      <td>861</td>\n      <td>691</td>\n      <td>861</td>\n      <td>1003</td>\n      <td>1003</td>\n      <td>201</td>\n      <td>1003</td>\n      <td>757</td>\n      <td>269</td>\n      <td>1003</td>\n      <td>549</td>\n      <td>1003</td>\n      <td>1003</td>\n      <td>861</td>\n      <td>1003</td>\n    </tr>\n    <tr>\n      <th>Leclerc lublin</th>\n      <td>951</td>\n      <td>950</td>\n      <td>935</td>\n      <td>0</td>\n      <td>951</td>\n      <td>651</td>\n      <td>142</td>\n      <td>951</td>\n      <td>780</td>\n      <td>325</td>\n      <td>949</td>\n      <td>699</td>\n      <td>951</td>\n      <td>951</td>\n      <td>0</td>\n      <td>951</td>\n    </tr>\n  </tbody>\n</table>\n</div>"
     },
     "metadata": {},
     "execution_count": 300
    }
   ],
   "source": [
    "df.groupby(by='seller').count()"
   ],
   "metadata": {
    "collapsed": false,
    "pycharm": {
     "name": "#%%\n"
    }
   }
  },
  {
   "cell_type": "code",
   "execution_count": 301,
   "outputs": [
    {
     "output_type": "execute_result",
     "data": {
      "text/plain": [
       "Text(0.5, 1.0, 'Chemia')"
      ]
     },
     "metadata": {},
     "execution_count": 301
    },
    {
     "output_type": "display_data",
     "data": {
      "text/plain": "<Figure size 432x288 with 1 Axes>",
      "image/svg+xml": "<?xml version=\"1.0\" encoding=\"utf-8\" standalone=\"no\"?>\r\n<!DOCTYPE svg PUBLIC \"-//W3C//DTD SVG 1.1//EN\"\r\n  \"http://www.w3.org/Graphics/SVG/1.1/DTD/svg11.dtd\">\r\n<svg height=\"275.72pt\" version=\"1.1\" viewBox=\"0 0 386.028125 275.72\" width=\"386.028125pt\" xmlns=\"http://www.w3.org/2000/svg\" xmlns:xlink=\"http://www.w3.org/1999/xlink\">\r\n <metadata>\r\n  <rdf:RDF xmlns:cc=\"http://creativecommons.org/ns#\" xmlns:dc=\"http://purl.org/dc/elements/1.1/\" xmlns:rdf=\"http://www.w3.org/1999/02/22-rdf-syntax-ns#\">\r\n   <cc:Work>\r\n    <dc:type rdf:resource=\"http://purl.org/dc/dcmitype/StillImage\"/>\r\n    <dc:date>2021-04-12T11:46:33.923504</dc:date>\r\n    <dc:format>image/svg+xml</dc:format>\r\n    <dc:creator>\r\n     <cc:Agent>\r\n      <dc:title>Matplotlib v3.4.1, https://matplotlib.org/</dc:title>\r\n     </cc:Agent>\r\n    </dc:creator>\r\n   </cc:Work>\r\n  </rdf:RDF>\r\n </metadata>\r\n <defs>\r\n  <style type=\"text/css\">*{stroke-linecap:butt;stroke-linejoin:round;}</style>\r\n </defs>\r\n <g id=\"figure_1\">\r\n  <g id=\"patch_1\">\r\n   <path d=\"M 0 275.72 \r\nL 386.028125 275.72 \r\nL 386.028125 0 \r\nL 0 0 \r\nz\r\n\" style=\"fill:#ffffff;\"/>\r\n  </g>\r\n  <g id=\"axes_1\">\r\n   <g id=\"patch_2\">\r\n    <path d=\"M 44.028125 239.229375 \r\nL 378.828125 239.229375 \r\nL 378.828125 21.789375 \r\nL 44.028125 21.789375 \r\nz\r\n\" style=\"fill:#ffffff;\"/>\r\n   </g>\r\n   <g id=\"matplotlib.axis_1\">\r\n    <g id=\"xtick_1\">\r\n     <g id=\"line2d_1\">\r\n      <path clip-path=\"url(#p548143ebd7)\" d=\"M 109.97358 239.229375 \r\nL 109.97358 21.789375 \r\n\" style=\"fill:none;stroke:#cccccc;stroke-linecap:round;stroke-width:0.8;\"/>\r\n     </g>\r\n     <g id=\"text_1\">\r\n      <!-- Leclerc lublin -->\r\n      <g style=\"fill:#262626;\" transform=\"translate(80.793111 253.387188)scale(0.1 -0.1)\">\r\n       <defs>\r\n        <path d=\"M 469 0 \r\nL 469 4581 \r\nL 1075 4581 \r\nL 1075 541 \r\nL 3331 541 \r\nL 3331 0 \r\nL 469 0 \r\nz\r\n\" id=\"ArialMT-4c\" transform=\"scale(0.015625)\"/>\r\n        <path d=\"M 2694 1069 \r\nL 3275 997 \r\nQ 3138 488 2766 206 \r\nQ 2394 -75 1816 -75 \r\nQ 1088 -75 661 373 \r\nQ 234 822 234 1631 \r\nQ 234 2469 665 2931 \r\nQ 1097 3394 1784 3394 \r\nQ 2450 3394 2872 2941 \r\nQ 3294 2488 3294 1666 \r\nQ 3294 1616 3291 1516 \r\nL 816 1516 \r\nQ 847 969 1125 678 \r\nQ 1403 388 1819 388 \r\nQ 2128 388 2347 550 \r\nQ 2566 713 2694 1069 \r\nz\r\nM 847 1978 \r\nL 2700 1978 \r\nQ 2663 2397 2488 2606 \r\nQ 2219 2931 1791 2931 \r\nQ 1403 2931 1139 2672 \r\nQ 875 2413 847 1978 \r\nz\r\n\" id=\"ArialMT-65\" transform=\"scale(0.015625)\"/>\r\n        <path d=\"M 2588 1216 \r\nL 3141 1144 \r\nQ 3050 572 2676 248 \r\nQ 2303 -75 1759 -75 \r\nQ 1078 -75 664 370 \r\nQ 250 816 250 1647 \r\nQ 250 2184 428 2587 \r\nQ 606 2991 970 3192 \r\nQ 1334 3394 1763 3394 \r\nQ 2303 3394 2647 3120 \r\nQ 2991 2847 3088 2344 \r\nL 2541 2259 \r\nQ 2463 2594 2264 2762 \r\nQ 2066 2931 1784 2931 \r\nQ 1359 2931 1093 2626 \r\nQ 828 2322 828 1663 \r\nQ 828 994 1084 691 \r\nQ 1341 388 1753 388 \r\nQ 2084 388 2306 591 \r\nQ 2528 794 2588 1216 \r\nz\r\n\" id=\"ArialMT-63\" transform=\"scale(0.015625)\"/>\r\n        <path d=\"M 409 0 \r\nL 409 4581 \r\nL 972 4581 \r\nL 972 0 \r\nL 409 0 \r\nz\r\n\" id=\"ArialMT-6c\" transform=\"scale(0.015625)\"/>\r\n        <path d=\"M 416 0 \r\nL 416 3319 \r\nL 922 3319 \r\nL 922 2816 \r\nQ 1116 3169 1280 3281 \r\nQ 1444 3394 1641 3394 \r\nQ 1925 3394 2219 3213 \r\nL 2025 2691 \r\nQ 1819 2813 1613 2813 \r\nQ 1428 2813 1281 2702 \r\nQ 1134 2591 1072 2394 \r\nQ 978 2094 978 1738 \r\nL 978 0 \r\nL 416 0 \r\nz\r\n\" id=\"ArialMT-72\" transform=\"scale(0.015625)\"/>\r\n        <path id=\"ArialMT-20\" transform=\"scale(0.015625)\"/>\r\n        <path d=\"M 2597 0 \r\nL 2597 488 \r\nQ 2209 -75 1544 -75 \r\nQ 1250 -75 995 37 \r\nQ 741 150 617 320 \r\nQ 494 491 444 738 \r\nQ 409 903 409 1263 \r\nL 409 3319 \r\nL 972 3319 \r\nL 972 1478 \r\nQ 972 1038 1006 884 \r\nQ 1059 663 1231 536 \r\nQ 1403 409 1656 409 \r\nQ 1909 409 2131 539 \r\nQ 2353 669 2445 892 \r\nQ 2538 1116 2538 1541 \r\nL 2538 3319 \r\nL 3100 3319 \r\nL 3100 0 \r\nL 2597 0 \r\nz\r\n\" id=\"ArialMT-75\" transform=\"scale(0.015625)\"/>\r\n        <path d=\"M 941 0 \r\nL 419 0 \r\nL 419 4581 \r\nL 981 4581 \r\nL 981 2947 \r\nQ 1338 3394 1891 3394 \r\nQ 2197 3394 2470 3270 \r\nQ 2744 3147 2920 2923 \r\nQ 3097 2700 3197 2384 \r\nQ 3297 2069 3297 1709 \r\nQ 3297 856 2875 390 \r\nQ 2453 -75 1863 -75 \r\nQ 1275 -75 941 416 \r\nL 941 0 \r\nz\r\nM 934 1684 \r\nQ 934 1088 1097 822 \r\nQ 1363 388 1816 388 \r\nQ 2184 388 2453 708 \r\nQ 2722 1028 2722 1663 \r\nQ 2722 2313 2464 2622 \r\nQ 2206 2931 1841 2931 \r\nQ 1472 2931 1203 2611 \r\nQ 934 2291 934 1684 \r\nz\r\n\" id=\"ArialMT-62\" transform=\"scale(0.015625)\"/>\r\n        <path d=\"M 425 3934 \r\nL 425 4581 \r\nL 988 4581 \r\nL 988 3934 \r\nL 425 3934 \r\nz\r\nM 425 0 \r\nL 425 3319 \r\nL 988 3319 \r\nL 988 0 \r\nL 425 0 \r\nz\r\n\" id=\"ArialMT-69\" transform=\"scale(0.015625)\"/>\r\n        <path d=\"M 422 0 \r\nL 422 3319 \r\nL 928 3319 \r\nL 928 2847 \r\nQ 1294 3394 1984 3394 \r\nQ 2284 3394 2536 3286 \r\nQ 2788 3178 2913 3003 \r\nQ 3038 2828 3088 2588 \r\nQ 3119 2431 3119 2041 \r\nL 3119 0 \r\nL 2556 0 \r\nL 2556 2019 \r\nQ 2556 2363 2490 2533 \r\nQ 2425 2703 2258 2804 \r\nQ 2091 2906 1866 2906 \r\nQ 1506 2906 1245 2678 \r\nQ 984 2450 984 1813 \r\nL 984 0 \r\nL 422 0 \r\nz\r\n\" id=\"ArialMT-6e\" transform=\"scale(0.015625)\"/>\r\n       </defs>\r\n       <use xlink:href=\"#ArialMT-4c\"/>\r\n       <use x=\"55.615234\" xlink:href=\"#ArialMT-65\"/>\r\n       <use x=\"111.230469\" xlink:href=\"#ArialMT-63\"/>\r\n       <use x=\"161.230469\" xlink:href=\"#ArialMT-6c\"/>\r\n       <use x=\"183.447266\" xlink:href=\"#ArialMT-65\"/>\r\n       <use x=\"239.0625\" xlink:href=\"#ArialMT-72\"/>\r\n       <use x=\"272.363281\" xlink:href=\"#ArialMT-63\"/>\r\n       <use x=\"322.363281\" xlink:href=\"#ArialMT-20\"/>\r\n       <use x=\"350.146484\" xlink:href=\"#ArialMT-6c\"/>\r\n       <use x=\"372.363281\" xlink:href=\"#ArialMT-75\"/>\r\n       <use x=\"427.978516\" xlink:href=\"#ArialMT-62\"/>\r\n       <use x=\"483.59375\" xlink:href=\"#ArialMT-6c\"/>\r\n       <use x=\"505.810547\" xlink:href=\"#ArialMT-69\"/>\r\n       <use x=\"528.027344\" xlink:href=\"#ArialMT-6e\"/>\r\n      </g>\r\n     </g>\r\n    </g>\r\n    <g id=\"xtick_2\">\r\n     <g id=\"line2d_2\">\r\n      <path clip-path=\"url(#p548143ebd7)\" d=\"M 211.428125 239.229375 \r\nL 211.428125 21.789375 \r\n\" style=\"fill:none;stroke:#cccccc;stroke-linecap:round;stroke-width:0.8;\"/>\r\n     </g>\r\n     <g id=\"text_2\">\r\n      <!-- Frisco -->\r\n      <g style=\"fill:#262626;\" transform=\"translate(197.817969 253.387188)scale(0.1 -0.1)\">\r\n       <defs>\r\n        <path d=\"M 525 0 \r\nL 525 4581 \r\nL 3616 4581 \r\nL 3616 4041 \r\nL 1131 4041 \r\nL 1131 2622 \r\nL 3281 2622 \r\nL 3281 2081 \r\nL 1131 2081 \r\nL 1131 0 \r\nL 525 0 \r\nz\r\n\" id=\"ArialMT-46\" transform=\"scale(0.015625)\"/>\r\n        <path d=\"M 197 991 \r\nL 753 1078 \r\nQ 800 744 1014 566 \r\nQ 1228 388 1613 388 \r\nQ 2000 388 2187 545 \r\nQ 2375 703 2375 916 \r\nQ 2375 1106 2209 1216 \r\nQ 2094 1291 1634 1406 \r\nQ 1016 1563 777 1677 \r\nQ 538 1791 414 1992 \r\nQ 291 2194 291 2438 \r\nQ 291 2659 392 2848 \r\nQ 494 3038 669 3163 \r\nQ 800 3259 1026 3326 \r\nQ 1253 3394 1513 3394 \r\nQ 1903 3394 2198 3281 \r\nQ 2494 3169 2634 2976 \r\nQ 2775 2784 2828 2463 \r\nL 2278 2388 \r\nQ 2241 2644 2061 2787 \r\nQ 1881 2931 1553 2931 \r\nQ 1166 2931 1000 2803 \r\nQ 834 2675 834 2503 \r\nQ 834 2394 903 2306 \r\nQ 972 2216 1119 2156 \r\nQ 1203 2125 1616 2013 \r\nQ 2213 1853 2448 1751 \r\nQ 2684 1650 2818 1456 \r\nQ 2953 1263 2953 975 \r\nQ 2953 694 2789 445 \r\nQ 2625 197 2315 61 \r\nQ 2006 -75 1616 -75 \r\nQ 969 -75 630 194 \r\nQ 291 463 197 991 \r\nz\r\n\" id=\"ArialMT-73\" transform=\"scale(0.015625)\"/>\r\n        <path d=\"M 213 1659 \r\nQ 213 2581 725 3025 \r\nQ 1153 3394 1769 3394 \r\nQ 2453 3394 2887 2945 \r\nQ 3322 2497 3322 1706 \r\nQ 3322 1066 3130 698 \r\nQ 2938 331 2570 128 \r\nQ 2203 -75 1769 -75 \r\nQ 1072 -75 642 372 \r\nQ 213 819 213 1659 \r\nz\r\nM 791 1659 \r\nQ 791 1022 1069 705 \r\nQ 1347 388 1769 388 \r\nQ 2188 388 2466 706 \r\nQ 2744 1025 2744 1678 \r\nQ 2744 2294 2464 2611 \r\nQ 2184 2928 1769 2928 \r\nQ 1347 2928 1069 2612 \r\nQ 791 2297 791 1659 \r\nz\r\n\" id=\"ArialMT-6f\" transform=\"scale(0.015625)\"/>\r\n       </defs>\r\n       <use xlink:href=\"#ArialMT-46\"/>\r\n       <use x=\"61.083984\" xlink:href=\"#ArialMT-72\"/>\r\n       <use x=\"94.384766\" xlink:href=\"#ArialMT-69\"/>\r\n       <use x=\"116.601562\" xlink:href=\"#ArialMT-73\"/>\r\n       <use x=\"166.601562\" xlink:href=\"#ArialMT-63\"/>\r\n       <use x=\"216.601562\" xlink:href=\"#ArialMT-6f\"/>\r\n      </g>\r\n     </g>\r\n    </g>\r\n    <g id=\"xtick_3\">\r\n     <g id=\"line2d_3\">\r\n      <path clip-path=\"url(#p548143ebd7)\" d=\"M 312.88267 239.229375 \r\nL 312.88267 21.789375 \r\n\" style=\"fill:none;stroke:#cccccc;stroke-linecap:round;stroke-width:0.8;\"/>\r\n     </g>\r\n     <g id=\"text_3\">\r\n      <!-- Leclerc Rzeszów -->\r\n      <g style=\"fill:#262626;\" transform=\"translate(275.093608 253.387188)scale(0.1 -0.1)\">\r\n       <defs>\r\n        <path d=\"M 503 0 \r\nL 503 4581 \r\nL 2534 4581 \r\nQ 3147 4581 3465 4457 \r\nQ 3784 4334 3975 4021 \r\nQ 4166 3709 4166 3331 \r\nQ 4166 2844 3850 2509 \r\nQ 3534 2175 2875 2084 \r\nQ 3116 1969 3241 1856 \r\nQ 3506 1613 3744 1247 \r\nL 4541 0 \r\nL 3778 0 \r\nL 3172 953 \r\nQ 2906 1366 2734 1584 \r\nQ 2563 1803 2427 1890 \r\nQ 2291 1978 2150 2013 \r\nQ 2047 2034 1813 2034 \r\nL 1109 2034 \r\nL 1109 0 \r\nL 503 0 \r\nz\r\nM 1109 2559 \r\nL 2413 2559 \r\nQ 2828 2559 3062 2645 \r\nQ 3297 2731 3419 2920 \r\nQ 3541 3109 3541 3331 \r\nQ 3541 3656 3305 3865 \r\nQ 3069 4075 2559 4075 \r\nL 1109 4075 \r\nL 1109 2559 \r\nz\r\n\" id=\"ArialMT-52\" transform=\"scale(0.015625)\"/>\r\n        <path d=\"M 125 0 \r\nL 125 456 \r\nL 2238 2881 \r\nQ 1878 2863 1603 2863 \r\nL 250 2863 \r\nL 250 3319 \r\nL 2963 3319 \r\nL 2963 2947 \r\nL 1166 841 \r\nL 819 456 \r\nQ 1197 484 1528 484 \r\nL 3063 484 \r\nL 3063 0 \r\nL 125 0 \r\nz\r\n\" id=\"ArialMT-7a\" transform=\"scale(0.015625)\"/>\r\n        <path d=\"M 213 1659 \r\nQ 213 2581 725 3025 \r\nQ 1153 3394 1769 3394 \r\nQ 2453 3394 2887 2945 \r\nQ 3322 2497 3322 1706 \r\nQ 3322 1066 3130 698 \r\nQ 2938 331 2570 128 \r\nQ 2203 -75 1769 -75 \r\nQ 1072 -75 642 372 \r\nQ 213 819 213 1659 \r\nz\r\nM 791 1659 \r\nQ 791 1022 1069 705 \r\nQ 1347 388 1769 388 \r\nQ 2188 388 2466 706 \r\nQ 2744 1025 2744 1678 \r\nQ 2744 2294 2464 2611 \r\nQ 2184 2928 1769 2928 \r\nQ 1347 2928 1069 2612 \r\nQ 791 2297 791 1659 \r\nz\r\nM 1454 3731 \r\nL 1869 4606 \r\nL 2607 4606 \r\nL 1919 3731 \r\nL 1454 3731 \r\nz\r\n\" id=\"ArialMT-f3\" transform=\"scale(0.015625)\"/>\r\n        <path d=\"M 1034 0 \r\nL 19 3319 \r\nL 600 3319 \r\nL 1128 1403 \r\nL 1325 691 \r\nQ 1338 744 1497 1375 \r\nL 2025 3319 \r\nL 2603 3319 \r\nL 3100 1394 \r\nL 3266 759 \r\nL 3456 1400 \r\nL 4025 3319 \r\nL 4572 3319 \r\nL 3534 0 \r\nL 2950 0 \r\nL 2422 1988 \r\nL 2294 2553 \r\nL 1622 0 \r\nL 1034 0 \r\nz\r\n\" id=\"ArialMT-77\" transform=\"scale(0.015625)\"/>\r\n       </defs>\r\n       <use xlink:href=\"#ArialMT-4c\"/>\r\n       <use x=\"55.615234\" xlink:href=\"#ArialMT-65\"/>\r\n       <use x=\"111.230469\" xlink:href=\"#ArialMT-63\"/>\r\n       <use x=\"161.230469\" xlink:href=\"#ArialMT-6c\"/>\r\n       <use x=\"183.447266\" xlink:href=\"#ArialMT-65\"/>\r\n       <use x=\"239.0625\" xlink:href=\"#ArialMT-72\"/>\r\n       <use x=\"272.363281\" xlink:href=\"#ArialMT-63\"/>\r\n       <use x=\"322.363281\" xlink:href=\"#ArialMT-20\"/>\r\n       <use x=\"350.146484\" xlink:href=\"#ArialMT-52\"/>\r\n       <use x=\"422.363281\" xlink:href=\"#ArialMT-7a\"/>\r\n       <use x=\"472.363281\" xlink:href=\"#ArialMT-65\"/>\r\n       <use x=\"527.978516\" xlink:href=\"#ArialMT-73\"/>\r\n       <use x=\"577.978516\" xlink:href=\"#ArialMT-7a\"/>\r\n       <use x=\"627.978516\" xlink:href=\"#ArialMT-f3\"/>\r\n       <use x=\"683.59375\" xlink:href=\"#ArialMT-77\"/>\r\n      </g>\r\n     </g>\r\n    </g>\r\n    <g id=\"text_4\">\r\n     <!-- seller -->\r\n     <g style=\"fill:#262626;\" transform=\"translate(199.480469 266.5325)scale(0.1 -0.1)\">\r\n      <use xlink:href=\"#ArialMT-73\"/>\r\n      <use x=\"50\" xlink:href=\"#ArialMT-65\"/>\r\n      <use x=\"105.615234\" xlink:href=\"#ArialMT-6c\"/>\r\n      <use x=\"127.832031\" xlink:href=\"#ArialMT-6c\"/>\r\n      <use x=\"150.048828\" xlink:href=\"#ArialMT-65\"/>\r\n      <use x=\"205.664062\" xlink:href=\"#ArialMT-72\"/>\r\n     </g>\r\n    </g>\r\n   </g>\r\n   <g id=\"matplotlib.axis_2\">\r\n    <g id=\"ytick_1\">\r\n     <g id=\"line2d_4\">\r\n      <path clip-path=\"url(#p548143ebd7)\" d=\"M 44.028125 239.229375 \r\nL 378.828125 239.229375 \r\n\" style=\"fill:none;stroke:#cccccc;stroke-linecap:round;stroke-width:0.8;\"/>\r\n     </g>\r\n     <g id=\"text_5\">\r\n      <!-- 0 -->\r\n      <g style=\"fill:#262626;\" transform=\"translate(31.467188 242.808281)scale(0.1 -0.1)\">\r\n       <defs>\r\n        <path d=\"M 266 2259 \r\nQ 266 3072 433 3567 \r\nQ 600 4063 929 4331 \r\nQ 1259 4600 1759 4600 \r\nQ 2128 4600 2406 4451 \r\nQ 2684 4303 2865 4023 \r\nQ 3047 3744 3150 3342 \r\nQ 3253 2941 3253 2259 \r\nQ 3253 1453 3087 958 \r\nQ 2922 463 2592 192 \r\nQ 2263 -78 1759 -78 \r\nQ 1097 -78 719 397 \r\nQ 266 969 266 2259 \r\nz\r\nM 844 2259 \r\nQ 844 1131 1108 757 \r\nQ 1372 384 1759 384 \r\nQ 2147 384 2411 759 \r\nQ 2675 1134 2675 2259 \r\nQ 2675 3391 2411 3762 \r\nQ 2147 4134 1753 4134 \r\nQ 1366 4134 1134 3806 \r\nQ 844 3388 844 2259 \r\nz\r\n\" id=\"ArialMT-30\" transform=\"scale(0.015625)\"/>\r\n       </defs>\r\n       <use xlink:href=\"#ArialMT-30\"/>\r\n      </g>\r\n     </g>\r\n    </g>\r\n    <g id=\"ytick_2\">\r\n     <g id=\"line2d_5\">\r\n      <path clip-path=\"url(#p548143ebd7)\" d=\"M 44.028125 202.3157 \r\nL 378.828125 202.3157 \r\n\" style=\"fill:none;stroke:#cccccc;stroke-linecap:round;stroke-width:0.8;\"/>\r\n     </g>\r\n     <g id=\"text_6\">\r\n      <!-- 100 -->\r\n      <g style=\"fill:#262626;\" transform=\"translate(20.345313 205.894607)scale(0.1 -0.1)\">\r\n       <defs>\r\n        <path d=\"M 2384 0 \r\nL 1822 0 \r\nL 1822 3584 \r\nQ 1619 3391 1289 3197 \r\nQ 959 3003 697 2906 \r\nL 697 3450 \r\nQ 1169 3672 1522 3987 \r\nQ 1875 4303 2022 4600 \r\nL 2384 4600 \r\nL 2384 0 \r\nz\r\n\" id=\"ArialMT-31\" transform=\"scale(0.015625)\"/>\r\n       </defs>\r\n       <use xlink:href=\"#ArialMT-31\"/>\r\n       <use x=\"55.615234\" xlink:href=\"#ArialMT-30\"/>\r\n       <use x=\"111.230469\" xlink:href=\"#ArialMT-30\"/>\r\n      </g>\r\n     </g>\r\n    </g>\r\n    <g id=\"ytick_3\">\r\n     <g id=\"line2d_6\">\r\n      <path clip-path=\"url(#p548143ebd7)\" d=\"M 44.028125 165.402026 \r\nL 378.828125 165.402026 \r\n\" style=\"fill:none;stroke:#cccccc;stroke-linecap:round;stroke-width:0.8;\"/>\r\n     </g>\r\n     <g id=\"text_7\">\r\n      <!-- 200 -->\r\n      <g style=\"fill:#262626;\" transform=\"translate(20.345313 168.980932)scale(0.1 -0.1)\">\r\n       <defs>\r\n        <path d=\"M 3222 541 \r\nL 3222 0 \r\nL 194 0 \r\nQ 188 203 259 391 \r\nQ 375 700 629 1000 \r\nQ 884 1300 1366 1694 \r\nQ 2113 2306 2375 2664 \r\nQ 2638 3022 2638 3341 \r\nQ 2638 3675 2398 3904 \r\nQ 2159 4134 1775 4134 \r\nQ 1369 4134 1125 3890 \r\nQ 881 3647 878 3216 \r\nL 300 3275 \r\nQ 359 3922 746 4261 \r\nQ 1134 4600 1788 4600 \r\nQ 2447 4600 2831 4234 \r\nQ 3216 3869 3216 3328 \r\nQ 3216 3053 3103 2787 \r\nQ 2991 2522 2730 2228 \r\nQ 2469 1934 1863 1422 \r\nQ 1356 997 1212 845 \r\nQ 1069 694 975 541 \r\nL 3222 541 \r\nz\r\n\" id=\"ArialMT-32\" transform=\"scale(0.015625)\"/>\r\n       </defs>\r\n       <use xlink:href=\"#ArialMT-32\"/>\r\n       <use x=\"55.615234\" xlink:href=\"#ArialMT-30\"/>\r\n       <use x=\"111.230469\" xlink:href=\"#ArialMT-30\"/>\r\n      </g>\r\n     </g>\r\n    </g>\r\n    <g id=\"ytick_4\">\r\n     <g id=\"line2d_7\">\r\n      <path clip-path=\"url(#p548143ebd7)\" d=\"M 44.028125 128.488351 \r\nL 378.828125 128.488351 \r\n\" style=\"fill:none;stroke:#cccccc;stroke-linecap:round;stroke-width:0.8;\"/>\r\n     </g>\r\n     <g id=\"text_8\">\r\n      <!-- 300 -->\r\n      <g style=\"fill:#262626;\" transform=\"translate(20.345313 132.067258)scale(0.1 -0.1)\">\r\n       <defs>\r\n        <path d=\"M 269 1209 \r\nL 831 1284 \r\nQ 928 806 1161 595 \r\nQ 1394 384 1728 384 \r\nQ 2125 384 2398 659 \r\nQ 2672 934 2672 1341 \r\nQ 2672 1728 2419 1979 \r\nQ 2166 2231 1775 2231 \r\nQ 1616 2231 1378 2169 \r\nL 1441 2663 \r\nQ 1497 2656 1531 2656 \r\nQ 1891 2656 2178 2843 \r\nQ 2466 3031 2466 3422 \r\nQ 2466 3731 2256 3934 \r\nQ 2047 4138 1716 4138 \r\nQ 1388 4138 1169 3931 \r\nQ 950 3725 888 3313 \r\nL 325 3413 \r\nQ 428 3978 793 4289 \r\nQ 1159 4600 1703 4600 \r\nQ 2078 4600 2393 4439 \r\nQ 2709 4278 2876 4000 \r\nQ 3044 3722 3044 3409 \r\nQ 3044 3113 2884 2869 \r\nQ 2725 2625 2413 2481 \r\nQ 2819 2388 3044 2092 \r\nQ 3269 1797 3269 1353 \r\nQ 3269 753 2831 336 \r\nQ 2394 -81 1725 -81 \r\nQ 1122 -81 723 278 \r\nQ 325 638 269 1209 \r\nz\r\n\" id=\"ArialMT-33\" transform=\"scale(0.015625)\"/>\r\n       </defs>\r\n       <use xlink:href=\"#ArialMT-33\"/>\r\n       <use x=\"55.615234\" xlink:href=\"#ArialMT-30\"/>\r\n       <use x=\"111.230469\" xlink:href=\"#ArialMT-30\"/>\r\n      </g>\r\n     </g>\r\n    </g>\r\n    <g id=\"ytick_5\">\r\n     <g id=\"line2d_8\">\r\n      <path clip-path=\"url(#p548143ebd7)\" d=\"M 44.028125 91.574677 \r\nL 378.828125 91.574677 \r\n\" style=\"fill:none;stroke:#cccccc;stroke-linecap:round;stroke-width:0.8;\"/>\r\n     </g>\r\n     <g id=\"text_9\">\r\n      <!-- 400 -->\r\n      <g style=\"fill:#262626;\" transform=\"translate(20.345313 95.153583)scale(0.1 -0.1)\">\r\n       <defs>\r\n        <path d=\"M 2069 0 \r\nL 2069 1097 \r\nL 81 1097 \r\nL 81 1613 \r\nL 2172 4581 \r\nL 2631 4581 \r\nL 2631 1613 \r\nL 3250 1613 \r\nL 3250 1097 \r\nL 2631 1097 \r\nL 2631 0 \r\nL 2069 0 \r\nz\r\nM 2069 1613 \r\nL 2069 3678 \r\nL 634 1613 \r\nL 2069 1613 \r\nz\r\n\" id=\"ArialMT-34\" transform=\"scale(0.015625)\"/>\r\n       </defs>\r\n       <use xlink:href=\"#ArialMT-34\"/>\r\n       <use x=\"55.615234\" xlink:href=\"#ArialMT-30\"/>\r\n       <use x=\"111.230469\" xlink:href=\"#ArialMT-30\"/>\r\n      </g>\r\n     </g>\r\n    </g>\r\n    <g id=\"ytick_6\">\r\n     <g id=\"line2d_9\">\r\n      <path clip-path=\"url(#p548143ebd7)\" d=\"M 44.028125 54.661002 \r\nL 378.828125 54.661002 \r\n\" style=\"fill:none;stroke:#cccccc;stroke-linecap:round;stroke-width:0.8;\"/>\r\n     </g>\r\n     <g id=\"text_10\">\r\n      <!-- 500 -->\r\n      <g style=\"fill:#262626;\" transform=\"translate(20.345313 58.239908)scale(0.1 -0.1)\">\r\n       <defs>\r\n        <path d=\"M 266 1200 \r\nL 856 1250 \r\nQ 922 819 1161 601 \r\nQ 1400 384 1738 384 \r\nQ 2144 384 2425 690 \r\nQ 2706 997 2706 1503 \r\nQ 2706 1984 2436 2262 \r\nQ 2166 2541 1728 2541 \r\nQ 1456 2541 1237 2417 \r\nQ 1019 2294 894 2097 \r\nL 366 2166 \r\nL 809 4519 \r\nL 3088 4519 \r\nL 3088 3981 \r\nL 1259 3981 \r\nL 1013 2750 \r\nQ 1425 3038 1878 3038 \r\nQ 2478 3038 2890 2622 \r\nQ 3303 2206 3303 1553 \r\nQ 3303 931 2941 478 \r\nQ 2500 -78 1738 -78 \r\nQ 1113 -78 717 272 \r\nQ 322 622 266 1200 \r\nz\r\n\" id=\"ArialMT-35\" transform=\"scale(0.015625)\"/>\r\n       </defs>\r\n       <use xlink:href=\"#ArialMT-35\"/>\r\n       <use x=\"55.615234\" xlink:href=\"#ArialMT-30\"/>\r\n       <use x=\"111.230469\" xlink:href=\"#ArialMT-30\"/>\r\n      </g>\r\n     </g>\r\n    </g>\r\n    <g id=\"text_11\">\r\n     <!-- Count -->\r\n     <g style=\"fill:#262626;\" transform=\"translate(14.357813 143.850781)rotate(-90)scale(0.1 -0.1)\">\r\n      <defs>\r\n       <path d=\"M 3763 1606 \r\nL 4369 1453 \r\nQ 4178 706 3683 314 \r\nQ 3188 -78 2472 -78 \r\nQ 1731 -78 1267 223 \r\nQ 803 525 561 1097 \r\nQ 319 1669 319 2325 \r\nQ 319 3041 592 3573 \r\nQ 866 4106 1370 4382 \r\nQ 1875 4659 2481 4659 \r\nQ 3169 4659 3637 4309 \r\nQ 4106 3959 4291 3325 \r\nL 3694 3184 \r\nQ 3534 3684 3231 3912 \r\nQ 2928 4141 2469 4141 \r\nQ 1941 4141 1586 3887 \r\nQ 1231 3634 1087 3207 \r\nQ 944 2781 944 2328 \r\nQ 944 1744 1114 1308 \r\nQ 1284 872 1643 656 \r\nQ 2003 441 2422 441 \r\nQ 2931 441 3284 734 \r\nQ 3638 1028 3763 1606 \r\nz\r\n\" id=\"ArialMT-43\" transform=\"scale(0.015625)\"/>\r\n       <path d=\"M 1650 503 \r\nL 1731 6 \r\nQ 1494 -44 1306 -44 \r\nQ 1000 -44 831 53 \r\nQ 663 150 594 308 \r\nQ 525 466 525 972 \r\nL 525 2881 \r\nL 113 2881 \r\nL 113 3319 \r\nL 525 3319 \r\nL 525 4141 \r\nL 1084 4478 \r\nL 1084 3319 \r\nL 1650 3319 \r\nL 1650 2881 \r\nL 1084 2881 \r\nL 1084 941 \r\nQ 1084 700 1114 631 \r\nQ 1144 563 1211 522 \r\nQ 1278 481 1403 481 \r\nQ 1497 481 1650 503 \r\nz\r\n\" id=\"ArialMT-74\" transform=\"scale(0.015625)\"/>\r\n      </defs>\r\n      <use xlink:href=\"#ArialMT-43\"/>\r\n      <use x=\"72.216797\" xlink:href=\"#ArialMT-6f\"/>\r\n      <use x=\"127.832031\" xlink:href=\"#ArialMT-75\"/>\r\n      <use x=\"183.447266\" xlink:href=\"#ArialMT-6e\"/>\r\n      <use x=\"239.0625\" xlink:href=\"#ArialMT-74\"/>\r\n     </g>\r\n    </g>\r\n   </g>\r\n   <g id=\"patch_3\">\r\n    <path clip-path=\"url(#p548143ebd7)\" d=\"M 59.246307 239.229375 \r\nL 160.700852 239.229375 \r\nL 160.700852 32.143661 \r\nL 59.246307 32.143661 \r\nz\r\n\" style=\"fill:#1f77b4;fill-opacity:0.75;stroke:#ffffff;stroke-linejoin:miter;\"/>\r\n   </g>\r\n   <g id=\"patch_4\">\r\n    <path clip-path=\"url(#p548143ebd7)\" d=\"M 160.700852 239.229375 \r\nL 262.155398 239.229375 \r\nL 262.155398 49.493088 \r\nL 160.700852 49.493088 \r\nz\r\n\" style=\"fill:#1f77b4;fill-opacity:0.75;stroke:#ffffff;stroke-linejoin:miter;\"/>\r\n   </g>\r\n   <g id=\"patch_5\">\r\n    <path clip-path=\"url(#p548143ebd7)\" d=\"M 262.155398 239.229375 \r\nL 363.609943 239.229375 \r\nL 363.609943 50.969635 \r\nL 262.155398 50.969635 \r\nz\r\n\" style=\"fill:#1f77b4;fill-opacity:0.75;stroke:#ffffff;stroke-linejoin:miter;\"/>\r\n   </g>\r\n   <g id=\"patch_6\">\r\n    <path d=\"M 44.028125 239.229375 \r\nL 44.028125 21.789375 \r\n\" style=\"fill:none;stroke:#cccccc;stroke-linecap:square;stroke-linejoin:miter;stroke-width:0.8;\"/>\r\n   </g>\r\n   <g id=\"patch_7\">\r\n    <path d=\"M 378.828125 239.229375 \r\nL 378.828125 21.789375 \r\n\" style=\"fill:none;stroke:#cccccc;stroke-linecap:square;stroke-linejoin:miter;stroke-width:0.8;\"/>\r\n   </g>\r\n   <g id=\"patch_8\">\r\n    <path d=\"M 44.028125 239.229375 \r\nL 378.828125 239.229375 \r\n\" style=\"fill:none;stroke:#cccccc;stroke-linecap:square;stroke-linejoin:miter;stroke-width:0.8;\"/>\r\n   </g>\r\n   <g id=\"patch_9\">\r\n    <path d=\"M 44.028125 21.789375 \r\nL 378.828125 21.789375 \r\n\" style=\"fill:none;stroke:#cccccc;stroke-linecap:square;stroke-linejoin:miter;stroke-width:0.8;\"/>\r\n   </g>\r\n   <g id=\"text_12\">\r\n    <!-- Chemia -->\r\n    <g style=\"fill:#262626;\" transform=\"translate(190.754375 15.789375)scale(0.12 -0.12)\">\r\n     <defs>\r\n      <path d=\"M 422 0 \r\nL 422 4581 \r\nL 984 4581 \r\nL 984 2938 \r\nQ 1378 3394 1978 3394 \r\nQ 2347 3394 2619 3248 \r\nQ 2891 3103 3008 2847 \r\nQ 3125 2591 3125 2103 \r\nL 3125 0 \r\nL 2563 0 \r\nL 2563 2103 \r\nQ 2563 2525 2380 2717 \r\nQ 2197 2909 1863 2909 \r\nQ 1613 2909 1392 2779 \r\nQ 1172 2650 1078 2428 \r\nQ 984 2206 984 1816 \r\nL 984 0 \r\nL 422 0 \r\nz\r\n\" id=\"ArialMT-68\" transform=\"scale(0.015625)\"/>\r\n      <path d=\"M 422 0 \r\nL 422 3319 \r\nL 925 3319 \r\nL 925 2853 \r\nQ 1081 3097 1340 3245 \r\nQ 1600 3394 1931 3394 \r\nQ 2300 3394 2536 3241 \r\nQ 2772 3088 2869 2813 \r\nQ 3263 3394 3894 3394 \r\nQ 4388 3394 4653 3120 \r\nQ 4919 2847 4919 2278 \r\nL 4919 0 \r\nL 4359 0 \r\nL 4359 2091 \r\nQ 4359 2428 4304 2576 \r\nQ 4250 2725 4106 2815 \r\nQ 3963 2906 3769 2906 \r\nQ 3419 2906 3187 2673 \r\nQ 2956 2441 2956 1928 \r\nL 2956 0 \r\nL 2394 0 \r\nL 2394 2156 \r\nQ 2394 2531 2256 2718 \r\nQ 2119 2906 1806 2906 \r\nQ 1569 2906 1367 2781 \r\nQ 1166 2656 1075 2415 \r\nQ 984 2175 984 1722 \r\nL 984 0 \r\nL 422 0 \r\nz\r\n\" id=\"ArialMT-6d\" transform=\"scale(0.015625)\"/>\r\n      <path d=\"M 2588 409 \r\nQ 2275 144 1986 34 \r\nQ 1697 -75 1366 -75 \r\nQ 819 -75 525 192 \r\nQ 231 459 231 875 \r\nQ 231 1119 342 1320 \r\nQ 453 1522 633 1644 \r\nQ 813 1766 1038 1828 \r\nQ 1203 1872 1538 1913 \r\nQ 2219 1994 2541 2106 \r\nQ 2544 2222 2544 2253 \r\nQ 2544 2597 2384 2738 \r\nQ 2169 2928 1744 2928 \r\nQ 1347 2928 1158 2789 \r\nQ 969 2650 878 2297 \r\nL 328 2372 \r\nQ 403 2725 575 2942 \r\nQ 747 3159 1072 3276 \r\nQ 1397 3394 1825 3394 \r\nQ 2250 3394 2515 3294 \r\nQ 2781 3194 2906 3042 \r\nQ 3031 2891 3081 2659 \r\nQ 3109 2516 3109 2141 \r\nL 3109 1391 \r\nQ 3109 606 3145 398 \r\nQ 3181 191 3288 0 \r\nL 2700 0 \r\nQ 2613 175 2588 409 \r\nz\r\nM 2541 1666 \r\nQ 2234 1541 1622 1453 \r\nQ 1275 1403 1131 1340 \r\nQ 988 1278 909 1158 \r\nQ 831 1038 831 891 \r\nQ 831 666 1001 516 \r\nQ 1172 366 1500 366 \r\nQ 1825 366 2078 508 \r\nQ 2331 650 2450 897 \r\nQ 2541 1088 2541 1459 \r\nL 2541 1666 \r\nz\r\n\" id=\"ArialMT-61\" transform=\"scale(0.015625)\"/>\r\n     </defs>\r\n     <use xlink:href=\"#ArialMT-43\"/>\r\n     <use x=\"72.216797\" xlink:href=\"#ArialMT-68\"/>\r\n     <use x=\"127.832031\" xlink:href=\"#ArialMT-65\"/>\r\n     <use x=\"183.447266\" xlink:href=\"#ArialMT-6d\"/>\r\n     <use x=\"266.748047\" xlink:href=\"#ArialMT-69\"/>\r\n     <use x=\"288.964844\" xlink:href=\"#ArialMT-61\"/>\r\n    </g>\r\n   </g>\r\n  </g>\r\n </g>\r\n <defs>\r\n  <clipPath id=\"p548143ebd7\">\r\n   <rect height=\"217.44\" width=\"334.8\" x=\"44.028125\" y=\"21.789375\"/>\r\n  </clipPath>\r\n </defs>\r\n</svg>\r\n",
      "image/png": "[encoded data removed]"
     },
     "metadata": {}
    }
   ],
   "source": [
    "sns.histplot(df[df['main_category'] == 'chemia'], x='seller').set_title('Chemia')"
   ],
   "metadata": {
    "collapsed": false,
    "pycharm": {
     "name": "#%%\n"
    }
   }
  },
  {
   "cell_type": "code",
   "execution_count": 302,
   "outputs": [
    {
     "output_type": "execute_result",
     "data": {
      "text/plain": [
       "Text(0.5, 1.0, 'Napoje')"
      ]
     },
     "metadata": {},
     "execution_count": 302
    },
    {
     "output_type": "display_data",
     "data": {
      "text/plain": "<Figure size 432x288 with 1 Axes>",
      "image/svg+xml": "<?xml version=\"1.0\" encoding=\"utf-8\" standalone=\"no\"?>\r\n<!DOCTYPE svg PUBLIC \"-//W3C//DTD SVG 1.1//EN\"\r\n  \"http://www.w3.org/Graphics/SVG/1.1/DTD/svg11.dtd\">\r\n<svg height=\"275.72pt\" version=\"1.1\" viewBox=\"0 0 386.028125 275.72\" width=\"386.028125pt\" xmlns=\"http://www.w3.org/2000/svg\" xmlns:xlink=\"http://www.w3.org/1999/xlink\">\r\n <metadata>\r\n  <rdf:RDF xmlns:cc=\"http://creativecommons.org/ns#\" xmlns:dc=\"http://purl.org/dc/elements/1.1/\" xmlns:rdf=\"http://www.w3.org/1999/02/22-rdf-syntax-ns#\">\r\n   <cc:Work>\r\n    <dc:type rdf:resource=\"http://purl.org/dc/dcmitype/StillImage\"/>\r\n    <dc:date>2021-04-12T11:46:34.389258</dc:date>\r\n    <dc:format>image/svg+xml</dc:format>\r\n    <dc:creator>\r\n     <cc:Agent>\r\n      <dc:title>Matplotlib v3.4.1, https://matplotlib.org/</dc:title>\r\n     </cc:Agent>\r\n    </dc:creator>\r\n   </cc:Work>\r\n  </rdf:RDF>\r\n </metadata>\r\n <defs>\r\n  <style type=\"text/css\">*{stroke-linecap:butt;stroke-linejoin:round;}</style>\r\n </defs>\r\n <g id=\"figure_1\">\r\n  <g id=\"patch_1\">\r\n   <path d=\"M 0 275.72 \r\nL 386.028125 275.72 \r\nL 386.028125 0 \r\nL 0 0 \r\nz\r\n\" style=\"fill:#ffffff;\"/>\r\n  </g>\r\n  <g id=\"axes_1\">\r\n   <g id=\"patch_2\">\r\n    <path d=\"M 44.028125 239.229375 \r\nL 378.828125 239.229375 \r\nL 378.828125 21.789375 \r\nL 44.028125 21.789375 \r\nz\r\n\" style=\"fill:#ffffff;\"/>\r\n   </g>\r\n   <g id=\"matplotlib.axis_1\">\r\n    <g id=\"xtick_1\">\r\n     <g id=\"line2d_1\">\r\n      <path clip-path=\"url(#p6bcc39e12f)\" d=\"M 109.97358 239.229375 \r\nL 109.97358 21.789375 \r\n\" style=\"fill:none;stroke:#cccccc;stroke-linecap:round;stroke-width:0.8;\"/>\r\n     </g>\r\n     <g id=\"text_1\">\r\n      <!-- Frisco -->\r\n      <g style=\"fill:#262626;\" transform=\"translate(96.363423 253.387188)scale(0.1 -0.1)\">\r\n       <defs>\r\n        <path d=\"M 525 0 \r\nL 525 4581 \r\nL 3616 4581 \r\nL 3616 4041 \r\nL 1131 4041 \r\nL 1131 2622 \r\nL 3281 2622 \r\nL 3281 2081 \r\nL 1131 2081 \r\nL 1131 0 \r\nL 525 0 \r\nz\r\n\" id=\"ArialMT-46\" transform=\"scale(0.015625)\"/>\r\n        <path d=\"M 416 0 \r\nL 416 3319 \r\nL 922 3319 \r\nL 922 2816 \r\nQ 1116 3169 1280 3281 \r\nQ 1444 3394 1641 3394 \r\nQ 1925 3394 2219 3213 \r\nL 2025 2691 \r\nQ 1819 2813 1613 2813 \r\nQ 1428 2813 1281 2702 \r\nQ 1134 2591 1072 2394 \r\nQ 978 2094 978 1738 \r\nL 978 0 \r\nL 416 0 \r\nz\r\n\" id=\"ArialMT-72\" transform=\"scale(0.015625)\"/>\r\n        <path d=\"M 425 3934 \r\nL 425 4581 \r\nL 988 4581 \r\nL 988 3934 \r\nL 425 3934 \r\nz\r\nM 425 0 \r\nL 425 3319 \r\nL 988 3319 \r\nL 988 0 \r\nL 425 0 \r\nz\r\n\" id=\"ArialMT-69\" transform=\"scale(0.015625)\"/>\r\n        <path d=\"M 197 991 \r\nL 753 1078 \r\nQ 800 744 1014 566 \r\nQ 1228 388 1613 388 \r\nQ 2000 388 2187 545 \r\nQ 2375 703 2375 916 \r\nQ 2375 1106 2209 1216 \r\nQ 2094 1291 1634 1406 \r\nQ 1016 1563 777 1677 \r\nQ 538 1791 414 1992 \r\nQ 291 2194 291 2438 \r\nQ 291 2659 392 2848 \r\nQ 494 3038 669 3163 \r\nQ 800 3259 1026 3326 \r\nQ 1253 3394 1513 3394 \r\nQ 1903 3394 2198 3281 \r\nQ 2494 3169 2634 2976 \r\nQ 2775 2784 2828 2463 \r\nL 2278 2388 \r\nQ 2241 2644 2061 2787 \r\nQ 1881 2931 1553 2931 \r\nQ 1166 2931 1000 2803 \r\nQ 834 2675 834 2503 \r\nQ 834 2394 903 2306 \r\nQ 972 2216 1119 2156 \r\nQ 1203 2125 1616 2013 \r\nQ 2213 1853 2448 1751 \r\nQ 2684 1650 2818 1456 \r\nQ 2953 1263 2953 975 \r\nQ 2953 694 2789 445 \r\nQ 2625 197 2315 61 \r\nQ 2006 -75 1616 -75 \r\nQ 969 -75 630 194 \r\nQ 291 463 197 991 \r\nz\r\n\" id=\"ArialMT-73\" transform=\"scale(0.015625)\"/>\r\n        <path d=\"M 2588 1216 \r\nL 3141 1144 \r\nQ 3050 572 2676 248 \r\nQ 2303 -75 1759 -75 \r\nQ 1078 -75 664 370 \r\nQ 250 816 250 1647 \r\nQ 250 2184 428 2587 \r\nQ 606 2991 970 3192 \r\nQ 1334 3394 1763 3394 \r\nQ 2303 3394 2647 3120 \r\nQ 2991 2847 3088 2344 \r\nL 2541 2259 \r\nQ 2463 2594 2264 2762 \r\nQ 2066 2931 1784 2931 \r\nQ 1359 2931 1093 2626 \r\nQ 828 2322 828 1663 \r\nQ 828 994 1084 691 \r\nQ 1341 388 1753 388 \r\nQ 2084 388 2306 591 \r\nQ 2528 794 2588 1216 \r\nz\r\n\" id=\"ArialMT-63\" transform=\"scale(0.015625)\"/>\r\n        <path d=\"M 213 1659 \r\nQ 213 2581 725 3025 \r\nQ 1153 3394 1769 3394 \r\nQ 2453 3394 2887 2945 \r\nQ 3322 2497 3322 1706 \r\nQ 3322 1066 3130 698 \r\nQ 2938 331 2570 128 \r\nQ 2203 -75 1769 -75 \r\nQ 1072 -75 642 372 \r\nQ 213 819 213 1659 \r\nz\r\nM 791 1659 \r\nQ 791 1022 1069 705 \r\nQ 1347 388 1769 388 \r\nQ 2188 388 2466 706 \r\nQ 2744 1025 2744 1678 \r\nQ 2744 2294 2464 2611 \r\nQ 2184 2928 1769 2928 \r\nQ 1347 2928 1069 2612 \r\nQ 791 2297 791 1659 \r\nz\r\n\" id=\"ArialMT-6f\" transform=\"scale(0.015625)\"/>\r\n       </defs>\r\n       <use xlink:href=\"#ArialMT-46\"/>\r\n       <use x=\"61.083984\" xlink:href=\"#ArialMT-72\"/>\r\n       <use x=\"94.384766\" xlink:href=\"#ArialMT-69\"/>\r\n       <use x=\"116.601562\" xlink:href=\"#ArialMT-73\"/>\r\n       <use x=\"166.601562\" xlink:href=\"#ArialMT-63\"/>\r\n       <use x=\"216.601562\" xlink:href=\"#ArialMT-6f\"/>\r\n      </g>\r\n     </g>\r\n    </g>\r\n    <g id=\"xtick_2\">\r\n     <g id=\"line2d_2\">\r\n      <path clip-path=\"url(#p6bcc39e12f)\" d=\"M 211.428125 239.229375 \r\nL 211.428125 21.789375 \r\n\" style=\"fill:none;stroke:#cccccc;stroke-linecap:round;stroke-width:0.8;\"/>\r\n     </g>\r\n     <g id=\"text_2\">\r\n      <!-- Leclerc lublin -->\r\n      <g style=\"fill:#262626;\" transform=\"translate(182.247656 253.387188)scale(0.1 -0.1)\">\r\n       <defs>\r\n        <path d=\"M 469 0 \r\nL 469 4581 \r\nL 1075 4581 \r\nL 1075 541 \r\nL 3331 541 \r\nL 3331 0 \r\nL 469 0 \r\nz\r\n\" id=\"ArialMT-4c\" transform=\"scale(0.015625)\"/>\r\n        <path d=\"M 2694 1069 \r\nL 3275 997 \r\nQ 3138 488 2766 206 \r\nQ 2394 -75 1816 -75 \r\nQ 1088 -75 661 373 \r\nQ 234 822 234 1631 \r\nQ 234 2469 665 2931 \r\nQ 1097 3394 1784 3394 \r\nQ 2450 3394 2872 2941 \r\nQ 3294 2488 3294 1666 \r\nQ 3294 1616 3291 1516 \r\nL 816 1516 \r\nQ 847 969 1125 678 \r\nQ 1403 388 1819 388 \r\nQ 2128 388 2347 550 \r\nQ 2566 713 2694 1069 \r\nz\r\nM 847 1978 \r\nL 2700 1978 \r\nQ 2663 2397 2488 2606 \r\nQ 2219 2931 1791 2931 \r\nQ 1403 2931 1139 2672 \r\nQ 875 2413 847 1978 \r\nz\r\n\" id=\"ArialMT-65\" transform=\"scale(0.015625)\"/>\r\n        <path d=\"M 409 0 \r\nL 409 4581 \r\nL 972 4581 \r\nL 972 0 \r\nL 409 0 \r\nz\r\n\" id=\"ArialMT-6c\" transform=\"scale(0.015625)\"/>\r\n        <path id=\"ArialMT-20\" transform=\"scale(0.015625)\"/>\r\n        <path d=\"M 2597 0 \r\nL 2597 488 \r\nQ 2209 -75 1544 -75 \r\nQ 1250 -75 995 37 \r\nQ 741 150 617 320 \r\nQ 494 491 444 738 \r\nQ 409 903 409 1263 \r\nL 409 3319 \r\nL 972 3319 \r\nL 972 1478 \r\nQ 972 1038 1006 884 \r\nQ 1059 663 1231 536 \r\nQ 1403 409 1656 409 \r\nQ 1909 409 2131 539 \r\nQ 2353 669 2445 892 \r\nQ 2538 1116 2538 1541 \r\nL 2538 3319 \r\nL 3100 3319 \r\nL 3100 0 \r\nL 2597 0 \r\nz\r\n\" id=\"ArialMT-75\" transform=\"scale(0.015625)\"/>\r\n        <path d=\"M 941 0 \r\nL 419 0 \r\nL 419 4581 \r\nL 981 4581 \r\nL 981 2947 \r\nQ 1338 3394 1891 3394 \r\nQ 2197 3394 2470 3270 \r\nQ 2744 3147 2920 2923 \r\nQ 3097 2700 3197 2384 \r\nQ 3297 2069 3297 1709 \r\nQ 3297 856 2875 390 \r\nQ 2453 -75 1863 -75 \r\nQ 1275 -75 941 416 \r\nL 941 0 \r\nz\r\nM 934 1684 \r\nQ 934 1088 1097 822 \r\nQ 1363 388 1816 388 \r\nQ 2184 388 2453 708 \r\nQ 2722 1028 2722 1663 \r\nQ 2722 2313 2464 2622 \r\nQ 2206 2931 1841 2931 \r\nQ 1472 2931 1203 2611 \r\nQ 934 2291 934 1684 \r\nz\r\n\" id=\"ArialMT-62\" transform=\"scale(0.015625)\"/>\r\n        <path d=\"M 422 0 \r\nL 422 3319 \r\nL 928 3319 \r\nL 928 2847 \r\nQ 1294 3394 1984 3394 \r\nQ 2284 3394 2536 3286 \r\nQ 2788 3178 2913 3003 \r\nQ 3038 2828 3088 2588 \r\nQ 3119 2431 3119 2041 \r\nL 3119 0 \r\nL 2556 0 \r\nL 2556 2019 \r\nQ 2556 2363 2490 2533 \r\nQ 2425 2703 2258 2804 \r\nQ 2091 2906 1866 2906 \r\nQ 1506 2906 1245 2678 \r\nQ 984 2450 984 1813 \r\nL 984 0 \r\nL 422 0 \r\nz\r\n\" id=\"ArialMT-6e\" transform=\"scale(0.015625)\"/>\r\n       </defs>\r\n       <use xlink:href=\"#ArialMT-4c\"/>\r\n       <use x=\"55.615234\" xlink:href=\"#ArialMT-65\"/>\r\n       <use x=\"111.230469\" xlink:href=\"#ArialMT-63\"/>\r\n       <use x=\"161.230469\" xlink:href=\"#ArialMT-6c\"/>\r\n       <use x=\"183.447266\" xlink:href=\"#ArialMT-65\"/>\r\n       <use x=\"239.0625\" xlink:href=\"#ArialMT-72\"/>\r\n       <use x=\"272.363281\" xlink:href=\"#ArialMT-63\"/>\r\n       <use x=\"322.363281\" xlink:href=\"#ArialMT-20\"/>\r\n       <use x=\"350.146484\" xlink:href=\"#ArialMT-6c\"/>\r\n       <use x=\"372.363281\" xlink:href=\"#ArialMT-75\"/>\r\n       <use x=\"427.978516\" xlink:href=\"#ArialMT-62\"/>\r\n       <use x=\"483.59375\" xlink:href=\"#ArialMT-6c\"/>\r\n       <use x=\"505.810547\" xlink:href=\"#ArialMT-69\"/>\r\n       <use x=\"528.027344\" xlink:href=\"#ArialMT-6e\"/>\r\n      </g>\r\n     </g>\r\n    </g>\r\n    <g id=\"xtick_3\">\r\n     <g id=\"line2d_3\">\r\n      <path clip-path=\"url(#p6bcc39e12f)\" d=\"M 312.88267 239.229375 \r\nL 312.88267 21.789375 \r\n\" style=\"fill:none;stroke:#cccccc;stroke-linecap:round;stroke-width:0.8;\"/>\r\n     </g>\r\n     <g id=\"text_3\">\r\n      <!-- Leclerc Rzeszów -->\r\n      <g style=\"fill:#262626;\" transform=\"translate(275.093608 253.387188)scale(0.1 -0.1)\">\r\n       <defs>\r\n        <path d=\"M 503 0 \r\nL 503 4581 \r\nL 2534 4581 \r\nQ 3147 4581 3465 4457 \r\nQ 3784 4334 3975 4021 \r\nQ 4166 3709 4166 3331 \r\nQ 4166 2844 3850 2509 \r\nQ 3534 2175 2875 2084 \r\nQ 3116 1969 3241 1856 \r\nQ 3506 1613 3744 1247 \r\nL 4541 0 \r\nL 3778 0 \r\nL 3172 953 \r\nQ 2906 1366 2734 1584 \r\nQ 2563 1803 2427 1890 \r\nQ 2291 1978 2150 2013 \r\nQ 2047 2034 1813 2034 \r\nL 1109 2034 \r\nL 1109 0 \r\nL 503 0 \r\nz\r\nM 1109 2559 \r\nL 2413 2559 \r\nQ 2828 2559 3062 2645 \r\nQ 3297 2731 3419 2920 \r\nQ 3541 3109 3541 3331 \r\nQ 3541 3656 3305 3865 \r\nQ 3069 4075 2559 4075 \r\nL 1109 4075 \r\nL 1109 2559 \r\nz\r\n\" id=\"ArialMT-52\" transform=\"scale(0.015625)\"/>\r\n        <path d=\"M 125 0 \r\nL 125 456 \r\nL 2238 2881 \r\nQ 1878 2863 1603 2863 \r\nL 250 2863 \r\nL 250 3319 \r\nL 2963 3319 \r\nL 2963 2947 \r\nL 1166 841 \r\nL 819 456 \r\nQ 1197 484 1528 484 \r\nL 3063 484 \r\nL 3063 0 \r\nL 125 0 \r\nz\r\n\" id=\"ArialMT-7a\" transform=\"scale(0.015625)\"/>\r\n        <path d=\"M 213 1659 \r\nQ 213 2581 725 3025 \r\nQ 1153 3394 1769 3394 \r\nQ 2453 3394 2887 2945 \r\nQ 3322 2497 3322 1706 \r\nQ 3322 1066 3130 698 \r\nQ 2938 331 2570 128 \r\nQ 2203 -75 1769 -75 \r\nQ 1072 -75 642 372 \r\nQ 213 819 213 1659 \r\nz\r\nM 791 1659 \r\nQ 791 1022 1069 705 \r\nQ 1347 388 1769 388 \r\nQ 2188 388 2466 706 \r\nQ 2744 1025 2744 1678 \r\nQ 2744 2294 2464 2611 \r\nQ 2184 2928 1769 2928 \r\nQ 1347 2928 1069 2612 \r\nQ 791 2297 791 1659 \r\nz\r\nM 1454 3731 \r\nL 1869 4606 \r\nL 2607 4606 \r\nL 1919 3731 \r\nL 1454 3731 \r\nz\r\n\" id=\"ArialMT-f3\" transform=\"scale(0.015625)\"/>\r\n        <path d=\"M 1034 0 \r\nL 19 3319 \r\nL 600 3319 \r\nL 1128 1403 \r\nL 1325 691 \r\nQ 1338 744 1497 1375 \r\nL 2025 3319 \r\nL 2603 3319 \r\nL 3100 1394 \r\nL 3266 759 \r\nL 3456 1400 \r\nL 4025 3319 \r\nL 4572 3319 \r\nL 3534 0 \r\nL 2950 0 \r\nL 2422 1988 \r\nL 2294 2553 \r\nL 1622 0 \r\nL 1034 0 \r\nz\r\n\" id=\"ArialMT-77\" transform=\"scale(0.015625)\"/>\r\n       </defs>\r\n       <use xlink:href=\"#ArialMT-4c\"/>\r\n       <use x=\"55.615234\" xlink:href=\"#ArialMT-65\"/>\r\n       <use x=\"111.230469\" xlink:href=\"#ArialMT-63\"/>\r\n       <use x=\"161.230469\" xlink:href=\"#ArialMT-6c\"/>\r\n       <use x=\"183.447266\" xlink:href=\"#ArialMT-65\"/>\r\n       <use x=\"239.0625\" xlink:href=\"#ArialMT-72\"/>\r\n       <use x=\"272.363281\" xlink:href=\"#ArialMT-63\"/>\r\n       <use x=\"322.363281\" xlink:href=\"#ArialMT-20\"/>\r\n       <use x=\"350.146484\" xlink:href=\"#ArialMT-52\"/>\r\n       <use x=\"422.363281\" xlink:href=\"#ArialMT-7a\"/>\r\n       <use x=\"472.363281\" xlink:href=\"#ArialMT-65\"/>\r\n       <use x=\"527.978516\" xlink:href=\"#ArialMT-73\"/>\r\n       <use x=\"577.978516\" xlink:href=\"#ArialMT-7a\"/>\r\n       <use x=\"627.978516\" xlink:href=\"#ArialMT-f3\"/>\r\n       <use x=\"683.59375\" xlink:href=\"#ArialMT-77\"/>\r\n      </g>\r\n     </g>\r\n    </g>\r\n    <g id=\"text_4\">\r\n     <!-- seller -->\r\n     <g style=\"fill:#262626;\" transform=\"translate(199.480469 266.5325)scale(0.1 -0.1)\">\r\n      <use xlink:href=\"#ArialMT-73\"/>\r\n      <use x=\"50\" xlink:href=\"#ArialMT-65\"/>\r\n      <use x=\"105.615234\" xlink:href=\"#ArialMT-6c\"/>\r\n      <use x=\"127.832031\" xlink:href=\"#ArialMT-6c\"/>\r\n      <use x=\"150.048828\" xlink:href=\"#ArialMT-65\"/>\r\n      <use x=\"205.664062\" xlink:href=\"#ArialMT-72\"/>\r\n     </g>\r\n    </g>\r\n   </g>\r\n   <g id=\"matplotlib.axis_2\">\r\n    <g id=\"ytick_1\">\r\n     <g id=\"line2d_4\">\r\n      <path clip-path=\"url(#p6bcc39e12f)\" d=\"M 44.028125 239.229375 \r\nL 378.828125 239.229375 \r\n\" style=\"fill:none;stroke:#cccccc;stroke-linecap:round;stroke-width:0.8;\"/>\r\n     </g>\r\n     <g id=\"text_5\">\r\n      <!-- 0 -->\r\n      <g style=\"fill:#262626;\" transform=\"translate(31.467188 242.808281)scale(0.1 -0.1)\">\r\n       <defs>\r\n        <path d=\"M 266 2259 \r\nQ 266 3072 433 3567 \r\nQ 600 4063 929 4331 \r\nQ 1259 4600 1759 4600 \r\nQ 2128 4600 2406 4451 \r\nQ 2684 4303 2865 4023 \r\nQ 3047 3744 3150 3342 \r\nQ 3253 2941 3253 2259 \r\nQ 3253 1453 3087 958 \r\nQ 2922 463 2592 192 \r\nQ 2263 -78 1759 -78 \r\nQ 1097 -78 719 397 \r\nQ 266 969 266 2259 \r\nz\r\nM 844 2259 \r\nQ 844 1131 1108 757 \r\nQ 1372 384 1759 384 \r\nQ 2147 384 2411 759 \r\nQ 2675 1134 2675 2259 \r\nQ 2675 3391 2411 3762 \r\nQ 2147 4134 1753 4134 \r\nQ 1366 4134 1134 3806 \r\nQ 844 3388 844 2259 \r\nz\r\n\" id=\"ArialMT-30\" transform=\"scale(0.015625)\"/>\r\n       </defs>\r\n       <use xlink:href=\"#ArialMT-30\"/>\r\n      </g>\r\n     </g>\r\n    </g>\r\n    <g id=\"ytick_2\">\r\n     <g id=\"line2d_5\">\r\n      <path clip-path=\"url(#p6bcc39e12f)\" d=\"M 44.028125 197.224159 \r\nL 378.828125 197.224159 \r\n\" style=\"fill:none;stroke:#cccccc;stroke-linecap:round;stroke-width:0.8;\"/>\r\n     </g>\r\n     <g id=\"text_6\">\r\n      <!-- 100 -->\r\n      <g style=\"fill:#262626;\" transform=\"translate(20.345313 200.803065)scale(0.1 -0.1)\">\r\n       <defs>\r\n        <path d=\"M 2384 0 \r\nL 1822 0 \r\nL 1822 3584 \r\nQ 1619 3391 1289 3197 \r\nQ 959 3003 697 2906 \r\nL 697 3450 \r\nQ 1169 3672 1522 3987 \r\nQ 1875 4303 2022 4600 \r\nL 2384 4600 \r\nL 2384 0 \r\nz\r\n\" id=\"ArialMT-31\" transform=\"scale(0.015625)\"/>\r\n       </defs>\r\n       <use xlink:href=\"#ArialMT-31\"/>\r\n       <use x=\"55.615234\" xlink:href=\"#ArialMT-30\"/>\r\n       <use x=\"111.230469\" xlink:href=\"#ArialMT-30\"/>\r\n      </g>\r\n     </g>\r\n    </g>\r\n    <g id=\"ytick_3\">\r\n     <g id=\"line2d_6\">\r\n      <path clip-path=\"url(#p6bcc39e12f)\" d=\"M 44.028125 155.218943 \r\nL 378.828125 155.218943 \r\n\" style=\"fill:none;stroke:#cccccc;stroke-linecap:round;stroke-width:0.8;\"/>\r\n     </g>\r\n     <g id=\"text_7\">\r\n      <!-- 200 -->\r\n      <g style=\"fill:#262626;\" transform=\"translate(20.345313 158.797849)scale(0.1 -0.1)\">\r\n       <defs>\r\n        <path d=\"M 3222 541 \r\nL 3222 0 \r\nL 194 0 \r\nQ 188 203 259 391 \r\nQ 375 700 629 1000 \r\nQ 884 1300 1366 1694 \r\nQ 2113 2306 2375 2664 \r\nQ 2638 3022 2638 3341 \r\nQ 2638 3675 2398 3904 \r\nQ 2159 4134 1775 4134 \r\nQ 1369 4134 1125 3890 \r\nQ 881 3647 878 3216 \r\nL 300 3275 \r\nQ 359 3922 746 4261 \r\nQ 1134 4600 1788 4600 \r\nQ 2447 4600 2831 4234 \r\nQ 3216 3869 3216 3328 \r\nQ 3216 3053 3103 2787 \r\nQ 2991 2522 2730 2228 \r\nQ 2469 1934 1863 1422 \r\nQ 1356 997 1212 845 \r\nQ 1069 694 975 541 \r\nL 3222 541 \r\nz\r\n\" id=\"ArialMT-32\" transform=\"scale(0.015625)\"/>\r\n       </defs>\r\n       <use xlink:href=\"#ArialMT-32\"/>\r\n       <use x=\"55.615234\" xlink:href=\"#ArialMT-30\"/>\r\n       <use x=\"111.230469\" xlink:href=\"#ArialMT-30\"/>\r\n      </g>\r\n     </g>\r\n    </g>\r\n    <g id=\"ytick_4\">\r\n     <g id=\"line2d_7\">\r\n      <path clip-path=\"url(#p6bcc39e12f)\" d=\"M 44.028125 113.213727 \r\nL 378.828125 113.213727 \r\n\" style=\"fill:none;stroke:#cccccc;stroke-linecap:round;stroke-width:0.8;\"/>\r\n     </g>\r\n     <g id=\"text_8\">\r\n      <!-- 300 -->\r\n      <g style=\"fill:#262626;\" transform=\"translate(20.345313 116.792634)scale(0.1 -0.1)\">\r\n       <defs>\r\n        <path d=\"M 269 1209 \r\nL 831 1284 \r\nQ 928 806 1161 595 \r\nQ 1394 384 1728 384 \r\nQ 2125 384 2398 659 \r\nQ 2672 934 2672 1341 \r\nQ 2672 1728 2419 1979 \r\nQ 2166 2231 1775 2231 \r\nQ 1616 2231 1378 2169 \r\nL 1441 2663 \r\nQ 1497 2656 1531 2656 \r\nQ 1891 2656 2178 2843 \r\nQ 2466 3031 2466 3422 \r\nQ 2466 3731 2256 3934 \r\nQ 2047 4138 1716 4138 \r\nQ 1388 4138 1169 3931 \r\nQ 950 3725 888 3313 \r\nL 325 3413 \r\nQ 428 3978 793 4289 \r\nQ 1159 4600 1703 4600 \r\nQ 2078 4600 2393 4439 \r\nQ 2709 4278 2876 4000 \r\nQ 3044 3722 3044 3409 \r\nQ 3044 3113 2884 2869 \r\nQ 2725 2625 2413 2481 \r\nQ 2819 2388 3044 2092 \r\nQ 3269 1797 3269 1353 \r\nQ 3269 753 2831 336 \r\nQ 2394 -81 1725 -81 \r\nQ 1122 -81 723 278 \r\nQ 325 638 269 1209 \r\nz\r\n\" id=\"ArialMT-33\" transform=\"scale(0.015625)\"/>\r\n       </defs>\r\n       <use xlink:href=\"#ArialMT-33\"/>\r\n       <use x=\"55.615234\" xlink:href=\"#ArialMT-30\"/>\r\n       <use x=\"111.230469\" xlink:href=\"#ArialMT-30\"/>\r\n      </g>\r\n     </g>\r\n    </g>\r\n    <g id=\"ytick_5\">\r\n     <g id=\"line2d_8\">\r\n      <path clip-path=\"url(#p6bcc39e12f)\" d=\"M 44.028125 71.208511 \r\nL 378.828125 71.208511 \r\n\" style=\"fill:none;stroke:#cccccc;stroke-linecap:round;stroke-width:0.8;\"/>\r\n     </g>\r\n     <g id=\"text_9\">\r\n      <!-- 400 -->\r\n      <g style=\"fill:#262626;\" transform=\"translate(20.345313 74.787418)scale(0.1 -0.1)\">\r\n       <defs>\r\n        <path d=\"M 2069 0 \r\nL 2069 1097 \r\nL 81 1097 \r\nL 81 1613 \r\nL 2172 4581 \r\nL 2631 4581 \r\nL 2631 1613 \r\nL 3250 1613 \r\nL 3250 1097 \r\nL 2631 1097 \r\nL 2631 0 \r\nL 2069 0 \r\nz\r\nM 2069 1613 \r\nL 2069 3678 \r\nL 634 1613 \r\nL 2069 1613 \r\nz\r\n\" id=\"ArialMT-34\" transform=\"scale(0.015625)\"/>\r\n       </defs>\r\n       <use xlink:href=\"#ArialMT-34\"/>\r\n       <use x=\"55.615234\" xlink:href=\"#ArialMT-30\"/>\r\n       <use x=\"111.230469\" xlink:href=\"#ArialMT-30\"/>\r\n      </g>\r\n     </g>\r\n    </g>\r\n    <g id=\"ytick_6\">\r\n     <g id=\"line2d_9\">\r\n      <path clip-path=\"url(#p6bcc39e12f)\" d=\"M 44.028125 29.203296 \r\nL 378.828125 29.203296 \r\n\" style=\"fill:none;stroke:#cccccc;stroke-linecap:round;stroke-width:0.8;\"/>\r\n     </g>\r\n     <g id=\"text_10\">\r\n      <!-- 500 -->\r\n      <g style=\"fill:#262626;\" transform=\"translate(20.345313 32.782202)scale(0.1 -0.1)\">\r\n       <defs>\r\n        <path d=\"M 266 1200 \r\nL 856 1250 \r\nQ 922 819 1161 601 \r\nQ 1400 384 1738 384 \r\nQ 2144 384 2425 690 \r\nQ 2706 997 2706 1503 \r\nQ 2706 1984 2436 2262 \r\nQ 2166 2541 1728 2541 \r\nQ 1456 2541 1237 2417 \r\nQ 1019 2294 894 2097 \r\nL 366 2166 \r\nL 809 4519 \r\nL 3088 4519 \r\nL 3088 3981 \r\nL 1259 3981 \r\nL 1013 2750 \r\nQ 1425 3038 1878 3038 \r\nQ 2478 3038 2890 2622 \r\nQ 3303 2206 3303 1553 \r\nQ 3303 931 2941 478 \r\nQ 2500 -78 1738 -78 \r\nQ 1113 -78 717 272 \r\nQ 322 622 266 1200 \r\nz\r\n\" id=\"ArialMT-35\" transform=\"scale(0.015625)\"/>\r\n       </defs>\r\n       <use xlink:href=\"#ArialMT-35\"/>\r\n       <use x=\"55.615234\" xlink:href=\"#ArialMT-30\"/>\r\n       <use x=\"111.230469\" xlink:href=\"#ArialMT-30\"/>\r\n      </g>\r\n     </g>\r\n    </g>\r\n    <g id=\"text_11\">\r\n     <!-- Count -->\r\n     <g style=\"fill:#262626;\" transform=\"translate(14.357813 143.850781)rotate(-90)scale(0.1 -0.1)\">\r\n      <defs>\r\n       <path d=\"M 3763 1606 \r\nL 4369 1453 \r\nQ 4178 706 3683 314 \r\nQ 3188 -78 2472 -78 \r\nQ 1731 -78 1267 223 \r\nQ 803 525 561 1097 \r\nQ 319 1669 319 2325 \r\nQ 319 3041 592 3573 \r\nQ 866 4106 1370 4382 \r\nQ 1875 4659 2481 4659 \r\nQ 3169 4659 3637 4309 \r\nQ 4106 3959 4291 3325 \r\nL 3694 3184 \r\nQ 3534 3684 3231 3912 \r\nQ 2928 4141 2469 4141 \r\nQ 1941 4141 1586 3887 \r\nQ 1231 3634 1087 3207 \r\nQ 944 2781 944 2328 \r\nQ 944 1744 1114 1308 \r\nQ 1284 872 1643 656 \r\nQ 2003 441 2422 441 \r\nQ 2931 441 3284 734 \r\nQ 3638 1028 3763 1606 \r\nz\r\n\" id=\"ArialMT-43\" transform=\"scale(0.015625)\"/>\r\n       <path d=\"M 1650 503 \r\nL 1731 6 \r\nQ 1494 -44 1306 -44 \r\nQ 1000 -44 831 53 \r\nQ 663 150 594 308 \r\nQ 525 466 525 972 \r\nL 525 2881 \r\nL 113 2881 \r\nL 113 3319 \r\nL 525 3319 \r\nL 525 4141 \r\nL 1084 4478 \r\nL 1084 3319 \r\nL 1650 3319 \r\nL 1650 2881 \r\nL 1084 2881 \r\nL 1084 941 \r\nQ 1084 700 1114 631 \r\nQ 1144 563 1211 522 \r\nQ 1278 481 1403 481 \r\nQ 1497 481 1650 503 \r\nz\r\n\" id=\"ArialMT-74\" transform=\"scale(0.015625)\"/>\r\n      </defs>\r\n      <use xlink:href=\"#ArialMT-43\"/>\r\n      <use x=\"72.216797\" xlink:href=\"#ArialMT-6f\"/>\r\n      <use x=\"127.832031\" xlink:href=\"#ArialMT-75\"/>\r\n      <use x=\"183.447266\" xlink:href=\"#ArialMT-6e\"/>\r\n      <use x=\"239.0625\" xlink:href=\"#ArialMT-74\"/>\r\n     </g>\r\n    </g>\r\n   </g>\r\n   <g id=\"patch_3\">\r\n    <path clip-path=\"url(#p6bcc39e12f)\" d=\"M 59.246307 239.229375 \r\nL 160.700852 239.229375 \r\nL 160.700852 82.129868 \r\nL 59.246307 82.129868 \r\nz\r\n\" style=\"fill:#1f77b4;fill-opacity:0.75;stroke:#ffffff;stroke-linejoin:miter;\"/>\r\n   </g>\r\n   <g id=\"patch_4\">\r\n    <path clip-path=\"url(#p6bcc39e12f)\" d=\"M 160.700852 239.229375 \r\nL 262.155398 239.229375 \r\nL 262.155398 75.409033 \r\nL 160.700852 75.409033 \r\nz\r\n\" style=\"fill:#1f77b4;fill-opacity:0.75;stroke:#ffffff;stroke-linejoin:miter;\"/>\r\n   </g>\r\n   <g id=\"patch_5\">\r\n    <path clip-path=\"url(#p6bcc39e12f)\" d=\"M 262.155398 239.229375 \r\nL 363.609943 239.229375 \r\nL 363.609943 32.143661 \r\nL 262.155398 32.143661 \r\nz\r\n\" style=\"fill:#1f77b4;fill-opacity:0.75;stroke:#ffffff;stroke-linejoin:miter;\"/>\r\n   </g>\r\n   <g id=\"patch_6\">\r\n    <path d=\"M 44.028125 239.229375 \r\nL 44.028125 21.789375 \r\n\" style=\"fill:none;stroke:#cccccc;stroke-linecap:square;stroke-linejoin:miter;stroke-width:0.8;\"/>\r\n   </g>\r\n   <g id=\"patch_7\">\r\n    <path d=\"M 378.828125 239.229375 \r\nL 378.828125 21.789375 \r\n\" style=\"fill:none;stroke:#cccccc;stroke-linecap:square;stroke-linejoin:miter;stroke-width:0.8;\"/>\r\n   </g>\r\n   <g id=\"patch_8\">\r\n    <path d=\"M 44.028125 239.229375 \r\nL 378.828125 239.229375 \r\n\" style=\"fill:none;stroke:#cccccc;stroke-linecap:square;stroke-linejoin:miter;stroke-width:0.8;\"/>\r\n   </g>\r\n   <g id=\"patch_9\">\r\n    <path d=\"M 44.028125 21.789375 \r\nL 378.828125 21.789375 \r\n\" style=\"fill:none;stroke:#cccccc;stroke-linecap:square;stroke-linejoin:miter;stroke-width:0.8;\"/>\r\n   </g>\r\n   <g id=\"text_12\">\r\n    <!-- Napoje -->\r\n    <g style=\"fill:#262626;\" transform=\"translate(192.415625 15.789375)scale(0.12 -0.12)\">\r\n     <defs>\r\n      <path d=\"M 488 0 \r\nL 488 4581 \r\nL 1109 4581 \r\nL 3516 984 \r\nL 3516 4581 \r\nL 4097 4581 \r\nL 4097 0 \r\nL 3475 0 \r\nL 1069 3600 \r\nL 1069 0 \r\nL 488 0 \r\nz\r\n\" id=\"ArialMT-4e\" transform=\"scale(0.015625)\"/>\r\n      <path d=\"M 2588 409 \r\nQ 2275 144 1986 34 \r\nQ 1697 -75 1366 -75 \r\nQ 819 -75 525 192 \r\nQ 231 459 231 875 \r\nQ 231 1119 342 1320 \r\nQ 453 1522 633 1644 \r\nQ 813 1766 1038 1828 \r\nQ 1203 1872 1538 1913 \r\nQ 2219 1994 2541 2106 \r\nQ 2544 2222 2544 2253 \r\nQ 2544 2597 2384 2738 \r\nQ 2169 2928 1744 2928 \r\nQ 1347 2928 1158 2789 \r\nQ 969 2650 878 2297 \r\nL 328 2372 \r\nQ 403 2725 575 2942 \r\nQ 747 3159 1072 3276 \r\nQ 1397 3394 1825 3394 \r\nQ 2250 3394 2515 3294 \r\nQ 2781 3194 2906 3042 \r\nQ 3031 2891 3081 2659 \r\nQ 3109 2516 3109 2141 \r\nL 3109 1391 \r\nQ 3109 606 3145 398 \r\nQ 3181 191 3288 0 \r\nL 2700 0 \r\nQ 2613 175 2588 409 \r\nz\r\nM 2541 1666 \r\nQ 2234 1541 1622 1453 \r\nQ 1275 1403 1131 1340 \r\nQ 988 1278 909 1158 \r\nQ 831 1038 831 891 \r\nQ 831 666 1001 516 \r\nQ 1172 366 1500 366 \r\nQ 1825 366 2078 508 \r\nQ 2331 650 2450 897 \r\nQ 2541 1088 2541 1459 \r\nL 2541 1666 \r\nz\r\n\" id=\"ArialMT-61\" transform=\"scale(0.015625)\"/>\r\n      <path d=\"M 422 -1272 \r\nL 422 3319 \r\nL 934 3319 \r\nL 934 2888 \r\nQ 1116 3141 1344 3267 \r\nQ 1572 3394 1897 3394 \r\nQ 2322 3394 2647 3175 \r\nQ 2972 2956 3137 2557 \r\nQ 3303 2159 3303 1684 \r\nQ 3303 1175 3120 767 \r\nQ 2938 359 2589 142 \r\nQ 2241 -75 1856 -75 \r\nQ 1575 -75 1351 44 \r\nQ 1128 163 984 344 \r\nL 984 -1272 \r\nL 422 -1272 \r\nz\r\nM 931 1641 \r\nQ 931 1000 1190 694 \r\nQ 1450 388 1819 388 \r\nQ 2194 388 2461 705 \r\nQ 2728 1022 2728 1688 \r\nQ 2728 2322 2467 2637 \r\nQ 2206 2953 1844 2953 \r\nQ 1484 2953 1207 2617 \r\nQ 931 2281 931 1641 \r\nz\r\n\" id=\"ArialMT-70\" transform=\"scale(0.015625)\"/>\r\n      <path d=\"M 419 3928 \r\nL 419 4581 \r\nL 981 4581 \r\nL 981 3928 \r\nL 419 3928 \r\nz\r\nM -294 -1288 \r\nL -188 -809 \r\nQ -19 -853 78 -853 \r\nQ 250 -853 334 -739 \r\nQ 419 -625 419 -169 \r\nL 419 3319 \r\nL 981 3319 \r\nL 981 -181 \r\nQ 981 -794 822 -1034 \r\nQ 619 -1347 147 -1347 \r\nQ -81 -1347 -294 -1288 \r\nz\r\n\" id=\"ArialMT-6a\" transform=\"scale(0.015625)\"/>\r\n     </defs>\r\n     <use xlink:href=\"#ArialMT-4e\"/>\r\n     <use x=\"72.216797\" xlink:href=\"#ArialMT-61\"/>\r\n     <use x=\"127.832031\" xlink:href=\"#ArialMT-70\"/>\r\n     <use x=\"183.447266\" xlink:href=\"#ArialMT-6f\"/>\r\n     <use x=\"239.0625\" xlink:href=\"#ArialMT-6a\"/>\r\n     <use x=\"261.279297\" xlink:href=\"#ArialMT-65\"/>\r\n    </g>\r\n   </g>\r\n  </g>\r\n </g>\r\n <defs>\r\n  <clipPath id=\"p6bcc39e12f\">\r\n   <rect height=\"217.44\" width=\"334.8\" x=\"44.028125\" y=\"21.789375\"/>\r\n  </clipPath>\r\n </defs>\r\n</svg>\r\n",
      "image/png": "[encoded data removed]"
     },
     "metadata": {}
    }
   ],
   "source": [
    "sns.histplot(df[df['main_category'] == 'napoje'], x='seller').set_title('Napoje')"
   ],
   "metadata": {
    "collapsed": false,
    "pycharm": {
     "name": "#%%\n"
    }
   }
  },
  {
   "cell_type": "markdown",
   "source": [
    "## Normalization to WDC v2 format"
   ],
   "metadata": {
    "collapsed": false,
    "pycharm": {
     "name": "#%% md\n"
    }
   }
  },
  {
   "cell_type": "code",
   "execution_count": 303,
   "outputs": [],
   "source": [
    "df.fillna('', inplace=True)"
   ],
   "metadata": {
    "collapsed": false,
    "pycharm": {
     "name": "#%%\n"
    }
   }
  },
  {
   "cell_type": "code",
   "execution_count": 304,
   "outputs": [
    {
     "output_type": "execute_result",
     "data": {
      "text/plain": [
       "                EAN  amount     brand capacity  \\\n",
       "5107  5903683001706  4 szt       mola            \n",
       "4653  5900627090536   3 6 l   woolite    3 6 l   \n",
       "7195  5900627062687   30 ml  air wick    30 ml   \n",
       "1236  5901067402101  300 ml   tarczyn   300 ml   \n",
       "1564  5901067404587  400 ml     kubuś   400 ml   \n",
       "\n",
       "                                               category  \\\n",
       "5107                        drogeria ręczniki papierowe   \n",
       "4653  środki czystości chemia pranie płyny i żele pł...   \n",
       "7195      chemia akcesoria domowe odświeżacze powietrza   \n",
       "1236  napoje soki i nektary soki owocowe pomarańczow...   \n",
       "1564  napoje niegazowane owocowe z owoców sadu z jab...   \n",
       "\n",
       "                                            description extras  \\\n",
       "5107  super chłonne i wytrzymałe ręczniki papierowe ...          \n",
       "4653  woolite delikatne tkaniny i wełna z keratyną p...          \n",
       "7195  air wick life scents pachnące patyczki o zapac...          \n",
       "1236  tarczyn sok 100 pomarańcza sok pomarańczowy ta...          \n",
       "1564  kubuś play napój owocowy woda i owoce jabłko c...          \n",
       "\n",
       "                                              image_url  \\\n",
       "5107  https leclercdrive lublin pl 132663 large_defa...   \n",
       "4653  https www frisco pl pid 116061 n woolite delic...   \n",
       "7195  https www leclerc rzeszow pl resize php pic 13...   \n",
       "1236  https www frisco pl pid 16 n tarczyn sok 100 p...   \n",
       "1564  https www frisco pl pid 105395 n kubus play na...   \n",
       "\n",
       "                                            ingredients  \\\n",
       "5107                                                      \n",
       "4653  5 15 anionowe środki powierzchniowo czynne 5 n...   \n",
       "7195                                                      \n",
       "1236  sok pomarańczowy 100 z zagęszczonego soku poma...   \n",
       "1564  sok jabłkowy 50 z zagęszczonego soku woda sok ...   \n",
       "\n",
       "                             origin    price           seller  \\\n",
       "5107                                 6 29 zł   leclerc lublin   \n",
       "4653   kraj pochodzenia produkt ue     22 99           frisco   \n",
       "7195                                   19 99  leclerc rzeszów   \n",
       "1236                                    1 99           frisco   \n",
       "1564                                    2 39           frisco   \n",
       "\n",
       "                                                storage  \\\n",
       "5107                                                      \n",
       "4653  data ważności 2 lat od daty produkcji podanej ...   \n",
       "7195  data ważności 2 lata od daty produkcji podanej...   \n",
       "1236  chroń przed światłem naprawdę nie wypiłeś całe...   \n",
       "1564  chronić przed światłem po otwarciu przechowywa...   \n",
       "\n",
       "                                                  title  \\\n",
       "5107      mola ultra chłonne ręczniki papierowe 4 rolki   \n",
       "4653  woolite delicate płyn do prania do delikatnych...   \n",
       "7195  air wick life scents pachnące patyczki o zapac...   \n",
       "1236                         tarczyn sok 100 pomarańcza   \n",
       "1564  kubuś play napój owocowy woda i owoce jabłko c...   \n",
       "\n",
       "                                                    url            weight  \\\n",
       "5107  https leclercdrive lublin pl reczniki papierow...                     \n",
       "4653  https www frisco pl pid 116061 n woolite delic...                     \n",
       "7195  https www leclerc rzeszow pl air wick life sce...  waga netto 30 ml   \n",
       "1236  https www frisco pl pid 16 n tarczyn sok 100 p...   waga brutto 476   \n",
       "1564  https www frisco pl pid 105395 n kubus play na...   waga brutto 436   \n",
       "\n",
       "     main_category  \n",
       "5107        chemia  \n",
       "4653        chemia  \n",
       "7195        chemia  \n",
       "1236        napoje  \n",
       "1564        napoje  "
      ],
      "text/html": "<div>\n<style scoped>\n    .dataframe tbody tr th:only-of-type {\n        vertical-align: middle;\n    }\n\n    .dataframe tbody tr th {\n        vertical-align: top;\n    }\n\n    .dataframe thead th {\n        text-align: right;\n    }\n</style>\n<table border=\"1\" class=\"dataframe\">\n  <thead>\n    <tr style=\"text-align: right;\">\n      <th></th>\n      <th>EAN</th>\n      <th>amount</th>\n      <th>brand</th>\n      <th>capacity</th>\n      <th>category</th>\n      <th>description</th>\n      <th>extras</th>\n      <th>image_url</th>\n      <th>ingredients</th>\n      <th>origin</th>\n      <th>price</th>\n      <th>seller</th>\n      <th>storage</th>\n      <th>title</th>\n      <th>url</th>\n      <th>weight</th>\n      <th>main_category</th>\n    </tr>\n  </thead>\n  <tbody>\n    <tr>\n      <th>5107</th>\n      <td>5903683001706</td>\n      <td>4 szt</td>\n      <td>mola</td>\n      <td></td>\n      <td>drogeria ręczniki papierowe</td>\n      <td>super chłonne i wytrzymałe ręczniki papierowe ...</td>\n      <td></td>\n      <td>https leclercdrive lublin pl 132663 large_defa...</td>\n      <td></td>\n      <td></td>\n      <td>6 29 zł</td>\n      <td>leclerc lublin</td>\n      <td></td>\n      <td>mola ultra chłonne ręczniki papierowe 4 rolki</td>\n      <td>https leclercdrive lublin pl reczniki papierow...</td>\n      <td></td>\n      <td>chemia</td>\n    </tr>\n    <tr>\n      <th>4653</th>\n      <td>5900627090536</td>\n      <td>3 6 l</td>\n      <td>woolite</td>\n      <td>3 6 l</td>\n      <td>środki czystości chemia pranie płyny i żele pł...</td>\n      <td>woolite delikatne tkaniny i wełna z keratyną p...</td>\n      <td></td>\n      <td>https www frisco pl pid 116061 n woolite delic...</td>\n      <td>5 15 anionowe środki powierzchniowo czynne 5 n...</td>\n      <td>kraj pochodzenia produkt ue</td>\n      <td>22 99</td>\n      <td>frisco</td>\n      <td>data ważności 2 lat od daty produkcji podanej ...</td>\n      <td>woolite delicate płyn do prania do delikatnych...</td>\n      <td>https www frisco pl pid 116061 n woolite delic...</td>\n      <td></td>\n      <td>chemia</td>\n    </tr>\n    <tr>\n      <th>7195</th>\n      <td>5900627062687</td>\n      <td>30 ml</td>\n      <td>air wick</td>\n      <td>30 ml</td>\n      <td>chemia akcesoria domowe odświeżacze powietrza</td>\n      <td>air wick life scents pachnące patyczki o zapac...</td>\n      <td></td>\n      <td>https www leclerc rzeszow pl resize php pic 13...</td>\n      <td></td>\n      <td></td>\n      <td>19 99</td>\n      <td>leclerc rzeszów</td>\n      <td>data ważności 2 lata od daty produkcji podanej...</td>\n      <td>air wick life scents pachnące patyczki o zapac...</td>\n      <td>https www leclerc rzeszow pl air wick life sce...</td>\n      <td>waga netto 30 ml</td>\n      <td>chemia</td>\n    </tr>\n    <tr>\n      <th>1236</th>\n      <td>5901067402101</td>\n      <td>300 ml</td>\n      <td>tarczyn</td>\n      <td>300 ml</td>\n      <td>napoje soki i nektary soki owocowe pomarańczow...</td>\n      <td>tarczyn sok 100 pomarańcza sok pomarańczowy ta...</td>\n      <td></td>\n      <td>https www frisco pl pid 16 n tarczyn sok 100 p...</td>\n      <td>sok pomarańczowy 100 z zagęszczonego soku poma...</td>\n      <td></td>\n      <td>1 99</td>\n      <td>frisco</td>\n      <td>chroń przed światłem naprawdę nie wypiłeś całe...</td>\n      <td>tarczyn sok 100 pomarańcza</td>\n      <td>https www frisco pl pid 16 n tarczyn sok 100 p...</td>\n      <td>waga brutto 476</td>\n      <td>napoje</td>\n    </tr>\n    <tr>\n      <th>1564</th>\n      <td>5901067404587</td>\n      <td>400 ml</td>\n      <td>kubuś</td>\n      <td>400 ml</td>\n      <td>napoje niegazowane owocowe z owoców sadu z jab...</td>\n      <td>kubuś play napój owocowy woda i owoce jabłko c...</td>\n      <td></td>\n      <td>https www frisco pl pid 105395 n kubus play na...</td>\n      <td>sok jabłkowy 50 z zagęszczonego soku woda sok ...</td>\n      <td></td>\n      <td>2 39</td>\n      <td>frisco</td>\n      <td>chronić przed światłem po otwarciu przechowywa...</td>\n      <td>kubuś play napój owocowy woda i owoce jabłko c...</td>\n      <td>https www frisco pl pid 105395 n kubus play na...</td>\n      <td>waga brutto 436</td>\n      <td>napoje</td>\n    </tr>\n  </tbody>\n</table>\n</div>"
     },
     "metadata": {},
     "execution_count": 304
    }
   ],
   "source": [
    "df_normalized = pd.DataFrame()\n",
    "for k in df.keys():\n",
    "    df_normalized[k] = df[k].str.lower()\n",
    "    df_normalized[k] = df_normalized[k].str.replace(r'\\W',r' ',regex=True)\n",
    "    df_normalized[k] = df_normalized[k].str.replace(r' +',r' ',regex=True)\n",
    "df_normalized.head()"
   ],
   "metadata": {
    "collapsed": false,
    "pycharm": {
     "name": "#%%\n"
    }
   }
  },
  {
   "cell_type": "code",
   "execution_count": 305,
   "outputs": [],
   "source": [
    "def to_WDC_standard(data):\n",
    "    wdc_df = pd.DataFrame({'id':data.index}).set_index('id')\n",
    "    wdc_df['cluster_id'] = data['EAN']\n",
    "    wdc_df['identifiers'] = [[{'EAN': [e]}] for e in data['EAN'].to_list()]\n",
    "    wdc_df['category'] = data['main_category']\n",
    "    wdc_df['title'] = data['title']\n",
    "    wdc_df['description'] = data['description']\n",
    "    wdc_df['brand'] = data['brand']\n",
    "    wdc_df['price'] = data['price']\n",
    "    spec_table = 'amount ' + data['amount']\n",
    "    for c in ['capacity', 'extras', 'image_url', 'ingredients', 'origin', 'storage', 'url', 'weight']:\n",
    "        s =  ' ' + c + ' ' + data[c]\n",
    "        spec_table += s\n",
    "    wdc_df['specTableContent'] = spec_table\n",
    "    wdc_df['keyValuePairs'] = data.loc[:, ['amount', 'capacity', 'extras', 'image_url', 'ingredients', 'origin', 'storage', 'url', 'weight']].to_dict(orient='records')\n",
    "    return wdc_df"
   ],
   "metadata": {
    "collapsed": false,
    "pycharm": {
     "name": "#%%\n"
    }
   }
  },
  {
   "cell_type": "code",
   "execution_count": 306,
   "outputs": [
    {
     "output_type": "execute_result",
     "data": {
      "text/plain": [
       "         cluster_id                   identifiers category  \\\n",
       "id                                                           \n",
       "5107  5903683001706  [{'EAN': ['5903683001706']}]   chemia   \n",
       "4653  5900627090536  [{'EAN': ['5900627090536']}]   chemia   \n",
       "7195  5900627062687  [{'EAN': ['5900627062687']}]   chemia   \n",
       "1236  5901067402101  [{'EAN': ['5901067402101']}]   napoje   \n",
       "1564  5901067404587  [{'EAN': ['5901067404587']}]   napoje   \n",
       "\n",
       "                                                  title  \\\n",
       "id                                                        \n",
       "5107      Mola Ultra Chłonne Ręczniki papierowe 4 rolki   \n",
       "4653  WOOLITE Delicate Płyn do prania do delikatnych...   \n",
       "7195  Air Wick Life Scents Pachnące patyczki o zapac...   \n",
       "1236                        TARCZYN Sok 100% Pomarańcza   \n",
       "1564  KUBUŚ Play! Napój owocowy woda i owoce jabłko ...   \n",
       "\n",
       "                                            description     brand    price  \\\n",
       "id                                                                           \n",
       "5107  Super chłonne i wytrzymałe ręczniki papierowe\\...      Mola  6,29 zł   \n",
       "4653  Woolite delikatne tkaniny i wełna z keratyną.\\...   WOOLITE    22.99   \n",
       "7195  Air Wick Life Scents Pachnące patyczki o zapac...  Air Wick    19.99   \n",
       "1236  TARCZYN Sok 100% Pomarańcza\\n\\nSok pomarańczow...   TARCZYN     1.99   \n",
       "1564  KUBUŚ Play! Napój owocowy woda i owoce jabłko ...     KUBUŚ     2.39   \n",
       "\n",
       "                                       specTableContent  \\\n",
       "id                                                        \n",
       "5107  amount 4 szt. capacity  extras  image_url http...   \n",
       "4653  amount 3.6 l capacity 3.6 l extras  image_url ...   \n",
       "7195  amount 30 ml capacity 30 ml extras  image_url ...   \n",
       "1236  amount 300 ml capacity 300 ml extras  image_ur...   \n",
       "1564  amount 400 ml capacity 400 ml extras  image_ur...   \n",
       "\n",
       "                                          keyValuePairs  \n",
       "id                                                       \n",
       "5107  {'amount': '4 szt.', 'capacity': '', 'extras':...  \n",
       "4653  {'amount': '3.6 l', 'capacity': '3.6 l', 'extr...  \n",
       "7195  {'amount': '30 ml', 'capacity': '30 ml', 'extr...  \n",
       "1236  {'amount': '300 ml', 'capacity': '300 ml', 'ex...  \n",
       "1564  {'amount': '400 ml', 'capacity': '400 ml', 'ex...  "
      ],
      "text/html": "<div>\n<style scoped>\n    .dataframe tbody tr th:only-of-type {\n        vertical-align: middle;\n    }\n\n    .dataframe tbody tr th {\n        vertical-align: top;\n    }\n\n    .dataframe thead th {\n        text-align: right;\n    }\n</style>\n<table border=\"1\" class=\"dataframe\">\n  <thead>\n    <tr style=\"text-align: right;\">\n      <th></th>\n      <th>cluster_id</th>\n      <th>identifiers</th>\n      <th>category</th>\n      <th>title</th>\n      <th>description</th>\n      <th>brand</th>\n      <th>price</th>\n      <th>specTableContent</th>\n      <th>keyValuePairs</th>\n    </tr>\n    <tr>\n      <th>id</th>\n      <th></th>\n      <th></th>\n      <th></th>\n      <th></th>\n      <th></th>\n      <th></th>\n      <th></th>\n      <th></th>\n      <th></th>\n    </tr>\n  </thead>\n  <tbody>\n    <tr>\n      <th>5107</th>\n      <td>5903683001706</td>\n      <td>[{'EAN': ['5903683001706']}]</td>\n      <td>chemia</td>\n      <td>Mola Ultra Chłonne Ręczniki papierowe 4 rolki</td>\n      <td>Super chłonne i wytrzymałe ręczniki papierowe\\...</td>\n      <td>Mola</td>\n      <td>6,29 zł</td>\n      <td>amount 4 szt. capacity  extras  image_url http...</td>\n      <td>{'amount': '4 szt.', 'capacity': '', 'extras':...</td>\n    </tr>\n    <tr>\n      <th>4653</th>\n      <td>5900627090536</td>\n      <td>[{'EAN': ['5900627090536']}]</td>\n      <td>chemia</td>\n      <td>WOOLITE Delicate Płyn do prania do delikatnych...</td>\n      <td>Woolite delikatne tkaniny i wełna z keratyną.\\...</td>\n      <td>WOOLITE</td>\n      <td>22.99</td>\n      <td>amount 3.6 l capacity 3.6 l extras  image_url ...</td>\n      <td>{'amount': '3.6 l', 'capacity': '3.6 l', 'extr...</td>\n    </tr>\n    <tr>\n      <th>7195</th>\n      <td>5900627062687</td>\n      <td>[{'EAN': ['5900627062687']}]</td>\n      <td>chemia</td>\n      <td>Air Wick Life Scents Pachnące patyczki o zapac...</td>\n      <td>Air Wick Life Scents Pachnące patyczki o zapac...</td>\n      <td>Air Wick</td>\n      <td>19.99</td>\n      <td>amount 30 ml capacity 30 ml extras  image_url ...</td>\n      <td>{'amount': '30 ml', 'capacity': '30 ml', 'extr...</td>\n    </tr>\n    <tr>\n      <th>1236</th>\n      <td>5901067402101</td>\n      <td>[{'EAN': ['5901067402101']}]</td>\n      <td>napoje</td>\n      <td>TARCZYN Sok 100% Pomarańcza</td>\n      <td>TARCZYN Sok 100% Pomarańcza\\n\\nSok pomarańczow...</td>\n      <td>TARCZYN</td>\n      <td>1.99</td>\n      <td>amount 300 ml capacity 300 ml extras  image_ur...</td>\n      <td>{'amount': '300 ml', 'capacity': '300 ml', 'ex...</td>\n    </tr>\n    <tr>\n      <th>1564</th>\n      <td>5901067404587</td>\n      <td>[{'EAN': ['5901067404587']}]</td>\n      <td>napoje</td>\n      <td>KUBUŚ Play! Napój owocowy woda i owoce jabłko ...</td>\n      <td>KUBUŚ Play! Napój owocowy woda i owoce jabłko ...</td>\n      <td>KUBUŚ</td>\n      <td>2.39</td>\n      <td>amount 400 ml capacity 400 ml extras  image_ur...</td>\n      <td>{'amount': '400 ml', 'capacity': '400 ml', 'ex...</td>\n    </tr>\n  </tbody>\n</table>\n</div>"
     },
     "metadata": {},
     "execution_count": 306
    }
   ],
   "source": [
    "wdc_df_non_normalized = to_WDC_standard(df)\n",
    "wdc_df_non_normalized.head()"
   ],
   "metadata": {
    "collapsed": false,
    "pycharm": {
     "name": "#%%\n"
    }
   }
  },
  {
   "cell_type": "code",
   "execution_count": 307,
   "outputs": [],
   "source": [
    "wdc_df_non_normalized.to_json('pl_wdc_non_normalized.json.gz', orient='records', compression='gzip', index=True, lines=True)"
   ],
   "metadata": {
    "collapsed": false,
    "pycharm": {
     "name": "#%%\n"
    }
   }
  },
  {
   "cell_type": "code",
   "execution_count": 308,
   "outputs": [
    {
     "output_type": "execute_result",
     "data": {
      "text/plain": [
       "         cluster_id                   identifiers category  \\\n",
       "id                                                           \n",
       "5107  5903683001706  [{'EAN': ['5903683001706']}]   chemia   \n",
       "4653  5900627090536  [{'EAN': ['5900627090536']}]   chemia   \n",
       "7195  5900627062687  [{'EAN': ['5900627062687']}]   chemia   \n",
       "1236  5901067402101  [{'EAN': ['5901067402101']}]   napoje   \n",
       "1564  5901067404587  [{'EAN': ['5901067404587']}]   napoje   \n",
       "\n",
       "                                                  title  \\\n",
       "id                                                        \n",
       "5107      mola ultra chłonne ręczniki papierowe 4 rolki   \n",
       "4653  woolite delicate płyn do prania do delikatnych...   \n",
       "7195  air wick life scents pachnące patyczki o zapac...   \n",
       "1236                         tarczyn sok 100 pomarańcza   \n",
       "1564  kubuś play napój owocowy woda i owoce jabłko c...   \n",
       "\n",
       "                                            description     brand    price  \\\n",
       "id                                                                           \n",
       "5107  super chłonne i wytrzymałe ręczniki papierowe ...      mola  6 29 zł   \n",
       "4653  woolite delikatne tkaniny i wełna z keratyną p...   woolite    22 99   \n",
       "7195  air wick life scents pachnące patyczki o zapac...  air wick    19 99   \n",
       "1236  tarczyn sok 100 pomarańcza sok pomarańczowy ta...   tarczyn     1 99   \n",
       "1564  kubuś play napój owocowy woda i owoce jabłko c...     kubuś     2 39   \n",
       "\n",
       "                                       specTableContent  \\\n",
       "id                                                        \n",
       "5107  amount 4 szt  capacity  extras  image_url http...   \n",
       "4653  amount 3 6 l capacity 3 6 l extras  image_url ...   \n",
       "7195  amount 30 ml capacity 30 ml extras  image_url ...   \n",
       "1236  amount 300 ml capacity 300 ml extras  image_ur...   \n",
       "1564  amount 400 ml capacity 400 ml extras  image_ur...   \n",
       "\n",
       "                                          keyValuePairs  \n",
       "id                                                       \n",
       "5107  {'amount': '4 szt ', 'capacity': '', 'extras':...  \n",
       "4653  {'amount': '3 6 l', 'capacity': '3 6 l', 'extr...  \n",
       "7195  {'amount': '30 ml', 'capacity': '30 ml', 'extr...  \n",
       "1236  {'amount': '300 ml', 'capacity': '300 ml', 'ex...  \n",
       "1564  {'amount': '400 ml', 'capacity': '400 ml', 'ex...  "
      ],
      "text/html": "<div>\n<style scoped>\n    .dataframe tbody tr th:only-of-type {\n        vertical-align: middle;\n    }\n\n    .dataframe tbody tr th {\n        vertical-align: top;\n    }\n\n    .dataframe thead th {\n        text-align: right;\n    }\n</style>\n<table border=\"1\" class=\"dataframe\">\n  <thead>\n    <tr style=\"text-align: right;\">\n      <th></th>\n      <th>cluster_id</th>\n      <th>identifiers</th>\n      <th>category</th>\n      <th>title</th>\n      <th>description</th>\n      <th>brand</th>\n      <th>price</th>\n      <th>specTableContent</th>\n      <th>keyValuePairs</th>\n    </tr>\n    <tr>\n      <th>id</th>\n      <th></th>\n      <th></th>\n      <th></th>\n      <th></th>\n      <th></th>\n      <th></th>\n      <th></th>\n      <th></th>\n      <th></th>\n    </tr>\n  </thead>\n  <tbody>\n    <tr>\n      <th>5107</th>\n      <td>5903683001706</td>\n      <td>[{'EAN': ['5903683001706']}]</td>\n      <td>chemia</td>\n      <td>mola ultra chłonne ręczniki papierowe 4 rolki</td>\n      <td>super chłonne i wytrzymałe ręczniki papierowe ...</td>\n      <td>mola</td>\n      <td>6 29 zł</td>\n      <td>amount 4 szt  capacity  extras  image_url http...</td>\n      <td>{'amount': '4 szt ', 'capacity': '', 'extras':...</td>\n    </tr>\n    <tr>\n      <th>4653</th>\n      <td>5900627090536</td>\n      <td>[{'EAN': ['5900627090536']}]</td>\n      <td>chemia</td>\n      <td>woolite delicate płyn do prania do delikatnych...</td>\n      <td>woolite delikatne tkaniny i wełna z keratyną p...</td>\n      <td>woolite</td>\n      <td>22 99</td>\n      <td>amount 3 6 l capacity 3 6 l extras  image_url ...</td>\n      <td>{'amount': '3 6 l', 'capacity': '3 6 l', 'extr...</td>\n    </tr>\n    <tr>\n      <th>7195</th>\n      <td>5900627062687</td>\n      <td>[{'EAN': ['5900627062687']}]</td>\n      <td>chemia</td>\n      <td>air wick life scents pachnące patyczki o zapac...</td>\n      <td>air wick life scents pachnące patyczki o zapac...</td>\n      <td>air wick</td>\n      <td>19 99</td>\n      <td>amount 30 ml capacity 30 ml extras  image_url ...</td>\n      <td>{'amount': '30 ml', 'capacity': '30 ml', 'extr...</td>\n    </tr>\n    <tr>\n      <th>1236</th>\n      <td>5901067402101</td>\n      <td>[{'EAN': ['5901067402101']}]</td>\n      <td>napoje</td>\n      <td>tarczyn sok 100 pomarańcza</td>\n      <td>tarczyn sok 100 pomarańcza sok pomarańczowy ta...</td>\n      <td>tarczyn</td>\n      <td>1 99</td>\n      <td>amount 300 ml capacity 300 ml extras  image_ur...</td>\n      <td>{'amount': '300 ml', 'capacity': '300 ml', 'ex...</td>\n    </tr>\n    <tr>\n      <th>1564</th>\n      <td>5901067404587</td>\n      <td>[{'EAN': ['5901067404587']}]</td>\n      <td>napoje</td>\n      <td>kubuś play napój owocowy woda i owoce jabłko c...</td>\n      <td>kubuś play napój owocowy woda i owoce jabłko c...</td>\n      <td>kubuś</td>\n      <td>2 39</td>\n      <td>amount 400 ml capacity 400 ml extras  image_ur...</td>\n      <td>{'amount': '400 ml', 'capacity': '400 ml', 'ex...</td>\n    </tr>\n  </tbody>\n</table>\n</div>"
     },
     "metadata": {},
     "execution_count": 308
    }
   ],
   "source": [
    "wdc_df_normalized = to_WDC_standard(df_normalized)\n",
    "wdc_df_normalized.head()"
   ],
   "metadata": {
    "collapsed": false,
    "pycharm": {
     "name": "#%%\n"
    }
   }
  },
  {
   "cell_type": "code",
   "execution_count": 309,
   "outputs": [],
   "source": [
    "wdc_df_normalized.to_json('pl_wdc_normalized.json.gz', orient='records', compression='gzip', index=True, lines=True)"
   ],
   "metadata": {
    "collapsed": false,
    "pycharm": {
     "name": "#%%\n"
    }
   }
  },
  {
   "cell_type": "code",
   "execution_count": 310,
   "outputs": [],
   "source": [
    "wdc_df_normalized.reset_index(level=0, inplace=True)"
   ],
   "metadata": {
    "collapsed": false,
    "pycharm": {
     "name": "#%%\n"
    }
   }
  },
  {
   "cell_type": "code",
   "execution_count": 311,
   "outputs": [
    {
     "output_type": "execute_result",
     "data": {
      "text/plain": [
       "                              id_left  cluster_id_left  identifiers_left  \\\n",
       "category_left category_right                                               \n",
       "chemia        chemia             3827             3827              3827   \n",
       "napoje        napoje             2967             2967              2967   \n",
       "\n",
       "                              title_left  description_left  brand_left  \\\n",
       "category_left category_right                                             \n",
       "chemia        chemia                3827              3827        3827   \n",
       "napoje        napoje                2967              2967        2967   \n",
       "\n",
       "                              price_left  specTableContent_left  \\\n",
       "category_left category_right                                      \n",
       "chemia        chemia                3827                   3827   \n",
       "napoje        napoje                2967                   2967   \n",
       "\n",
       "                              keyValuePairs_left  id_right  cluster_id_right  \\\n",
       "category_left category_right                                                   \n",
       "chemia        chemia                        3827      3827              3827   \n",
       "napoje        napoje                        2967      2967              2967   \n",
       "\n",
       "                              identifiers_right  title_right  \\\n",
       "category_left category_right                                   \n",
       "chemia        chemia                       3827         3827   \n",
       "napoje        napoje                       2967         2967   \n",
       "\n",
       "                              description_right  brand_right  price_right  \\\n",
       "category_left category_right                                                \n",
       "chemia        chemia                       3827         3827         3827   \n",
       "napoje        napoje                       2967         2967         2967   \n",
       "\n",
       "                              specTableContent_right  keyValuePairs_right  \\\n",
       "category_left category_right                                                \n",
       "chemia        chemia                            3827                 3827   \n",
       "napoje        napoje                            2967                 2967   \n",
       "\n",
       "                              label  \n",
       "category_left category_right         \n",
       "chemia        chemia           3827  \n",
       "napoje        napoje           2967  "
      ],
      "text/html": "<div>\n<style scoped>\n    .dataframe tbody tr th:only-of-type {\n        vertical-align: middle;\n    }\n\n    .dataframe tbody tr th {\n        vertical-align: top;\n    }\n\n    .dataframe thead th {\n        text-align: right;\n    }\n</style>\n<table border=\"1\" class=\"dataframe\">\n  <thead>\n    <tr style=\"text-align: right;\">\n      <th></th>\n      <th></th>\n      <th>id_left</th>\n      <th>cluster_id_left</th>\n      <th>identifiers_left</th>\n      <th>title_left</th>\n      <th>description_left</th>\n      <th>brand_left</th>\n      <th>price_left</th>\n      <th>specTableContent_left</th>\n      <th>keyValuePairs_left</th>\n      <th>id_right</th>\n      <th>cluster_id_right</th>\n      <th>identifiers_right</th>\n      <th>title_right</th>\n      <th>description_right</th>\n      <th>brand_right</th>\n      <th>price_right</th>\n      <th>specTableContent_right</th>\n      <th>keyValuePairs_right</th>\n      <th>label</th>\n    </tr>\n    <tr>\n      <th>category_left</th>\n      <th>category_right</th>\n      <th></th>\n      <th></th>\n      <th></th>\n      <th></th>\n      <th></th>\n      <th></th>\n      <th></th>\n      <th></th>\n      <th></th>\n      <th></th>\n      <th></th>\n      <th></th>\n      <th></th>\n      <th></th>\n      <th></th>\n      <th></th>\n      <th></th>\n      <th></th>\n      <th></th>\n    </tr>\n  </thead>\n  <tbody>\n    <tr>\n      <th>chemia</th>\n      <th>chemia</th>\n      <td>3827</td>\n      <td>3827</td>\n      <td>3827</td>\n      <td>3827</td>\n      <td>3827</td>\n      <td>3827</td>\n      <td>3827</td>\n      <td>3827</td>\n      <td>3827</td>\n      <td>3827</td>\n      <td>3827</td>\n      <td>3827</td>\n      <td>3827</td>\n      <td>3827</td>\n      <td>3827</td>\n      <td>3827</td>\n      <td>3827</td>\n      <td>3827</td>\n      <td>3827</td>\n    </tr>\n    <tr>\n      <th>napoje</th>\n      <th>napoje</th>\n      <td>2967</td>\n      <td>2967</td>\n      <td>2967</td>\n      <td>2967</td>\n      <td>2967</td>\n      <td>2967</td>\n      <td>2967</td>\n      <td>2967</td>\n      <td>2967</td>\n      <td>2967</td>\n      <td>2967</td>\n      <td>2967</td>\n      <td>2967</td>\n      <td>2967</td>\n      <td>2967</td>\n      <td>2967</td>\n      <td>2967</td>\n      <td>2967</td>\n      <td>2967</td>\n    </tr>\n  </tbody>\n</table>\n</div>"
     },
     "metadata": {},
     "execution_count": 311
    }
   ],
   "source": [
    "all_pairs_norm = wdc_df_normalized.merge(wdc_df_normalized, on='category',\n",
    "                                                    suffixes=['_left', '_right'])\n",
    "all_pairs_norm['category_left'] = all_pairs_norm['category']\n",
    "all_pairs_norm['category_right'] = all_pairs_norm['category']\n",
    "all_pairs_norm = all_pairs_norm.drop('category', axis=1)\n",
    "positive_pairs_norm = (all_pairs_norm.loc[all_pairs_norm['cluster_id_left'] == all_pairs_norm['cluster_id_right'], :]).copy()\n",
    "positive_pairs_norm['label'] = 1\n",
    "positive_pairs_norm.groupby(by=['category_left', 'category_right']).count()"
   ],
   "metadata": {
    "collapsed": false,
    "pycharm": {
     "name": "#%%\n"
    }
   }
  },
  {
   "cell_type": "code",
   "execution_count": 312,
   "outputs": [
    {
     "output_type": "execute_result",
     "data": {
      "text/plain": [
       "   id_left cluster_id_left              identifiers_left  \\\n",
       "1     5107   5903683001706  [{'EAN': ['5903683001706']}]   \n",
       "2     5107   5903683001706  [{'EAN': ['5903683001706']}]   \n",
       "3     5107   5903683001706  [{'EAN': ['5903683001706']}]   \n",
       "4     5107   5903683001706  [{'EAN': ['5903683001706']}]   \n",
       "5     5107   5903683001706  [{'EAN': ['5903683001706']}]   \n",
       "\n",
       "                                      title_left  \\\n",
       "1  mola ultra chłonne ręczniki papierowe 4 rolki   \n",
       "2  mola ultra chłonne ręczniki papierowe 4 rolki   \n",
       "3  mola ultra chłonne ręczniki papierowe 4 rolki   \n",
       "4  mola ultra chłonne ręczniki papierowe 4 rolki   \n",
       "5  mola ultra chłonne ręczniki papierowe 4 rolki   \n",
       "\n",
       "                                    description_left brand_left price_left  \\\n",
       "1  super chłonne i wytrzymałe ręczniki papierowe ...       mola    6 29 zł   \n",
       "2  super chłonne i wytrzymałe ręczniki papierowe ...       mola    6 29 zł   \n",
       "3  super chłonne i wytrzymałe ręczniki papierowe ...       mola    6 29 zł   \n",
       "4  super chłonne i wytrzymałe ręczniki papierowe ...       mola    6 29 zł   \n",
       "5  super chłonne i wytrzymałe ręczniki papierowe ...       mola    6 29 zł   \n",
       "\n",
       "                               specTableContent_left  \\\n",
       "1  amount 4 szt  capacity  extras  image_url http...   \n",
       "2  amount 4 szt  capacity  extras  image_url http...   \n",
       "3  amount 4 szt  capacity  extras  image_url http...   \n",
       "4  amount 4 szt  capacity  extras  image_url http...   \n",
       "5  amount 4 szt  capacity  extras  image_url http...   \n",
       "\n",
       "                                  keyValuePairs_left  id_right  \\\n",
       "1  {'amount': '4 szt ', 'capacity': '', 'extras':...      4653   \n",
       "2  {'amount': '4 szt ', 'capacity': '', 'extras':...      7195   \n",
       "3  {'amount': '4 szt ', 'capacity': '', 'extras':...      6602   \n",
       "4  {'amount': '4 szt ', 'capacity': '', 'extras':...      5068   \n",
       "5  {'amount': '4 szt ', 'capacity': '', 'extras':...      6274   \n",
       "\n",
       "  cluster_id_right             identifiers_right  \\\n",
       "1    5900627090536  [{'EAN': ['5900627090536']}]   \n",
       "2    5900627062687  [{'EAN': ['5900627062687']}]   \n",
       "3    5900498002751  [{'EAN': ['5900498002751']}]   \n",
       "4    5907637328109  [{'EAN': ['5907637328109']}]   \n",
       "5    8001090348906  [{'EAN': ['8001090348906']}]   \n",
       "\n",
       "                                         title_right  \\\n",
       "1  woolite delicate płyn do prania do delikatnych...   \n",
       "2  air wick life scents pachnące patyczki o zapac...   \n",
       "3               ludwik care płyn do mycia paneli 1 l   \n",
       "4  ręcznik kuchenny 2 warstwowy celulozowy 50 lis...   \n",
       "5  ariel allin1 pods mountain spring kapsułki do ...   \n",
       "\n",
       "                                   description_right brand_right price_right  \\\n",
       "1  woolite delikatne tkaniny i wełna z keratyną p...     woolite       22 99   \n",
       "2  air wick life scents pachnące patyczki o zapac...    air wick       19 99   \n",
       "3  ludwik care płyn do mycia paneli 1 l specjalna...      ludwik        4 99   \n",
       "4  ręcznik kuchenny 2 warstwowy celulozowy 50 lis...        eco      3 99 zł   \n",
       "5  wyjątkowa moc piorąca w jednej małej kapsułce ...       ariel    16 65 zł   \n",
       "\n",
       "                              specTableContent_right  \\\n",
       "1  amount 3 6 l capacity 3 6 l extras  image_url ...   \n",
       "2  amount 30 ml capacity 30 ml extras  image_url ...   \n",
       "3  amount 1 l capacity 1 l extras  image_url http...   \n",
       "4  amount 4 szt  capacity  extras  image_url http...   \n",
       "5  amount 14 szt  capacity  extras  image_url htt...   \n",
       "\n",
       "                                 keyValuePairs_right category_left  \\\n",
       "1  {'amount': '3 6 l', 'capacity': '3 6 l', 'extr...        chemia   \n",
       "2  {'amount': '30 ml', 'capacity': '30 ml', 'extr...        chemia   \n",
       "3  {'amount': '1 l', 'capacity': '1 l', 'extras':...        chemia   \n",
       "4  {'amount': '4 szt ', 'capacity': '', 'extras':...        chemia   \n",
       "5  {'amount': '14 szt ', 'capacity': '', 'extras'...        chemia   \n",
       "\n",
       "  category_right  \n",
       "1         chemia  \n",
       "2         chemia  \n",
       "3         chemia  \n",
       "4         chemia  \n",
       "5         chemia  "
      ],
      "text/html": "<div>\n<style scoped>\n    .dataframe tbody tr th:only-of-type {\n        vertical-align: middle;\n    }\n\n    .dataframe tbody tr th {\n        vertical-align: top;\n    }\n\n    .dataframe thead th {\n        text-align: right;\n    }\n</style>\n<table border=\"1\" class=\"dataframe\">\n  <thead>\n    <tr style=\"text-align: right;\">\n      <th></th>\n      <th>id_left</th>\n      <th>cluster_id_left</th>\n      <th>identifiers_left</th>\n      <th>title_left</th>\n      <th>description_left</th>\n      <th>brand_left</th>\n      <th>price_left</th>\n      <th>specTableContent_left</th>\n      <th>keyValuePairs_left</th>\n      <th>id_right</th>\n      <th>cluster_id_right</th>\n      <th>identifiers_right</th>\n      <th>title_right</th>\n      <th>description_right</th>\n      <th>brand_right</th>\n      <th>price_right</th>\n      <th>specTableContent_right</th>\n      <th>keyValuePairs_right</th>\n      <th>category_left</th>\n      <th>category_right</th>\n    </tr>\n  </thead>\n  <tbody>\n    <tr>\n      <th>1</th>\n      <td>5107</td>\n      <td>5903683001706</td>\n      <td>[{'EAN': ['5903683001706']}]</td>\n      <td>mola ultra chłonne ręczniki papierowe 4 rolki</td>\n      <td>super chłonne i wytrzymałe ręczniki papierowe ...</td>\n      <td>mola</td>\n      <td>6 29 zł</td>\n      <td>amount 4 szt  capacity  extras  image_url http...</td>\n      <td>{'amount': '4 szt ', 'capacity': '', 'extras':...</td>\n      <td>4653</td>\n      <td>5900627090536</td>\n      <td>[{'EAN': ['5900627090536']}]</td>\n      <td>woolite delicate płyn do prania do delikatnych...</td>\n      <td>woolite delikatne tkaniny i wełna z keratyną p...</td>\n      <td>woolite</td>\n      <td>22 99</td>\n      <td>amount 3 6 l capacity 3 6 l extras  image_url ...</td>\n      <td>{'amount': '3 6 l', 'capacity': '3 6 l', 'extr...</td>\n      <td>chemia</td>\n      <td>chemia</td>\n    </tr>\n    <tr>\n      <th>2</th>\n      <td>5107</td>\n      <td>5903683001706</td>\n      <td>[{'EAN': ['5903683001706']}]</td>\n      <td>mola ultra chłonne ręczniki papierowe 4 rolki</td>\n      <td>super chłonne i wytrzymałe ręczniki papierowe ...</td>\n      <td>mola</td>\n      <td>6 29 zł</td>\n      <td>amount 4 szt  capacity  extras  image_url http...</td>\n      <td>{'amount': '4 szt ', 'capacity': '', 'extras':...</td>\n      <td>7195</td>\n      <td>5900627062687</td>\n      <td>[{'EAN': ['5900627062687']}]</td>\n      <td>air wick life scents pachnące patyczki o zapac...</td>\n      <td>air wick life scents pachnące patyczki o zapac...</td>\n      <td>air wick</td>\n      <td>19 99</td>\n      <td>amount 30 ml capacity 30 ml extras  image_url ...</td>\n      <td>{'amount': '30 ml', 'capacity': '30 ml', 'extr...</td>\n      <td>chemia</td>\n      <td>chemia</td>\n    </tr>\n    <tr>\n      <th>3</th>\n      <td>5107</td>\n      <td>5903683001706</td>\n      <td>[{'EAN': ['5903683001706']}]</td>\n      <td>mola ultra chłonne ręczniki papierowe 4 rolki</td>\n      <td>super chłonne i wytrzymałe ręczniki papierowe ...</td>\n      <td>mola</td>\n      <td>6 29 zł</td>\n      <td>amount 4 szt  capacity  extras  image_url http...</td>\n      <td>{'amount': '4 szt ', 'capacity': '', 'extras':...</td>\n      <td>6602</td>\n      <td>5900498002751</td>\n      <td>[{'EAN': ['5900498002751']}]</td>\n      <td>ludwik care płyn do mycia paneli 1 l</td>\n      <td>ludwik care płyn do mycia paneli 1 l specjalna...</td>\n      <td>ludwik</td>\n      <td>4 99</td>\n      <td>amount 1 l capacity 1 l extras  image_url http...</td>\n      <td>{'amount': '1 l', 'capacity': '1 l', 'extras':...</td>\n      <td>chemia</td>\n      <td>chemia</td>\n    </tr>\n    <tr>\n      <th>4</th>\n      <td>5107</td>\n      <td>5903683001706</td>\n      <td>[{'EAN': ['5903683001706']}]</td>\n      <td>mola ultra chłonne ręczniki papierowe 4 rolki</td>\n      <td>super chłonne i wytrzymałe ręczniki papierowe ...</td>\n      <td>mola</td>\n      <td>6 29 zł</td>\n      <td>amount 4 szt  capacity  extras  image_url http...</td>\n      <td>{'amount': '4 szt ', 'capacity': '', 'extras':...</td>\n      <td>5068</td>\n      <td>5907637328109</td>\n      <td>[{'EAN': ['5907637328109']}]</td>\n      <td>ręcznik kuchenny 2 warstwowy celulozowy 50 lis...</td>\n      <td>ręcznik kuchenny 2 warstwowy celulozowy 50 lis...</td>\n      <td>eco</td>\n      <td>3 99 zł</td>\n      <td>amount 4 szt  capacity  extras  image_url http...</td>\n      <td>{'amount': '4 szt ', 'capacity': '', 'extras':...</td>\n      <td>chemia</td>\n      <td>chemia</td>\n    </tr>\n    <tr>\n      <th>5</th>\n      <td>5107</td>\n      <td>5903683001706</td>\n      <td>[{'EAN': ['5903683001706']}]</td>\n      <td>mola ultra chłonne ręczniki papierowe 4 rolki</td>\n      <td>super chłonne i wytrzymałe ręczniki papierowe ...</td>\n      <td>mola</td>\n      <td>6 29 zł</td>\n      <td>amount 4 szt  capacity  extras  image_url http...</td>\n      <td>{'amount': '4 szt ', 'capacity': '', 'extras':...</td>\n      <td>6274</td>\n      <td>8001090348906</td>\n      <td>[{'EAN': ['8001090348906']}]</td>\n      <td>ariel allin1 pods mountain spring kapsułki do ...</td>\n      <td>wyjątkowa moc piorąca w jednej małej kapsułce ...</td>\n      <td>ariel</td>\n      <td>16 65 zł</td>\n      <td>amount 14 szt  capacity  extras  image_url htt...</td>\n      <td>{'amount': '14 szt ', 'capacity': '', 'extras'...</td>\n      <td>chemia</td>\n      <td>chemia</td>\n    </tr>\n  </tbody>\n</table>\n</div>"
     },
     "metadata": {},
     "execution_count": 312
    }
   ],
   "source": [
    "negative_pairs_norm = (all_pairs_norm.loc[all_pairs_norm['cluster_id_left'] != all_pairs_norm['cluster_id_right'], :]).copy()\n",
    "negative_pairs_norm.head()"
   ],
   "metadata": {
    "collapsed": false,
    "pycharm": {
     "name": "#%%\n"
    }
   }
  },
  {
   "cell_type": "code",
   "execution_count": 313,
   "metadata": {},
   "outputs": [],
   "source": [
    "# delete large objects\n",
    "del wdc_df_non_normalized, wdc_df_normalized, all_pairs_norm"
   ]
  },
  {
   "cell_type": "code",
   "execution_count": 314,
   "outputs": [
    {
     "output_type": "execute_result",
     "data": {
      "text/plain": [
       "                              id_left  cluster_id_left  identifiers_left  \\\n",
       "category_left category_right                                               \n",
       "chemia        chemia          2508398          2508398           2508398   \n",
       "napoje        napoje          1577082          1577082           1577082   \n",
       "\n",
       "                              title_left  description_left  brand_left  \\\n",
       "category_left category_right                                             \n",
       "chemia        chemia             2508398           2508398     2508398   \n",
       "napoje        napoje             1577082           1577082     1577082   \n",
       "\n",
       "                              price_left  specTableContent_left  \\\n",
       "category_left category_right                                      \n",
       "chemia        chemia             2508398                2508398   \n",
       "napoje        napoje             1577082                1577082   \n",
       "\n",
       "                              keyValuePairs_left  id_right  cluster_id_right  \\\n",
       "category_left category_right                                                   \n",
       "chemia        chemia                     2508398   2508398           2508398   \n",
       "napoje        napoje                     1577082   1577082           1577082   \n",
       "\n",
       "                              identifiers_right  title_right  \\\n",
       "category_left category_right                                   \n",
       "chemia        chemia                    2508398      2508398   \n",
       "napoje        napoje                    1577082      1577082   \n",
       "\n",
       "                              description_right  brand_right  price_right  \\\n",
       "category_left category_right                                                \n",
       "chemia        chemia                    2508398      2508398      2508398   \n",
       "napoje        napoje                    1577082      1577082      1577082   \n",
       "\n",
       "                              specTableContent_right  keyValuePairs_right  \n",
       "category_left category_right                                               \n",
       "chemia        chemia                         2508398              2508398  \n",
       "napoje        napoje                         1577082              1577082  "
      ],
      "text/html": "<div>\n<style scoped>\n    .dataframe tbody tr th:only-of-type {\n        vertical-align: middle;\n    }\n\n    .dataframe tbody tr th {\n        vertical-align: top;\n    }\n\n    .dataframe thead th {\n        text-align: right;\n    }\n</style>\n<table border=\"1\" class=\"dataframe\">\n  <thead>\n    <tr style=\"text-align: right;\">\n      <th></th>\n      <th></th>\n      <th>id_left</th>\n      <th>cluster_id_left</th>\n      <th>identifiers_left</th>\n      <th>title_left</th>\n      <th>description_left</th>\n      <th>brand_left</th>\n      <th>price_left</th>\n      <th>specTableContent_left</th>\n      <th>keyValuePairs_left</th>\n      <th>id_right</th>\n      <th>cluster_id_right</th>\n      <th>identifiers_right</th>\n      <th>title_right</th>\n      <th>description_right</th>\n      <th>brand_right</th>\n      <th>price_right</th>\n      <th>specTableContent_right</th>\n      <th>keyValuePairs_right</th>\n    </tr>\n    <tr>\n      <th>category_left</th>\n      <th>category_right</th>\n      <th></th>\n      <th></th>\n      <th></th>\n      <th></th>\n      <th></th>\n      <th></th>\n      <th></th>\n      <th></th>\n      <th></th>\n      <th></th>\n      <th></th>\n      <th></th>\n      <th></th>\n      <th></th>\n      <th></th>\n      <th></th>\n      <th></th>\n      <th></th>\n    </tr>\n  </thead>\n  <tbody>\n    <tr>\n      <th>chemia</th>\n      <th>chemia</th>\n      <td>2508398</td>\n      <td>2508398</td>\n      <td>2508398</td>\n      <td>2508398</td>\n      <td>2508398</td>\n      <td>2508398</td>\n      <td>2508398</td>\n      <td>2508398</td>\n      <td>2508398</td>\n      <td>2508398</td>\n      <td>2508398</td>\n      <td>2508398</td>\n      <td>2508398</td>\n      <td>2508398</td>\n      <td>2508398</td>\n      <td>2508398</td>\n      <td>2508398</td>\n      <td>2508398</td>\n    </tr>\n    <tr>\n      <th>napoje</th>\n      <th>napoje</th>\n      <td>1577082</td>\n      <td>1577082</td>\n      <td>1577082</td>\n      <td>1577082</td>\n      <td>1577082</td>\n      <td>1577082</td>\n      <td>1577082</td>\n      <td>1577082</td>\n      <td>1577082</td>\n      <td>1577082</td>\n      <td>1577082</td>\n      <td>1577082</td>\n      <td>1577082</td>\n      <td>1577082</td>\n      <td>1577082</td>\n      <td>1577082</td>\n      <td>1577082</td>\n      <td>1577082</td>\n    </tr>\n  </tbody>\n</table>\n</div>"
     },
     "metadata": {},
     "execution_count": 314
    }
   ],
   "source": [
    "negative_pairs_norm.groupby(by=['category_left', 'category_right']).count()"
   ],
   "metadata": {
    "collapsed": false,
    "pycharm": {
     "name": "#%%\n"
    }
   }
  },
  {
   "cell_type": "code",
   "execution_count": 315,
   "outputs": [
    {
     "output_type": "execute_result",
     "data": {
      "text/plain": [
       "1          0.000000\n",
       "2          0.000000\n",
       "3          0.000000\n",
       "4          0.000000\n",
       "5          0.000000\n",
       "             ...   \n",
       "4092268    0.000000\n",
       "4092269    0.230769\n",
       "4092270    0.083333\n",
       "4092271    0.083333\n",
       "4092272    0.000000\n",
       "Name: sim, Length: 4085480, dtype: float64"
      ]
     },
     "metadata": {},
     "execution_count": 315
    }
   ],
   "source": [
    "def jaccard_index(t1, t2):\n",
    "    s1 = set(t1.split())\n",
    "    s2 = set(t2.split())\n",
    "    return len(s1.intersection(s2)) / len(s1.union(s2))\n",
    "\n",
    "negative_pairs_norm = negative_pairs_norm.copy()\n",
    "negative_pairs_norm.loc[:, 'sim'] = [jaccard_index(t1, t2) for t1, t2 in zip(\n",
    "    negative_pairs_norm['title_left'].to_list(),\n",
    "    negative_pairs_norm['title_right'].to_list()\n",
    ")]\n",
    "negative_pairs_norm['sim']"
   ],
   "metadata": {
    "collapsed": false,
    "pycharm": {
     "name": "#%%\n"
    }
   }
  },
  {
   "cell_type": "code",
   "execution_count": 316,
   "outputs": [
    {
     "output_type": "execute_result",
     "data": {
      "text/plain": [
       "0    1043066\n",
       "1    1043369\n",
       "2    2414091\n",
       "3    2414394\n",
       "4    1044164\n",
       "Name: level_1, dtype: int64"
      ]
     },
     "metadata": {},
     "execution_count": 316
    }
   ],
   "source": [
    "top_K = 20\n",
    "sel_negative_pairs_idxs = negative_pairs_norm.groupby(by='cluster_id_left')['sim'].nlargest(top_K).reset_index()['level_1']\n",
    "sel_negative_pairs_idxs.head()"
   ],
   "metadata": {
    "collapsed": false,
    "pycharm": {
     "name": "#%%\n"
    }
   }
  },
  {
   "cell_type": "code",
   "execution_count": 317,
   "outputs": [
    {
     "output_type": "execute_result",
     "data": {
      "text/plain": [
       "                              id_left  cluster_id_left  identifiers_left  \\\n",
       "category_left category_right                                               \n",
       "chemia        chemia            13660            13660             13660   \n",
       "napoje        napoje            11060            11060             11060   \n",
       "\n",
       "                              title_left  description_left  brand_left  \\\n",
       "category_left category_right                                             \n",
       "chemia        chemia               13660             13660       13660   \n",
       "napoje        napoje               11060             11060       11060   \n",
       "\n",
       "                              price_left  specTableContent_left  \\\n",
       "category_left category_right                                      \n",
       "chemia        chemia               13660                  13660   \n",
       "napoje        napoje               11060                  11060   \n",
       "\n",
       "                              keyValuePairs_left  id_right  cluster_id_right  \\\n",
       "category_left category_right                                                   \n",
       "chemia        chemia                       13660     13660             13660   \n",
       "napoje        napoje                       11060     11060             11060   \n",
       "\n",
       "                              identifiers_right  title_right  \\\n",
       "category_left category_right                                   \n",
       "chemia        chemia                      13660        13660   \n",
       "napoje        napoje                      11060        11060   \n",
       "\n",
       "                              description_right  brand_right  price_right  \\\n",
       "category_left category_right                                                \n",
       "chemia        chemia                      13660        13660        13660   \n",
       "napoje        napoje                      11060        11060        11060   \n",
       "\n",
       "                              specTableContent_right  keyValuePairs_right  \\\n",
       "category_left category_right                                                \n",
       "chemia        chemia                           13660                13660   \n",
       "napoje        napoje                           11060                11060   \n",
       "\n",
       "                                sim  \n",
       "category_left category_right         \n",
       "chemia        chemia          13660  \n",
       "napoje        napoje          11060  "
      ],
      "text/html": "<div>\n<style scoped>\n    .dataframe tbody tr th:only-of-type {\n        vertical-align: middle;\n    }\n\n    .dataframe tbody tr th {\n        vertical-align: top;\n    }\n\n    .dataframe thead th {\n        text-align: right;\n    }\n</style>\n<table border=\"1\" class=\"dataframe\">\n  <thead>\n    <tr style=\"text-align: right;\">\n      <th></th>\n      <th></th>\n      <th>id_left</th>\n      <th>cluster_id_left</th>\n      <th>identifiers_left</th>\n      <th>title_left</th>\n      <th>description_left</th>\n      <th>brand_left</th>\n      <th>price_left</th>\n      <th>specTableContent_left</th>\n      <th>keyValuePairs_left</th>\n      <th>id_right</th>\n      <th>cluster_id_right</th>\n      <th>identifiers_right</th>\n      <th>title_right</th>\n      <th>description_right</th>\n      <th>brand_right</th>\n      <th>price_right</th>\n      <th>specTableContent_right</th>\n      <th>keyValuePairs_right</th>\n      <th>sim</th>\n    </tr>\n    <tr>\n      <th>category_left</th>\n      <th>category_right</th>\n      <th></th>\n      <th></th>\n      <th></th>\n      <th></th>\n      <th></th>\n      <th></th>\n      <th></th>\n      <th></th>\n      <th></th>\n      <th></th>\n      <th></th>\n      <th></th>\n      <th></th>\n      <th></th>\n      <th></th>\n      <th></th>\n      <th></th>\n      <th></th>\n      <th></th>\n    </tr>\n  </thead>\n  <tbody>\n    <tr>\n      <th>chemia</th>\n      <th>chemia</th>\n      <td>13660</td>\n      <td>13660</td>\n      <td>13660</td>\n      <td>13660</td>\n      <td>13660</td>\n      <td>13660</td>\n      <td>13660</td>\n      <td>13660</td>\n      <td>13660</td>\n      <td>13660</td>\n      <td>13660</td>\n      <td>13660</td>\n      <td>13660</td>\n      <td>13660</td>\n      <td>13660</td>\n      <td>13660</td>\n      <td>13660</td>\n      <td>13660</td>\n      <td>13660</td>\n    </tr>\n    <tr>\n      <th>napoje</th>\n      <th>napoje</th>\n      <td>11060</td>\n      <td>11060</td>\n      <td>11060</td>\n      <td>11060</td>\n      <td>11060</td>\n      <td>11060</td>\n      <td>11060</td>\n      <td>11060</td>\n      <td>11060</td>\n      <td>11060</td>\n      <td>11060</td>\n      <td>11060</td>\n      <td>11060</td>\n      <td>11060</td>\n      <td>11060</td>\n      <td>11060</td>\n      <td>11060</td>\n      <td>11060</td>\n      <td>11060</td>\n    </tr>\n  </tbody>\n</table>\n</div>"
     },
     "metadata": {},
     "execution_count": 317
    }
   ],
   "source": [
    "negative_pairs_norm = negative_pairs_norm.loc[sel_negative_pairs_idxs, :]\n",
    "negative_pairs_norm.groupby(by=['category_left', 'category_right']).count()"
   ],
   "metadata": {
    "collapsed": false,
    "pycharm": {
     "name": "#%%\n"
    }
   }
  },
  {
   "cell_type": "code",
   "execution_count": 318,
   "outputs": [],
   "source": [
    "negative_pairs_norm['label'] = 0"
   ],
   "metadata": {
    "collapsed": false,
    "pycharm": {
     "name": "#%%\n"
    }
   }
  },
  {
   "cell_type": "code",
   "execution_count": 319,
   "outputs": [
    {
     "output_type": "execute_result",
     "data": {
      "text/plain": [
       "         id_left cluster_id_left              identifiers_left  \\\n",
       "417869      7083   4000290968338  [{'EAN': ['4000290968338']}]   \n",
       "2391340     6029   8712561796972  [{'EAN': ['8712561796972']}]   \n",
       "1389082     4897   4015000965590  [{'EAN': ['4015000965590']}]   \n",
       "1849721     2753   8001841303833  [{'EAN': ['8001841303833']}]   \n",
       "3780289     1462   5900500032899  [{'EAN': ['5900500032899']}]   \n",
       "\n",
       "                                                title_left  \\\n",
       "417869            mr muscle żel do udrażniania rur 1000 ml   \n",
       "2391340        domestos power 5 lime kostka toaletowa 55 g   \n",
       "1389082  bref bathroom spray do czyszczenia powierzchni...   \n",
       "1849721  fairy original all in one tabletki do zmywarki...   \n",
       "3780289                            hortex nektar z ananasa   \n",
       "\n",
       "                                          description_left brand_left  \\\n",
       "417869            mr muscle żel do udrażniania rur 1000 ml  mr muscle   \n",
       "2391340  1 higiena 2 długotrwały zapach 3 ochrona przed...   domestos   \n",
       "1389082  bref pro nature zawierający 99 9 składników po...       bref   \n",
       "1849721  tabletki do zmywarki fairy original all in one...      fairy   \n",
       "3780289  nektar ananasowy to smak pełen egzotyki dzięki...     hortex   \n",
       "\n",
       "        price_left                              specTableContent_left  \\\n",
       "417869       11 51  amount 1000 ml capacity 1000 ml extras  image_...   \n",
       "2391340    6 70 zł  amount 55 g capacity  extras  image_url https ...   \n",
       "1389082      13 99  amount 750 ml capacity 750 ml extras  image_ur...   \n",
       "1849721      41 99  amount 1 szt capacity  extras  image_url https...   \n",
       "3780289       5 49  amount 1 l capacity 1 l extras  image_url http...   \n",
       "\n",
       "                                        keyValuePairs_left  id_right  ...  \\\n",
       "417869   {'amount': '1000 ml', 'capacity': '1000 ml', '...      6573  ...   \n",
       "2391340  {'amount': '55 g', 'capacity': '', 'extras': '...      5871  ...   \n",
       "1389082  {'amount': '750 ml', 'capacity': '750 ml', 'ex...      2790  ...   \n",
       "1849721  {'amount': '1 szt', 'capacity': '', 'extras': ...      6952  ...   \n",
       "3780289  {'amount': '1 l', 'capacity': '1 l', 'extras':...      1462  ...   \n",
       "\n",
       "                    identifiers_right  \\\n",
       "417869   [{'EAN': ['5907637312306']}]   \n",
       "2391340  [{'EAN': ['8710908523984']}]   \n",
       "1389082  [{'EAN': ['9000101389623']}]   \n",
       "1849721  [{'EAN': ['8001090985439']}]   \n",
       "3780289  [{'EAN': ['5900500032899']}]   \n",
       "\n",
       "                                               title_right  \\\n",
       "417869                           żel do udrażniania rur 1l   \n",
       "2391340   domestos power 5 ocean kostka toaletowa 2 x 55 g   \n",
       "1389082  bref pro nature płynny środek myjący do muszli...   \n",
       "1849721  fairy platinum plus all in one regular tabletk...   \n",
       "3780289                            hortex nektar z ananasa   \n",
       "\n",
       "                                         description_right    brand_right  \\\n",
       "417869                              żel do udrażniania rur  wiodąca marka   \n",
       "2391340  1 czyszcząca piana 2 ochrona przed osadzaniem ...       domestos   \n",
       "1389082  żel bref pro nature to płynny środek myjący do...           bref   \n",
       "1849721  tabletki do zmywarki all in one fairy platinum...                  \n",
       "3780289  nektar ananasowy to smak pełen egzotyki dzięki...         hortex   \n",
       "\n",
       "        price_right                             specTableContent_right  \\\n",
       "417869         6 95  amount  capacity  extras  image_url https www ...   \n",
       "2391340     6 59 zł  amount 110 g capacity  extras  image_url https...   \n",
       "1389082        8 99  amount 700 ml capacity 700 ml extras  image_ur...   \n",
       "1849721       29 49  amount  capacity  extras  image_url https www ...   \n",
       "3780289        5 49  amount 1 l capacity 1 l extras  image_url http...   \n",
       "\n",
       "                                       keyValuePairs_right category_left  \\\n",
       "417869   {'amount': '', 'capacity': '', 'extras': '', '...        chemia   \n",
       "2391340  {'amount': '110 g', 'capacity': '', 'extras': ...        chemia   \n",
       "1389082  {'amount': '700 ml', 'capacity': '700 ml', 'ex...        chemia   \n",
       "1849721  {'amount': '', 'capacity': '', 'extras': '', '...        chemia   \n",
       "3780289  {'amount': '1 l', 'capacity': '1 l', 'extras':...        napoje   \n",
       "\n",
       "        category_right label  \n",
       "417869          chemia     0  \n",
       "2391340         chemia     0  \n",
       "1389082         chemia     0  \n",
       "1849721         chemia     0  \n",
       "3780289         napoje     1  \n",
       "\n",
       "[5 rows x 21 columns]"
      ],
      "text/html": "<div>\n<style scoped>\n    .dataframe tbody tr th:only-of-type {\n        vertical-align: middle;\n    }\n\n    .dataframe tbody tr th {\n        vertical-align: top;\n    }\n\n    .dataframe thead th {\n        text-align: right;\n    }\n</style>\n<table border=\"1\" class=\"dataframe\">\n  <thead>\n    <tr style=\"text-align: right;\">\n      <th></th>\n      <th>id_left</th>\n      <th>cluster_id_left</th>\n      <th>identifiers_left</th>\n      <th>title_left</th>\n      <th>description_left</th>\n      <th>brand_left</th>\n      <th>price_left</th>\n      <th>specTableContent_left</th>\n      <th>keyValuePairs_left</th>\n      <th>id_right</th>\n      <th>...</th>\n      <th>identifiers_right</th>\n      <th>title_right</th>\n      <th>description_right</th>\n      <th>brand_right</th>\n      <th>price_right</th>\n      <th>specTableContent_right</th>\n      <th>keyValuePairs_right</th>\n      <th>category_left</th>\n      <th>category_right</th>\n      <th>label</th>\n    </tr>\n  </thead>\n  <tbody>\n    <tr>\n      <th>417869</th>\n      <td>7083</td>\n      <td>4000290968338</td>\n      <td>[{'EAN': ['4000290968338']}]</td>\n      <td>mr muscle żel do udrażniania rur 1000 ml</td>\n      <td>mr muscle żel do udrażniania rur 1000 ml</td>\n      <td>mr muscle</td>\n      <td>11 51</td>\n      <td>amount 1000 ml capacity 1000 ml extras  image_...</td>\n      <td>{'amount': '1000 ml', 'capacity': '1000 ml', '...</td>\n      <td>6573</td>\n      <td>...</td>\n      <td>[{'EAN': ['5907637312306']}]</td>\n      <td>żel do udrażniania rur 1l</td>\n      <td>żel do udrażniania rur</td>\n      <td>wiodąca marka</td>\n      <td>6 95</td>\n      <td>amount  capacity  extras  image_url https www ...</td>\n      <td>{'amount': '', 'capacity': '', 'extras': '', '...</td>\n      <td>chemia</td>\n      <td>chemia</td>\n      <td>0</td>\n    </tr>\n    <tr>\n      <th>2391340</th>\n      <td>6029</td>\n      <td>8712561796972</td>\n      <td>[{'EAN': ['8712561796972']}]</td>\n      <td>domestos power 5 lime kostka toaletowa 55 g</td>\n      <td>1 higiena 2 długotrwały zapach 3 ochrona przed...</td>\n      <td>domestos</td>\n      <td>6 70 zł</td>\n      <td>amount 55 g capacity  extras  image_url https ...</td>\n      <td>{'amount': '55 g', 'capacity': '', 'extras': '...</td>\n      <td>5871</td>\n      <td>...</td>\n      <td>[{'EAN': ['8710908523984']}]</td>\n      <td>domestos power 5 ocean kostka toaletowa 2 x 55 g</td>\n      <td>1 czyszcząca piana 2 ochrona przed osadzaniem ...</td>\n      <td>domestos</td>\n      <td>6 59 zł</td>\n      <td>amount 110 g capacity  extras  image_url https...</td>\n      <td>{'amount': '110 g', 'capacity': '', 'extras': ...</td>\n      <td>chemia</td>\n      <td>chemia</td>\n      <td>0</td>\n    </tr>\n    <tr>\n      <th>1389082</th>\n      <td>4897</td>\n      <td>4015000965590</td>\n      <td>[{'EAN': ['4015000965590']}]</td>\n      <td>bref bathroom spray do czyszczenia powierzchni...</td>\n      <td>bref pro nature zawierający 99 9 składników po...</td>\n      <td>bref</td>\n      <td>13 99</td>\n      <td>amount 750 ml capacity 750 ml extras  image_ur...</td>\n      <td>{'amount': '750 ml', 'capacity': '750 ml', 'ex...</td>\n      <td>2790</td>\n      <td>...</td>\n      <td>[{'EAN': ['9000101389623']}]</td>\n      <td>bref pro nature płynny środek myjący do muszli...</td>\n      <td>żel bref pro nature to płynny środek myjący do...</td>\n      <td>bref</td>\n      <td>8 99</td>\n      <td>amount 700 ml capacity 700 ml extras  image_ur...</td>\n      <td>{'amount': '700 ml', 'capacity': '700 ml', 'ex...</td>\n      <td>chemia</td>\n      <td>chemia</td>\n      <td>0</td>\n    </tr>\n    <tr>\n      <th>1849721</th>\n      <td>2753</td>\n      <td>8001841303833</td>\n      <td>[{'EAN': ['8001841303833']}]</td>\n      <td>fairy original all in one tabletki do zmywarki...</td>\n      <td>tabletki do zmywarki fairy original all in one...</td>\n      <td>fairy</td>\n      <td>41 99</td>\n      <td>amount 1 szt capacity  extras  image_url https...</td>\n      <td>{'amount': '1 szt', 'capacity': '', 'extras': ...</td>\n      <td>6952</td>\n      <td>...</td>\n      <td>[{'EAN': ['8001090985439']}]</td>\n      <td>fairy platinum plus all in one regular tabletk...</td>\n      <td>tabletki do zmywarki all in one fairy platinum...</td>\n      <td></td>\n      <td>29 49</td>\n      <td>amount  capacity  extras  image_url https www ...</td>\n      <td>{'amount': '', 'capacity': '', 'extras': '', '...</td>\n      <td>chemia</td>\n      <td>chemia</td>\n      <td>0</td>\n    </tr>\n    <tr>\n      <th>3780289</th>\n      <td>1462</td>\n      <td>5900500032899</td>\n      <td>[{'EAN': ['5900500032899']}]</td>\n      <td>hortex nektar z ananasa</td>\n      <td>nektar ananasowy to smak pełen egzotyki dzięki...</td>\n      <td>hortex</td>\n      <td>5 49</td>\n      <td>amount 1 l capacity 1 l extras  image_url http...</td>\n      <td>{'amount': '1 l', 'capacity': '1 l', 'extras':...</td>\n      <td>1462</td>\n      <td>...</td>\n      <td>[{'EAN': ['5900500032899']}]</td>\n      <td>hortex nektar z ananasa</td>\n      <td>nektar ananasowy to smak pełen egzotyki dzięki...</td>\n      <td>hortex</td>\n      <td>5 49</td>\n      <td>amount 1 l capacity 1 l extras  image_url http...</td>\n      <td>{'amount': '1 l', 'capacity': '1 l', 'extras':...</td>\n      <td>napoje</td>\n      <td>napoje</td>\n      <td>1</td>\n    </tr>\n  </tbody>\n</table>\n<p>5 rows × 21 columns</p>\n</div>"
     },
     "metadata": {},
     "execution_count": 319
    }
   ],
   "source": [
    "selected_pairs = pd.concat([positive_pairs_norm, negative_pairs_norm]).sample(frac=1)\n",
    "selected_pairs = selected_pairs.drop('sim', axis=1)\n",
    "selected_pairs.head()"
   ],
   "metadata": {
    "collapsed": false,
    "pycharm": {
     "name": "#%%\n"
    }
   }
  },
  {
   "cell_type": "code",
   "execution_count": 320,
   "outputs": [
    {
     "output_type": "stream",
     "name": "stdout",
     "text": [
      "<class 'pandas.core.frame.DataFrame'>\nInt64Index: 31514 entries, 417869 to 1423114\nData columns (total 21 columns):\n #   Column                  Non-Null Count  Dtype \n---  ------                  --------------  ----- \n 0   id_left                 31514 non-null  int64 \n 1   cluster_id_left         31514 non-null  object\n 2   identifiers_left        31514 non-null  object\n 3   title_left              31514 non-null  object\n 4   description_left        31514 non-null  object\n 5   brand_left              31514 non-null  object\n 6   price_left              31514 non-null  object\n 7   specTableContent_left   31514 non-null  object\n 8   keyValuePairs_left      31514 non-null  object\n 9   id_right                31514 non-null  int64 \n 10  cluster_id_right        31514 non-null  object\n 11  identifiers_right       31514 non-null  object\n 12  title_right             31514 non-null  object\n 13  description_right       31514 non-null  object\n 14  brand_right             31514 non-null  object\n 15  price_right             31514 non-null  object\n 16  specTableContent_right  31514 non-null  object\n 17  keyValuePairs_right     31514 non-null  object\n 18  category_left           31514 non-null  object\n 19  category_right          31514 non-null  object\n 20  label                   31514 non-null  int64 \ndtypes: int64(3), object(18)\nmemory usage: 5.3+ MB\n"
     ]
    }
   ],
   "source": [
    "selected_pairs.info()"
   ],
   "metadata": {
    "collapsed": false,
    "pycharm": {
     "name": "#%%\n"
    }
   }
  },
  {
   "cell_type": "code",
   "execution_count": 321,
   "metadata": {},
   "outputs": [
    {
     "output_type": "execute_result",
     "data": {
      "text/plain": [
       "       id_left  cluster_id_left  identifiers_left  title_left  \\\n",
       "label                                                           \n",
       "0        24720            24720             24720       24720   \n",
       "1         6794             6794              6794        6794   \n",
       "\n",
       "       description_left  brand_left  price_left  specTableContent_left  \\\n",
       "label                                                                    \n",
       "0                 24720       24720       24720                  24720   \n",
       "1                  6794        6794        6794                   6794   \n",
       "\n",
       "       keyValuePairs_left  id_right  cluster_id_right  identifiers_right  \\\n",
       "label                                                                      \n",
       "0                   24720     24720             24720              24720   \n",
       "1                    6794      6794              6794               6794   \n",
       "\n",
       "       title_right  description_right  brand_right  price_right  \\\n",
       "label                                                             \n",
       "0            24720              24720        24720        24720   \n",
       "1             6794               6794         6794         6794   \n",
       "\n",
       "       specTableContent_right  keyValuePairs_right  category_left  \\\n",
       "label                                                               \n",
       "0                       24720                24720          24720   \n",
       "1                        6794                 6794           6794   \n",
       "\n",
       "       category_right  \n",
       "label                  \n",
       "0               24720  \n",
       "1                6794  "
      ],
      "text/html": "<div>\n<style scoped>\n    .dataframe tbody tr th:only-of-type {\n        vertical-align: middle;\n    }\n\n    .dataframe tbody tr th {\n        vertical-align: top;\n    }\n\n    .dataframe thead th {\n        text-align: right;\n    }\n</style>\n<table border=\"1\" class=\"dataframe\">\n  <thead>\n    <tr style=\"text-align: right;\">\n      <th></th>\n      <th>id_left</th>\n      <th>cluster_id_left</th>\n      <th>identifiers_left</th>\n      <th>title_left</th>\n      <th>description_left</th>\n      <th>brand_left</th>\n      <th>price_left</th>\n      <th>specTableContent_left</th>\n      <th>keyValuePairs_left</th>\n      <th>id_right</th>\n      <th>cluster_id_right</th>\n      <th>identifiers_right</th>\n      <th>title_right</th>\n      <th>description_right</th>\n      <th>brand_right</th>\n      <th>price_right</th>\n      <th>specTableContent_right</th>\n      <th>keyValuePairs_right</th>\n      <th>category_left</th>\n      <th>category_right</th>\n    </tr>\n    <tr>\n      <th>label</th>\n      <th></th>\n      <th></th>\n      <th></th>\n      <th></th>\n      <th></th>\n      <th></th>\n      <th></th>\n      <th></th>\n      <th></th>\n      <th></th>\n      <th></th>\n      <th></th>\n      <th></th>\n      <th></th>\n      <th></th>\n      <th></th>\n      <th></th>\n      <th></th>\n      <th></th>\n      <th></th>\n    </tr>\n  </thead>\n  <tbody>\n    <tr>\n      <th>0</th>\n      <td>24720</td>\n      <td>24720</td>\n      <td>24720</td>\n      <td>24720</td>\n      <td>24720</td>\n      <td>24720</td>\n      <td>24720</td>\n      <td>24720</td>\n      <td>24720</td>\n      <td>24720</td>\n      <td>24720</td>\n      <td>24720</td>\n      <td>24720</td>\n      <td>24720</td>\n      <td>24720</td>\n      <td>24720</td>\n      <td>24720</td>\n      <td>24720</td>\n      <td>24720</td>\n      <td>24720</td>\n    </tr>\n    <tr>\n      <th>1</th>\n      <td>6794</td>\n      <td>6794</td>\n      <td>6794</td>\n      <td>6794</td>\n      <td>6794</td>\n      <td>6794</td>\n      <td>6794</td>\n      <td>6794</td>\n      <td>6794</td>\n      <td>6794</td>\n      <td>6794</td>\n      <td>6794</td>\n      <td>6794</td>\n      <td>6794</td>\n      <td>6794</td>\n      <td>6794</td>\n      <td>6794</td>\n      <td>6794</td>\n      <td>6794</td>\n      <td>6794</td>\n    </tr>\n  </tbody>\n</table>\n</div>"
     },
     "metadata": {},
     "execution_count": 321
    }
   ],
   "source": [
    "selected_pairs.groupby(by='label').count()"
   ]
  },
  {
   "source": [
    "# Create test dataset"
   ],
   "cell_type": "markdown",
   "metadata": {}
  },
  {
   "cell_type": "code",
   "execution_count": 322,
   "metadata": {},
   "outputs": [],
   "source": [
    "test_df = pd.DataFrame()\n",
    "for c in selected_pairs['category_left'].unique():\n",
    "    test_positive = selected_pairs[(selected_pairs['label'] == 1) & (selected_pairs['category_left'] == c)].sample(n=300)\n",
    "    test_negative = selected_pairs[(selected_pairs['label'] == 0) & (selected_pairs['category_left'] == c)].sample(n=800)\n",
    "    test_df = test_df.append([test_positive, test_negative])\n",
    "training_df = selected_pairs[~selected_pairs.isin(test_df).all(1)]"
   ]
  },
  {
   "cell_type": "code",
   "execution_count": 323,
   "metadata": {},
   "outputs": [
    {
     "output_type": "execute_result",
     "data": {
      "text/plain": [
       "                     id_left  cluster_id_left  identifiers_left  title_left  \\\n",
       "category_left label                                                           \n",
       "chemia        0          800              800               800         800   \n",
       "              1          300              300               300         300   \n",
       "napoje        0          800              800               800         800   \n",
       "              1          300              300               300         300   \n",
       "\n",
       "                     description_left  brand_left  price_left  \\\n",
       "category_left label                                             \n",
       "chemia        0                   800         800         800   \n",
       "              1                   300         300         300   \n",
       "napoje        0                   800         800         800   \n",
       "              1                   300         300         300   \n",
       "\n",
       "                     specTableContent_left  keyValuePairs_left  id_right  \\\n",
       "category_left label                                                        \n",
       "chemia        0                        800                 800       800   \n",
       "              1                        300                 300       300   \n",
       "napoje        0                        800                 800       800   \n",
       "              1                        300                 300       300   \n",
       "\n",
       "                     cluster_id_right  identifiers_right  title_right  \\\n",
       "category_left label                                                     \n",
       "chemia        0                   800                800          800   \n",
       "              1                   300                300          300   \n",
       "napoje        0                   800                800          800   \n",
       "              1                   300                300          300   \n",
       "\n",
       "                     description_right  brand_right  price_right  \\\n",
       "category_left label                                                \n",
       "chemia        0                    800          800          800   \n",
       "              1                    300          300          300   \n",
       "napoje        0                    800          800          800   \n",
       "              1                    300          300          300   \n",
       "\n",
       "                     specTableContent_right  keyValuePairs_right  \\\n",
       "category_left label                                                \n",
       "chemia        0                         800                  800   \n",
       "              1                         300                  300   \n",
       "napoje        0                         800                  800   \n",
       "              1                         300                  300   \n",
       "\n",
       "                     category_right  \n",
       "category_left label                  \n",
       "chemia        0                 800  \n",
       "              1                 300  \n",
       "napoje        0                 800  \n",
       "              1                 300  "
      ],
      "text/html": "<div>\n<style scoped>\n    .dataframe tbody tr th:only-of-type {\n        vertical-align: middle;\n    }\n\n    .dataframe tbody tr th {\n        vertical-align: top;\n    }\n\n    .dataframe thead th {\n        text-align: right;\n    }\n</style>\n<table border=\"1\" class=\"dataframe\">\n  <thead>\n    <tr style=\"text-align: right;\">\n      <th></th>\n      <th></th>\n      <th>id_left</th>\n      <th>cluster_id_left</th>\n      <th>identifiers_left</th>\n      <th>title_left</th>\n      <th>description_left</th>\n      <th>brand_left</th>\n      <th>price_left</th>\n      <th>specTableContent_left</th>\n      <th>keyValuePairs_left</th>\n      <th>id_right</th>\n      <th>cluster_id_right</th>\n      <th>identifiers_right</th>\n      <th>title_right</th>\n      <th>description_right</th>\n      <th>brand_right</th>\n      <th>price_right</th>\n      <th>specTableContent_right</th>\n      <th>keyValuePairs_right</th>\n      <th>category_right</th>\n    </tr>\n    <tr>\n      <th>category_left</th>\n      <th>label</th>\n      <th></th>\n      <th></th>\n      <th></th>\n      <th></th>\n      <th></th>\n      <th></th>\n      <th></th>\n      <th></th>\n      <th></th>\n      <th></th>\n      <th></th>\n      <th></th>\n      <th></th>\n      <th></th>\n      <th></th>\n      <th></th>\n      <th></th>\n      <th></th>\n      <th></th>\n    </tr>\n  </thead>\n  <tbody>\n    <tr>\n      <th rowspan=\"2\" valign=\"top\">chemia</th>\n      <th>0</th>\n      <td>800</td>\n      <td>800</td>\n      <td>800</td>\n      <td>800</td>\n      <td>800</td>\n      <td>800</td>\n      <td>800</td>\n      <td>800</td>\n      <td>800</td>\n      <td>800</td>\n      <td>800</td>\n      <td>800</td>\n      <td>800</td>\n      <td>800</td>\n      <td>800</td>\n      <td>800</td>\n      <td>800</td>\n      <td>800</td>\n      <td>800</td>\n    </tr>\n    <tr>\n      <th>1</th>\n      <td>300</td>\n      <td>300</td>\n      <td>300</td>\n      <td>300</td>\n      <td>300</td>\n      <td>300</td>\n      <td>300</td>\n      <td>300</td>\n      <td>300</td>\n      <td>300</td>\n      <td>300</td>\n      <td>300</td>\n      <td>300</td>\n      <td>300</td>\n      <td>300</td>\n      <td>300</td>\n      <td>300</td>\n      <td>300</td>\n      <td>300</td>\n    </tr>\n    <tr>\n      <th rowspan=\"2\" valign=\"top\">napoje</th>\n      <th>0</th>\n      <td>800</td>\n      <td>800</td>\n      <td>800</td>\n      <td>800</td>\n      <td>800</td>\n      <td>800</td>\n      <td>800</td>\n      <td>800</td>\n      <td>800</td>\n      <td>800</td>\n      <td>800</td>\n      <td>800</td>\n      <td>800</td>\n      <td>800</td>\n      <td>800</td>\n      <td>800</td>\n      <td>800</td>\n      <td>800</td>\n      <td>800</td>\n    </tr>\n    <tr>\n      <th>1</th>\n      <td>300</td>\n      <td>300</td>\n      <td>300</td>\n      <td>300</td>\n      <td>300</td>\n      <td>300</td>\n      <td>300</td>\n      <td>300</td>\n      <td>300</td>\n      <td>300</td>\n      <td>300</td>\n      <td>300</td>\n      <td>300</td>\n      <td>300</td>\n      <td>300</td>\n      <td>300</td>\n      <td>300</td>\n      <td>300</td>\n      <td>300</td>\n    </tr>\n  </tbody>\n</table>\n</div>"
     },
     "metadata": {},
     "execution_count": 323
    }
   ],
   "source": [
    "test_df.groupby(by=['category_left','label']).count()"
   ]
  },
  {
   "cell_type": "code",
   "execution_count": 324,
   "metadata": {},
   "outputs": [],
   "source": [
    "tr_dir = 'test'\n",
    "if not os.path.exists(tr_dir):\n",
    "    os.mkdir(tr_dir)\n",
    "test_df.to_json(os.path.join(tr_dir,f'pl_wdc_all_test.json.gz'), orient='records', compression='gzip', index=True, lines=True)"
   ]
  },
  {
   "cell_type": "code",
   "execution_count": 325,
   "metadata": {},
   "outputs": [],
   "source": [
    "test_df[test_df['category_left'] == 'chemia'].to_json(os.path.join(tr_dir,f'pl_wdc_chemia_test.json.gz'), orient='records', compression='gzip', index=True, lines=True)"
   ]
  },
  {
   "cell_type": "code",
   "execution_count": 326,
   "metadata": {},
   "outputs": [],
   "source": [
    "test_df[test_df['category_left'] == 'napoje'].to_json(os.path.join(tr_dir,f'pl_wdc_napoje_test.json.gz'), orient='records', compression='gzip', index=True, lines=True)"
   ]
  },
  {
   "source": [
    "# Create training datasets"
   ],
   "cell_type": "markdown",
   "metadata": {}
  },
  {
   "cell_type": "code",
   "execution_count": 327,
   "metadata": {},
   "outputs": [
    {
     "output_type": "execute_result",
     "data": {
      "text/plain": [
       "                     id_left  cluster_id_left  identifiers_left  title_left  \\\n",
       "category_left label                                                           \n",
       "chemia        0        12860            12860             12860       12860   \n",
       "              1         3527             3527              3527        3527   \n",
       "napoje        0        10260            10260             10260       10260   \n",
       "              1         2667             2667              2667        2667   \n",
       "\n",
       "                     description_left  brand_left  price_left  \\\n",
       "category_left label                                             \n",
       "chemia        0                 12860       12860       12860   \n",
       "              1                  3527        3527        3527   \n",
       "napoje        0                 10260       10260       10260   \n",
       "              1                  2667        2667        2667   \n",
       "\n",
       "                     specTableContent_left  keyValuePairs_left  id_right  \\\n",
       "category_left label                                                        \n",
       "chemia        0                      12860               12860     12860   \n",
       "              1                       3527                3527      3527   \n",
       "napoje        0                      10260               10260     10260   \n",
       "              1                       2667                2667      2667   \n",
       "\n",
       "                     cluster_id_right  identifiers_right  title_right  \\\n",
       "category_left label                                                     \n",
       "chemia        0                 12860              12860        12860   \n",
       "              1                  3527               3527         3527   \n",
       "napoje        0                 10260              10260        10260   \n",
       "              1                  2667               2667         2667   \n",
       "\n",
       "                     description_right  brand_right  price_right  \\\n",
       "category_left label                                                \n",
       "chemia        0                  12860        12860        12860   \n",
       "              1                   3527         3527         3527   \n",
       "napoje        0                  10260        10260        10260   \n",
       "              1                   2667         2667         2667   \n",
       "\n",
       "                     specTableContent_right  keyValuePairs_right  \\\n",
       "category_left label                                                \n",
       "chemia        0                       12860                12860   \n",
       "              1                        3527                 3527   \n",
       "napoje        0                       10260                10260   \n",
       "              1                        2667                 2667   \n",
       "\n",
       "                     category_right  \n",
       "category_left label                  \n",
       "chemia        0               12860  \n",
       "              1                3527  \n",
       "napoje        0               10260  \n",
       "              1                2667  "
      ],
      "text/html": "<div>\n<style scoped>\n    .dataframe tbody tr th:only-of-type {\n        vertical-align: middle;\n    }\n\n    .dataframe tbody tr th {\n        vertical-align: top;\n    }\n\n    .dataframe thead th {\n        text-align: right;\n    }\n</style>\n<table border=\"1\" class=\"dataframe\">\n  <thead>\n    <tr style=\"text-align: right;\">\n      <th></th>\n      <th></th>\n      <th>id_left</th>\n      <th>cluster_id_left</th>\n      <th>identifiers_left</th>\n      <th>title_left</th>\n      <th>description_left</th>\n      <th>brand_left</th>\n      <th>price_left</th>\n      <th>specTableContent_left</th>\n      <th>keyValuePairs_left</th>\n      <th>id_right</th>\n      <th>cluster_id_right</th>\n      <th>identifiers_right</th>\n      <th>title_right</th>\n      <th>description_right</th>\n      <th>brand_right</th>\n      <th>price_right</th>\n      <th>specTableContent_right</th>\n      <th>keyValuePairs_right</th>\n      <th>category_right</th>\n    </tr>\n    <tr>\n      <th>category_left</th>\n      <th>label</th>\n      <th></th>\n      <th></th>\n      <th></th>\n      <th></th>\n      <th></th>\n      <th></th>\n      <th></th>\n      <th></th>\n      <th></th>\n      <th></th>\n      <th></th>\n      <th></th>\n      <th></th>\n      <th></th>\n      <th></th>\n      <th></th>\n      <th></th>\n      <th></th>\n      <th></th>\n    </tr>\n  </thead>\n  <tbody>\n    <tr>\n      <th rowspan=\"2\" valign=\"top\">chemia</th>\n      <th>0</th>\n      <td>12860</td>\n      <td>12860</td>\n      <td>12860</td>\n      <td>12860</td>\n      <td>12860</td>\n      <td>12860</td>\n      <td>12860</td>\n      <td>12860</td>\n      <td>12860</td>\n      <td>12860</td>\n      <td>12860</td>\n      <td>12860</td>\n      <td>12860</td>\n      <td>12860</td>\n      <td>12860</td>\n      <td>12860</td>\n      <td>12860</td>\n      <td>12860</td>\n      <td>12860</td>\n    </tr>\n    <tr>\n      <th>1</th>\n      <td>3527</td>\n      <td>3527</td>\n      <td>3527</td>\n      <td>3527</td>\n      <td>3527</td>\n      <td>3527</td>\n      <td>3527</td>\n      <td>3527</td>\n      <td>3527</td>\n      <td>3527</td>\n      <td>3527</td>\n      <td>3527</td>\n      <td>3527</td>\n      <td>3527</td>\n      <td>3527</td>\n      <td>3527</td>\n      <td>3527</td>\n      <td>3527</td>\n      <td>3527</td>\n    </tr>\n    <tr>\n      <th rowspan=\"2\" valign=\"top\">napoje</th>\n      <th>0</th>\n      <td>10260</td>\n      <td>10260</td>\n      <td>10260</td>\n      <td>10260</td>\n      <td>10260</td>\n      <td>10260</td>\n      <td>10260</td>\n      <td>10260</td>\n      <td>10260</td>\n      <td>10260</td>\n      <td>10260</td>\n      <td>10260</td>\n      <td>10260</td>\n      <td>10260</td>\n      <td>10260</td>\n      <td>10260</td>\n      <td>10260</td>\n      <td>10260</td>\n      <td>10260</td>\n    </tr>\n    <tr>\n      <th>1</th>\n      <td>2667</td>\n      <td>2667</td>\n      <td>2667</td>\n      <td>2667</td>\n      <td>2667</td>\n      <td>2667</td>\n      <td>2667</td>\n      <td>2667</td>\n      <td>2667</td>\n      <td>2667</td>\n      <td>2667</td>\n      <td>2667</td>\n      <td>2667</td>\n      <td>2667</td>\n      <td>2667</td>\n      <td>2667</td>\n      <td>2667</td>\n      <td>2667</td>\n      <td>2667</td>\n    </tr>\n  </tbody>\n</table>\n</div>"
     },
     "metadata": {},
     "execution_count": 327
    }
   ],
   "source": [
    "training_df.groupby(by=['category_left','label']).count()"
   ]
  },
  {
   "cell_type": "code",
   "execution_count": 328,
   "metadata": {},
   "outputs": [],
   "source": [
    "train_ratio = {\n",
    "    'small' : {'p':1, 'n':3},\n",
    "    'medium' : {'p':3, 'n':9},\n",
    "    'large' : {'p':7, 'n':21},\n",
    "}"
   ]
  },
  {
   "cell_type": "code",
   "execution_count": 329,
   "metadata": {},
   "outputs": [],
   "source": [
    "def build_test_df(data, size):\n",
    "    c = data.groupby(by='label').count()\n",
    "    n = c.loc[0, 'id_left']\n",
    "    p = c.loc[1, 'id_left']\n",
    "    one_size = min(\n",
    "        n // train_ratio['large']['n'], \n",
    "        p // train_ratio['large']['p']\n",
    "        )\n",
    "    p_df = data[data['label']==1].sample(n=one_size * train_ratio[size]['p'])\n",
    "    n_df = data[data['label']==0].sample(n=one_size * train_ratio[size]['n'])\n",
    "    return pd.concat([p_df, n_df])"
   ]
  },
  {
   "cell_type": "code",
   "execution_count": 330,
   "metadata": {},
   "outputs": [],
   "source": [
    "for c in ['chemia', 'napoje']:\n",
    "    tr_dir = f'{c}_train'\n",
    "    if not os.path.exists(tr_dir):\n",
    "        os.mkdir(tr_dir)\n",
    "    tr_df = training_df[training_df['category_left'] == c]\n",
    "    for s in train_ratio.keys():\n",
    "        t_df = build_test_df(tr_df, s)\n",
    "        t_df.to_json(os.path.join(tr_dir,f'pl_wdc_{c}_{s}.json.gz'), orient='records', compression='gzip', index=True, lines=True)"
   ]
  },
  {
   "cell_type": "code",
   "execution_count": 331,
   "metadata": {},
   "outputs": [],
   "source": [
    "tr_dir = 'all_train'\n",
    "if not os.path.exists(tr_dir):\n",
    "        os.mkdir(tr_dir)\n",
    "\n",
    "for s in train_ratio.keys():\n",
    "        d = pd.DataFrame()\n",
    "        for c in ['chemia', 'napoje']:\n",
    "                path = os.path.join(f'{c}_train', f'pl_wdc_{c}_{s}.json.gz')\n",
    "                t_df = pd.read_json(path, compression='gzip', lines=True)\n",
    "                d = d.append(t_df)\n",
    "        d.to_json(os.path.join(tr_dir,f'pl_wdc_all_{s}.json.gz'), orient='records', compression='gzip', index=True, lines=True)"
   ]
  },
  {
   "source": [
    "# Test read all  large"
   ],
   "cell_type": "markdown",
   "metadata": {}
  },
  {
   "cell_type": "code",
   "execution_count": 2,
   "metadata": {},
   "outputs": [
    {
     "output_type": "execute_result",
     "data": {
      "text/plain": [
       "       id_left  cluster_id_left              identifiers_left  \\\n",
       "8715      4226    8001480024564  [{'EAN': ['8001480024564']}]   \n",
       "17358     5616    5901067451024  [{'EAN': ['5901067451024']}]   \n",
       "6486      4772    8710908809828  [{'EAN': ['8710908809828']}]   \n",
       "11317     4180    8001841182285  [{'EAN': ['8001841182285']}]   \n",
       "9392      4307    8001480024540  [{'EAN': ['8001480024540']}]   \n",
       "\n",
       "                                          title_left  \\\n",
       "8715                       ace ultra silny żel lemon   \n",
       "17358          kubuś sok banan marchew jabłko 300 ml   \n",
       "6486          cif mleczko do czyszczenia pink flower   \n",
       "11317  lenor perełki zapachowe do prania gold orchid   \n",
       "9392                       ace ultra fresh silny żel   \n",
       "\n",
       "                                        description_left brand_left  \\\n",
       "8715                           ace ultra silny żel lemon        ace   \n",
       "17358                                                         kubuś   \n",
       "6486   mleczko cif z mikrokryształkami najlepsza form...        cif   \n",
       "11317  odkryj perełki zapachowe lenor najnowszy w gam...      lenor   \n",
       "9392                           ace ultra fresh silny żel        ace   \n",
       "\n",
       "      price_left                              specTableContent_left  \\\n",
       "8715        6 99  amount 750 ml capacity 750 ml extras  image_ur...   \n",
       "17358    1 56 zł  amount 300 ml capacity  extras  image_url http...   \n",
       "6486        8 99  amount 780 ml capacity 780 ml extras  image_ur...   \n",
       "11317      29 99  amount 210 g capacity  extras  image_url https...   \n",
       "9392        6 99  amount 750 ml capacity 750 ml extras  image_ur...   \n",
       "\n",
       "                                      keyValuePairs_left  id_right  ...  \\\n",
       "8715   {'amount': '750 ml', 'capacity': '750 ml', 'ex...      5115  ...   \n",
       "17358  {'amount': '300 ml', 'capacity': '', 'extras':...      5775  ...   \n",
       "6486   {'amount': '780 ml', 'capacity': '780 ml', 'ex...      4843  ...   \n",
       "11317  {'amount': '210 g', 'capacity': '', 'extras': ...      5026  ...   \n",
       "9392   {'amount': '750 ml', 'capacity': '750 ml', 'ex...      4226  ...   \n",
       "\n",
       "                  identifiers_right  \\\n",
       "8715   [{'EAN': ['8001480022713']}]   \n",
       "17358  [{'EAN': ['5901067400244']}]   \n",
       "6486   [{'EAN': ['5900498000856']}]   \n",
       "11317  [{'EAN': ['8001841375885']}]   \n",
       "9392   [{'EAN': ['8001480024564']}]   \n",
       "\n",
       "                                             title_right  \\\n",
       "8715                      ace lemon płyn wybielający 1 l   \n",
       "17358           kubuś go sok banan marchew jabłko 300 ml   \n",
       "6486         ludwik mleczko do czyszczenia kuchni spray    \n",
       "11317  lenor gold orchid płyn do płukania tkanin 1420...   \n",
       "9392                           ace ultra silny żel lemon   \n",
       "\n",
       "                                       description_right brand_right  \\\n",
       "8715                                                             ace   \n",
       "17358  bo to nie wszystko jedno co pije twoje dziecko...       kubuś   \n",
       "6486   preparat do czyszczenia powierzchni kuchennych...      ludwik   \n",
       "11317  płyn do płukania tkanin lenor zapewnia długotr...       lenor   \n",
       "9392                           ace ultra silny żel lemon         ace   \n",
       "\n",
       "      price_right                             specTableContent_right  \\\n",
       "8715      5 99 zł  amount 1 00 l capacity  extras  image_url http...   \n",
       "17358     1 51 zł  amount 300 ml capacity  extras  image_url http...   \n",
       "6486         9 99  amount 750 ml capacity 750 ml extras  image_ur...   \n",
       "11317    17 99 zł  amount 1 42 l capacity  extras  image_url http...   \n",
       "9392         6 99  amount 750 ml capacity 750 ml extras  image_ur...   \n",
       "\n",
       "                                     keyValuePairs_right category_left  \\\n",
       "8715   {'amount': '1 00 l', 'capacity': '', 'extras':...        chemia   \n",
       "17358  {'amount': '300 ml', 'capacity': '', 'extras':...        napoje   \n",
       "6486   {'amount': '750 ml', 'capacity': '750 ml', 'ex...        chemia   \n",
       "11317  {'amount': '1 42 l', 'capacity': '', 'extras':...        chemia   \n",
       "9392   {'amount': '750 ml', 'capacity': '750 ml', 'ex...        chemia   \n",
       "\n",
       "      category_right label  \n",
       "8715          chemia     0  \n",
       "17358         napoje     0  \n",
       "6486          chemia     0  \n",
       "11317         chemia     0  \n",
       "9392          chemia     0  \n",
       "\n",
       "[5 rows x 21 columns]"
      ],
      "text/html": "<div>\n<style scoped>\n    .dataframe tbody tr th:only-of-type {\n        vertical-align: middle;\n    }\n\n    .dataframe tbody tr th {\n        vertical-align: top;\n    }\n\n    .dataframe thead th {\n        text-align: right;\n    }\n</style>\n<table border=\"1\" class=\"dataframe\">\n  <thead>\n    <tr style=\"text-align: right;\">\n      <th></th>\n      <th>id_left</th>\n      <th>cluster_id_left</th>\n      <th>identifiers_left</th>\n      <th>title_left</th>\n      <th>description_left</th>\n      <th>brand_left</th>\n      <th>price_left</th>\n      <th>specTableContent_left</th>\n      <th>keyValuePairs_left</th>\n      <th>id_right</th>\n      <th>...</th>\n      <th>identifiers_right</th>\n      <th>title_right</th>\n      <th>description_right</th>\n      <th>brand_right</th>\n      <th>price_right</th>\n      <th>specTableContent_right</th>\n      <th>keyValuePairs_right</th>\n      <th>category_left</th>\n      <th>category_right</th>\n      <th>label</th>\n    </tr>\n  </thead>\n  <tbody>\n    <tr>\n      <th>8715</th>\n      <td>4226</td>\n      <td>8001480024564</td>\n      <td>[{'EAN': ['8001480024564']}]</td>\n      <td>ace ultra silny żel lemon</td>\n      <td>ace ultra silny żel lemon</td>\n      <td>ace</td>\n      <td>6 99</td>\n      <td>amount 750 ml capacity 750 ml extras  image_ur...</td>\n      <td>{'amount': '750 ml', 'capacity': '750 ml', 'ex...</td>\n      <td>5115</td>\n      <td>...</td>\n      <td>[{'EAN': ['8001480022713']}]</td>\n      <td>ace lemon płyn wybielający 1 l</td>\n      <td></td>\n      <td>ace</td>\n      <td>5 99 zł</td>\n      <td>amount 1 00 l capacity  extras  image_url http...</td>\n      <td>{'amount': '1 00 l', 'capacity': '', 'extras':...</td>\n      <td>chemia</td>\n      <td>chemia</td>\n      <td>0</td>\n    </tr>\n    <tr>\n      <th>17358</th>\n      <td>5616</td>\n      <td>5901067451024</td>\n      <td>[{'EAN': ['5901067451024']}]</td>\n      <td>kubuś sok banan marchew jabłko 300 ml</td>\n      <td></td>\n      <td>kubuś</td>\n      <td>1 56 zł</td>\n      <td>amount 300 ml capacity  extras  image_url http...</td>\n      <td>{'amount': '300 ml', 'capacity': '', 'extras':...</td>\n      <td>5775</td>\n      <td>...</td>\n      <td>[{'EAN': ['5901067400244']}]</td>\n      <td>kubuś go sok banan marchew jabłko 300 ml</td>\n      <td>bo to nie wszystko jedno co pije twoje dziecko...</td>\n      <td>kubuś</td>\n      <td>1 51 zł</td>\n      <td>amount 300 ml capacity  extras  image_url http...</td>\n      <td>{'amount': '300 ml', 'capacity': '', 'extras':...</td>\n      <td>napoje</td>\n      <td>napoje</td>\n      <td>0</td>\n    </tr>\n    <tr>\n      <th>6486</th>\n      <td>4772</td>\n      <td>8710908809828</td>\n      <td>[{'EAN': ['8710908809828']}]</td>\n      <td>cif mleczko do czyszczenia pink flower</td>\n      <td>mleczko cif z mikrokryształkami najlepsza form...</td>\n      <td>cif</td>\n      <td>8 99</td>\n      <td>amount 780 ml capacity 780 ml extras  image_ur...</td>\n      <td>{'amount': '780 ml', 'capacity': '780 ml', 'ex...</td>\n      <td>4843</td>\n      <td>...</td>\n      <td>[{'EAN': ['5900498000856']}]</td>\n      <td>ludwik mleczko do czyszczenia kuchni spray</td>\n      <td>preparat do czyszczenia powierzchni kuchennych...</td>\n      <td>ludwik</td>\n      <td>9 99</td>\n      <td>amount 750 ml capacity 750 ml extras  image_ur...</td>\n      <td>{'amount': '750 ml', 'capacity': '750 ml', 'ex...</td>\n      <td>chemia</td>\n      <td>chemia</td>\n      <td>0</td>\n    </tr>\n    <tr>\n      <th>11317</th>\n      <td>4180</td>\n      <td>8001841182285</td>\n      <td>[{'EAN': ['8001841182285']}]</td>\n      <td>lenor perełki zapachowe do prania gold orchid</td>\n      <td>odkryj perełki zapachowe lenor najnowszy w gam...</td>\n      <td>lenor</td>\n      <td>29 99</td>\n      <td>amount 210 g capacity  extras  image_url https...</td>\n      <td>{'amount': '210 g', 'capacity': '', 'extras': ...</td>\n      <td>5026</td>\n      <td>...</td>\n      <td>[{'EAN': ['8001841375885']}]</td>\n      <td>lenor gold orchid płyn do płukania tkanin 1420...</td>\n      <td>płyn do płukania tkanin lenor zapewnia długotr...</td>\n      <td>lenor</td>\n      <td>17 99 zł</td>\n      <td>amount 1 42 l capacity  extras  image_url http...</td>\n      <td>{'amount': '1 42 l', 'capacity': '', 'extras':...</td>\n      <td>chemia</td>\n      <td>chemia</td>\n      <td>0</td>\n    </tr>\n    <tr>\n      <th>9392</th>\n      <td>4307</td>\n      <td>8001480024540</td>\n      <td>[{'EAN': ['8001480024540']}]</td>\n      <td>ace ultra fresh silny żel</td>\n      <td>ace ultra fresh silny żel</td>\n      <td>ace</td>\n      <td>6 99</td>\n      <td>amount 750 ml capacity 750 ml extras  image_ur...</td>\n      <td>{'amount': '750 ml', 'capacity': '750 ml', 'ex...</td>\n      <td>4226</td>\n      <td>...</td>\n      <td>[{'EAN': ['8001480024564']}]</td>\n      <td>ace ultra silny żel lemon</td>\n      <td>ace ultra silny żel lemon</td>\n      <td>ace</td>\n      <td>6 99</td>\n      <td>amount 750 ml capacity 750 ml extras  image_ur...</td>\n      <td>{'amount': '750 ml', 'capacity': '750 ml', 'ex...</td>\n      <td>chemia</td>\n      <td>chemia</td>\n      <td>0</td>\n    </tr>\n  </tbody>\n</table>\n<p>5 rows × 21 columns</p>\n</div>"
     },
     "metadata": {},
     "execution_count": 2
    }
   ],
   "source": [
    "path = os.path.join('all_train', f'pl_wdc_all_large.json.gz')\n",
    "train_df = pd.read_json(path, compression='gzip', lines=True)\n",
    "train_df.sample(frac=1).head()"
   ]
  },
  {
   "cell_type": "code",
   "execution_count": 25,
   "metadata": {},
   "outputs": [
    {
     "output_type": "execute_result",
     "data": {
      "text/plain": [
       "                                              title_left      brand_left  \\\n",
       "15165  cisowianka sport naturalna woda mineralna nieg...      cisowianka   \n",
       "20503              hortex vitaminka sok marchewka 300 ml          hortex   \n",
       "11583  lenor unstoppables perełki zapachowe do prania...           lenor   \n",
       "6031   lenor amethyst floral bouquet płyn do płukania...           lenor   \n",
       "21473                     tymbark jabłko mięta napój pet         tymbark   \n",
       "8402       e delikatny proszek do prania 3 9 kg 60 prań                e   \n",
       "17746      tarczyn napój multiwitamina 10 witamin 300 ml         tarczyn   \n",
       "3342   biały jeleń hipoalergiczny płyn do prania kolo...     biały jeleń   \n",
       "3802   bref wc power aktiv zawieszka myjąco zapachowa...            bref   \n",
       "21428  san pellegrino woda mineralna naturalnie gazowana  san pellegrino   \n",
       "\n",
       "                                             title_right     brand_right  \\\n",
       "15165  cisowianka naturalna woda mineralna niegazowan...      cisowianka   \n",
       "20503                 hortex vitaminka sok marchewka 1 l          hortex   \n",
       "11583  lenor unstoppables dreams wzmacniacz zapachu s...                   \n",
       "6031   lenor diamond lotus flower płyn do płukania tk...           lenor   \n",
       "21473                     tymbark arbuz jabłko napój pet         tymbark   \n",
       "8402                     e żel do prania 3 00 l 60 prań                e   \n",
       "17746                      tarczyn sok 100 jabłko 300 ml         tarczyn   \n",
       "3342   biały jeleń hipoalergiczny płyn do prania kolo...     biały jeleń   \n",
       "3802   bref wc power aktiv zawieszka myjąco zapachowa...            bref   \n",
       "21428  san pellegrino woda mineralna naturalnie gazow...  san pellegrino   \n",
       "\n",
       "      category_right  label  \n",
       "15165         napoje      1  \n",
       "20503         napoje      0  \n",
       "11583         chemia      0  \n",
       "6031          chemia      0  \n",
       "21473         napoje      0  \n",
       "8402          chemia      0  \n",
       "17746         napoje      0  \n",
       "3342          chemia      1  \n",
       "3802          chemia      0  \n",
       "21428         napoje      0  "
      ],
      "text/html": "<div>\n<style scoped>\n    .dataframe tbody tr th:only-of-type {\n        vertical-align: middle;\n    }\n\n    .dataframe tbody tr th {\n        vertical-align: top;\n    }\n\n    .dataframe thead th {\n        text-align: right;\n    }\n</style>\n<table border=\"1\" class=\"dataframe\">\n  <thead>\n    <tr style=\"text-align: right;\">\n      <th></th>\n      <th>title_left</th>\n      <th>brand_left</th>\n      <th>title_right</th>\n      <th>brand_right</th>\n      <th>category_right</th>\n      <th>label</th>\n    </tr>\n  </thead>\n  <tbody>\n    <tr>\n      <th>15165</th>\n      <td>cisowianka sport naturalna woda mineralna nieg...</td>\n      <td>cisowianka</td>\n      <td>cisowianka naturalna woda mineralna niegazowan...</td>\n      <td>cisowianka</td>\n      <td>napoje</td>\n      <td>1</td>\n    </tr>\n    <tr>\n      <th>20503</th>\n      <td>hortex vitaminka sok marchewka 300 ml</td>\n      <td>hortex</td>\n      <td>hortex vitaminka sok marchewka 1 l</td>\n      <td>hortex</td>\n      <td>napoje</td>\n      <td>0</td>\n    </tr>\n    <tr>\n      <th>11583</th>\n      <td>lenor unstoppables perełki zapachowe do prania...</td>\n      <td>lenor</td>\n      <td>lenor unstoppables dreams wzmacniacz zapachu s...</td>\n      <td></td>\n      <td>chemia</td>\n      <td>0</td>\n    </tr>\n    <tr>\n      <th>6031</th>\n      <td>lenor amethyst floral bouquet płyn do płukania...</td>\n      <td>lenor</td>\n      <td>lenor diamond lotus flower płyn do płukania tk...</td>\n      <td>lenor</td>\n      <td>chemia</td>\n      <td>0</td>\n    </tr>\n    <tr>\n      <th>21473</th>\n      <td>tymbark jabłko mięta napój pet</td>\n      <td>tymbark</td>\n      <td>tymbark arbuz jabłko napój pet</td>\n      <td>tymbark</td>\n      <td>napoje</td>\n      <td>0</td>\n    </tr>\n    <tr>\n      <th>8402</th>\n      <td>e delikatny proszek do prania 3 9 kg 60 prań</td>\n      <td>e</td>\n      <td>e żel do prania 3 00 l 60 prań</td>\n      <td>e</td>\n      <td>chemia</td>\n      <td>0</td>\n    </tr>\n    <tr>\n      <th>17746</th>\n      <td>tarczyn napój multiwitamina 10 witamin 300 ml</td>\n      <td>tarczyn</td>\n      <td>tarczyn sok 100 jabłko 300 ml</td>\n      <td>tarczyn</td>\n      <td>napoje</td>\n      <td>0</td>\n    </tr>\n    <tr>\n      <th>3342</th>\n      <td>biały jeleń hipoalergiczny płyn do prania kolo...</td>\n      <td>biały jeleń</td>\n      <td>biały jeleń hipoalergiczny płyn do prania kolo...</td>\n      <td>biały jeleń</td>\n      <td>chemia</td>\n      <td>1</td>\n    </tr>\n    <tr>\n      <th>3802</th>\n      <td>bref wc power aktiv zawieszka myjąco zapachowa...</td>\n      <td>bref</td>\n      <td>bref wc power aktiv zawieszka myjąco zapachowa...</td>\n      <td>bref</td>\n      <td>chemia</td>\n      <td>0</td>\n    </tr>\n    <tr>\n      <th>21428</th>\n      <td>san pellegrino woda mineralna naturalnie gazowana</td>\n      <td>san pellegrino</td>\n      <td>san pellegrino woda mineralna naturalnie gazow...</td>\n      <td>san pellegrino</td>\n      <td>napoje</td>\n      <td>0</td>\n    </tr>\n  </tbody>\n</table>\n</div>"
     },
     "metadata": {},
     "execution_count": 25
    }
   ],
   "source": [
    "train_df[['title_left', 'brand_left', 'title_right', 'brand_right', 'category_right', 'label']].sample(n=10)"
   ]
  },
  {
   "cell_type": "code",
   "execution_count": 22,
   "metadata": {},
   "outputs": [
    {
     "output_type": "execute_result",
     "data": {
      "text/plain": [
       "       id_left  cluster_id_left              identifiers_left  \\\n",
       "3         7096    6414301017492  [{'EAN': ['6414301017492']}]   \n",
       "4         6289    8710447283233  [{'EAN': ['8710447283233']}]   \n",
       "11        6830    8710447376287  [{'EAN': ['8710447376287']}]   \n",
       "13        6909    5000204922578  [{'EAN': ['5000204922578']}]   \n",
       "14        4766    5900627043082  [{'EAN': ['5900627043082']}]   \n",
       "...        ...              ...                           ...   \n",
       "16745     7541    5449000021779  [{'EAN': ['5449000021779']}]   \n",
       "16746     7432    5906395223091  [{'EAN': ['5906395223091']}]   \n",
       "16748     7673    5449000235947  [{'EAN': ['5449000235947']}]   \n",
       "16749      974    5900059700843  [{'EAN': ['5900059700843']}]   \n",
       "16750     5689         90492341       [{'EAN': ['90492341']}]   \n",
       "\n",
       "                                              title_left  \\\n",
       "3                          mola połysk ręcznik papierowy   \n",
       "4      coccolino sensitive płyn do płukania tkanin ko...   \n",
       "11     cif perfect finish specjalistyczny spray osad ...   \n",
       "13     pronto lavender aerozol do mebli drewnianych 3...   \n",
       "14     air wick odświeżacz elektryczny i wkład białe ...   \n",
       "...                                                  ...   \n",
       "16745              kinley tonic water napój gazowany 1 l   \n",
       "16746  naturalnie mętny sok jabłkowo gruszkowy sady w...   \n",
       "16748  fuzetea napój o smaku cytrynowym z ekstraktem ...   \n",
       "16749                fortuna sok pomidorowy tabasco 100    \n",
       "16750                  cappy sok pomarańczowy 100 330 ml   \n",
       "\n",
       "                                        description_left     brand_left  \\\n",
       "3      mola połysk ręcznik papierowy połysk mola poły...           mola   \n",
       "4                                                             coccolino   \n",
       "11     cif perfect finish specjalistyczny spray osad ...                  \n",
       "13     ul taśmowa 7 02 677 warszawa pronto lawenda do...                  \n",
       "14     air wick elektryczny odświeżacz powietrza świe...       air wick   \n",
       "...                                                  ...            ...   \n",
       "16745  kinley tonic water napój gazowany 1 l 250 ml 4...         kinley   \n",
       "16746  nasze soki są produkowane w sposób tradycyjny ...  sady wincenta   \n",
       "16748  fuzetea napój o smaku cytrynowym z ekstraktem ...        fuzetea   \n",
       "16749  w naszym soku znajdziesz tylko owoce i warzywa...        fortuna   \n",
       "16750                                                             cappy   \n",
       "\n",
       "      price_left                              specTableContent_left  \\\n",
       "3           6 95  amount  capacity  extras  image_url https www ...   \n",
       "4       12 29 zł  amount 1 80 l capacity  extras  image_url http...   \n",
       "11         12 99  amount 435 ml capacity 435 ml extras  image_ur...   \n",
       "13          9 49  amount 300 ml capacity 300 ml extras  image_ur...   \n",
       "14         19 99  amount 1 szt capacity  extras  image_url https...   \n",
       "...          ...                                                ...   \n",
       "16745       3 89  amount 1 l capacity 1 l extras  image_url http...   \n",
       "16746      11 99  amount 3l capacity 210 00 extras  image_url ht...   \n",
       "16748       2 69  amount 500 ml capacity 500 ml extras substancj...   \n",
       "16749       3 89  amount 1 l capacity 1 l extras  image_url http...   \n",
       "16750    2 10 zł  amount 330 ml capacity  extras  image_url http...   \n",
       "\n",
       "                                      keyValuePairs_left  id_right  ...  \\\n",
       "3      {'amount': '', 'capacity': '', 'extras': '', '...      6231  ...   \n",
       "4      {'amount': '1 80 l', 'capacity': '', 'extras':...      7025  ...   \n",
       "11     {'amount': '435 ml', 'capacity': '435 ml', 'ex...      5706  ...   \n",
       "13     {'amount': '300 ml', 'capacity': '300 ml', 'ex...      6262  ...   \n",
       "14     {'amount': '1 szt', 'capacity': '', 'extras': ...      7189  ...   \n",
       "...                                                  ...       ...  ...   \n",
       "16745  {'amount': '1 l', 'capacity': '1 l', 'extras':...      5465  ...   \n",
       "16746  {'amount': '3l', 'capacity': '210 00', 'extras...       632  ...   \n",
       "16748  {'amount': '500 ml', 'capacity': '500 ml', 'ex...      5403  ...   \n",
       "16749  {'amount': '1 l', 'capacity': '1 l', 'extras':...      7665  ...   \n",
       "16750  {'amount': '330 ml', 'capacity': '', 'extras':...      7881  ...   \n",
       "\n",
       "                  identifiers_right  \\\n",
       "3      [{'EAN': ['6414301017492']}]   \n",
       "4      [{'EAN': ['8710447283233']}]   \n",
       "11     [{'EAN': ['8710447376287']}]   \n",
       "13     [{'EAN': ['5000204922578']}]   \n",
       "14     [{'EAN': ['5900627043082']}]   \n",
       "...                             ...   \n",
       "16745  [{'EAN': ['5449000021779']}]   \n",
       "16746  [{'EAN': ['5906395223091']}]   \n",
       "16748  [{'EAN': ['5449000235947']}]   \n",
       "16749  [{'EAN': ['5900059700843']}]   \n",
       "16750       [{'EAN': ['90492341']}]   \n",
       "\n",
       "                                             title_right  \\\n",
       "3                          mola połysk ręcznik papierowy   \n",
       "4      coccolino sensitive płyn do płukania tkanin ko...   \n",
       "11     cif perfect finish specjalistyczny spray osad ...   \n",
       "13     pronto lavender aerozol do mebli drewnianych 3...   \n",
       "14     air wick life scents wtyczka elektryczna i wkł...   \n",
       "...                                                  ...   \n",
       "16745              kinley tonic water napój gazowany 1 l   \n",
       "16746  sady wincenta sok jabłko gruszka w kartonie tł...   \n",
       "16748  fuzetea napój o smaku cytrynowym z ekstraktem ...   \n",
       "16749              fortuna sok 100 pomidor z tabasco 1 l   \n",
       "16750                  cappy sok pomarańczowy 100 330 ml   \n",
       "\n",
       "                                       description_right    brand_right  \\\n",
       "3                                                                  mola   \n",
       "4      coccolino sensitive płyn do płukania tkanin ko...      coccolino   \n",
       "11                                                                  cif   \n",
       "13     pronto lawenda do mebli drewnianych w aerozolu...         pronto   \n",
       "14     ul okunin 1 05 100 nowy dwór mazowiecki air wi...       air wick   \n",
       "...                                                  ...            ...   \n",
       "16745                                                            kinley   \n",
       "16746  sady wincenta sok jabłko gruszka w kartonie tł...  sady wincenta   \n",
       "16748                                                           fuzetea   \n",
       "16749  ul hoża 51 00 681 warszawa w naszym soku znajd...        fortuna   \n",
       "16750  cappy sok pomarańczowy 100 330 ml dzięki swoim...          cappy   \n",
       "\n",
       "      price_right                             specTableContent_right  \\\n",
       "3         9 99 zł  amount 1 szt  capacity  extras  image_url http...   \n",
       "4           12 99  amount 1800 ml capacity 1800 ml extras  image_...   \n",
       "11       10 99 zł  amount 435 ml capacity  extras  image_url http...   \n",
       "13        9 49 zł  amount 300 ml capacity  extras  image_url http...   \n",
       "14          18 99  amount 19 ml capacity 19 ml extras  image_url ...   \n",
       "...           ...                                                ...   \n",
       "16745     3 49 zł  amount 1 00 l capacity  extras  image_url http...   \n",
       "16746       15 99  amount 3 l capacity 3 l extras  image_url http...   \n",
       "16748     2 49 zł  amount 500 ml capacity  extras substancje słod...   \n",
       "16749        2 49  amount 1 l capacity 1 l extras  image_url http...   \n",
       "16750        2 09  amount 330 ml capacity 330 ml extras  image_ur...   \n",
       "\n",
       "                                     keyValuePairs_right category_left  \\\n",
       "3      {'amount': '1 szt ', 'capacity': '', 'extras':...        chemia   \n",
       "4      {'amount': '1800 ml', 'capacity': '1800 ml', '...        chemia   \n",
       "11     {'amount': '435 ml', 'capacity': '', 'extras':...        chemia   \n",
       "13     {'amount': '300 ml', 'capacity': '', 'extras':...        chemia   \n",
       "14     {'amount': '19 ml', 'capacity': '19 ml', 'extr...        chemia   \n",
       "...                                                  ...           ...   \n",
       "16745  {'amount': '1 00 l', 'capacity': '', 'extras':...        napoje   \n",
       "16746  {'amount': '3 l', 'capacity': '3 l', 'extras':...        napoje   \n",
       "16748  {'amount': '500 ml', 'capacity': '', 'extras':...        napoje   \n",
       "16749  {'amount': '1 l', 'capacity': '1 l', 'extras':...        napoje   \n",
       "16750  {'amount': '330 ml', 'capacity': '330 ml', 'ex...        napoje   \n",
       "\n",
       "      category_right label  \n",
       "3             chemia     1  \n",
       "4             chemia     1  \n",
       "11            chemia     1  \n",
       "13            chemia     1  \n",
       "14            chemia     1  \n",
       "...              ...   ...  \n",
       "16745         napoje     1  \n",
       "16746         napoje     1  \n",
       "16748         napoje     1  \n",
       "16749         napoje     1  \n",
       "16750         napoje     1  \n",
       "\n",
       "[3567 rows x 21 columns]"
      ],
      "text/html": "<div>\n<style scoped>\n    .dataframe tbody tr th:only-of-type {\n        vertical-align: middle;\n    }\n\n    .dataframe tbody tr th {\n        vertical-align: top;\n    }\n\n    .dataframe thead th {\n        text-align: right;\n    }\n</style>\n<table border=\"1\" class=\"dataframe\">\n  <thead>\n    <tr style=\"text-align: right;\">\n      <th></th>\n      <th>id_left</th>\n      <th>cluster_id_left</th>\n      <th>identifiers_left</th>\n      <th>title_left</th>\n      <th>description_left</th>\n      <th>brand_left</th>\n      <th>price_left</th>\n      <th>specTableContent_left</th>\n      <th>keyValuePairs_left</th>\n      <th>id_right</th>\n      <th>...</th>\n      <th>identifiers_right</th>\n      <th>title_right</th>\n      <th>description_right</th>\n      <th>brand_right</th>\n      <th>price_right</th>\n      <th>specTableContent_right</th>\n      <th>keyValuePairs_right</th>\n      <th>category_left</th>\n      <th>category_right</th>\n      <th>label</th>\n    </tr>\n  </thead>\n  <tbody>\n    <tr>\n      <th>3</th>\n      <td>7096</td>\n      <td>6414301017492</td>\n      <td>[{'EAN': ['6414301017492']}]</td>\n      <td>mola połysk ręcznik papierowy</td>\n      <td>mola połysk ręcznik papierowy połysk mola poły...</td>\n      <td>mola</td>\n      <td>6 95</td>\n      <td>amount  capacity  extras  image_url https www ...</td>\n      <td>{'amount': '', 'capacity': '', 'extras': '', '...</td>\n      <td>6231</td>\n      <td>...</td>\n      <td>[{'EAN': ['6414301017492']}]</td>\n      <td>mola połysk ręcznik papierowy</td>\n      <td></td>\n      <td>mola</td>\n      <td>9 99 zł</td>\n      <td>amount 1 szt  capacity  extras  image_url http...</td>\n      <td>{'amount': '1 szt ', 'capacity': '', 'extras':...</td>\n      <td>chemia</td>\n      <td>chemia</td>\n      <td>1</td>\n    </tr>\n    <tr>\n      <th>4</th>\n      <td>6289</td>\n      <td>8710447283233</td>\n      <td>[{'EAN': ['8710447283233']}]</td>\n      <td>coccolino sensitive płyn do płukania tkanin ko...</td>\n      <td></td>\n      <td>coccolino</td>\n      <td>12 29 zł</td>\n      <td>amount 1 80 l capacity  extras  image_url http...</td>\n      <td>{'amount': '1 80 l', 'capacity': '', 'extras':...</td>\n      <td>7025</td>\n      <td>...</td>\n      <td>[{'EAN': ['8710447283233']}]</td>\n      <td>coccolino sensitive płyn do płukania tkanin ko...</td>\n      <td>coccolino sensitive płyn do płukania tkanin ko...</td>\n      <td>coccolino</td>\n      <td>12 99</td>\n      <td>amount 1800 ml capacity 1800 ml extras  image_...</td>\n      <td>{'amount': '1800 ml', 'capacity': '1800 ml', '...</td>\n      <td>chemia</td>\n      <td>chemia</td>\n      <td>1</td>\n    </tr>\n    <tr>\n      <th>11</th>\n      <td>6830</td>\n      <td>8710447376287</td>\n      <td>[{'EAN': ['8710447376287']}]</td>\n      <td>cif perfect finish specjalistyczny spray osad ...</td>\n      <td>cif perfect finish specjalistyczny spray osad ...</td>\n      <td></td>\n      <td>12 99</td>\n      <td>amount 435 ml capacity 435 ml extras  image_ur...</td>\n      <td>{'amount': '435 ml', 'capacity': '435 ml', 'ex...</td>\n      <td>5706</td>\n      <td>...</td>\n      <td>[{'EAN': ['8710447376287']}]</td>\n      <td>cif perfect finish specjalistyczny spray osad ...</td>\n      <td></td>\n      <td>cif</td>\n      <td>10 99 zł</td>\n      <td>amount 435 ml capacity  extras  image_url http...</td>\n      <td>{'amount': '435 ml', 'capacity': '', 'extras':...</td>\n      <td>chemia</td>\n      <td>chemia</td>\n      <td>1</td>\n    </tr>\n    <tr>\n      <th>13</th>\n      <td>6909</td>\n      <td>5000204922578</td>\n      <td>[{'EAN': ['5000204922578']}]</td>\n      <td>pronto lavender aerozol do mebli drewnianych 3...</td>\n      <td>ul taśmowa 7 02 677 warszawa pronto lawenda do...</td>\n      <td></td>\n      <td>9 49</td>\n      <td>amount 300 ml capacity 300 ml extras  image_ur...</td>\n      <td>{'amount': '300 ml', 'capacity': '300 ml', 'ex...</td>\n      <td>6262</td>\n      <td>...</td>\n      <td>[{'EAN': ['5000204922578']}]</td>\n      <td>pronto lavender aerozol do mebli drewnianych 3...</td>\n      <td>pronto lawenda do mebli drewnianych w aerozolu...</td>\n      <td>pronto</td>\n      <td>9 49 zł</td>\n      <td>amount 300 ml capacity  extras  image_url http...</td>\n      <td>{'amount': '300 ml', 'capacity': '', 'extras':...</td>\n      <td>chemia</td>\n      <td>chemia</td>\n      <td>1</td>\n    </tr>\n    <tr>\n      <th>14</th>\n      <td>4766</td>\n      <td>5900627043082</td>\n      <td>[{'EAN': ['5900627043082']}]</td>\n      <td>air wick odświeżacz elektryczny i wkład białe ...</td>\n      <td>air wick elektryczny odświeżacz powietrza świe...</td>\n      <td>air wick</td>\n      <td>19 99</td>\n      <td>amount 1 szt capacity  extras  image_url https...</td>\n      <td>{'amount': '1 szt', 'capacity': '', 'extras': ...</td>\n      <td>7189</td>\n      <td>...</td>\n      <td>[{'EAN': ['5900627043082']}]</td>\n      <td>air wick life scents wtyczka elektryczna i wkł...</td>\n      <td>ul okunin 1 05 100 nowy dwór mazowiecki air wi...</td>\n      <td>air wick</td>\n      <td>18 99</td>\n      <td>amount 19 ml capacity 19 ml extras  image_url ...</td>\n      <td>{'amount': '19 ml', 'capacity': '19 ml', 'extr...</td>\n      <td>chemia</td>\n      <td>chemia</td>\n      <td>1</td>\n    </tr>\n    <tr>\n      <th>...</th>\n      <td>...</td>\n      <td>...</td>\n      <td>...</td>\n      <td>...</td>\n      <td>...</td>\n      <td>...</td>\n      <td>...</td>\n      <td>...</td>\n      <td>...</td>\n      <td>...</td>\n      <td>...</td>\n      <td>...</td>\n      <td>...</td>\n      <td>...</td>\n      <td>...</td>\n      <td>...</td>\n      <td>...</td>\n      <td>...</td>\n      <td>...</td>\n      <td>...</td>\n      <td>...</td>\n    </tr>\n    <tr>\n      <th>16745</th>\n      <td>7541</td>\n      <td>5449000021779</td>\n      <td>[{'EAN': ['5449000021779']}]</td>\n      <td>kinley tonic water napój gazowany 1 l</td>\n      <td>kinley tonic water napój gazowany 1 l 250 ml 4...</td>\n      <td>kinley</td>\n      <td>3 89</td>\n      <td>amount 1 l capacity 1 l extras  image_url http...</td>\n      <td>{'amount': '1 l', 'capacity': '1 l', 'extras':...</td>\n      <td>5465</td>\n      <td>...</td>\n      <td>[{'EAN': ['5449000021779']}]</td>\n      <td>kinley tonic water napój gazowany 1 l</td>\n      <td></td>\n      <td>kinley</td>\n      <td>3 49 zł</td>\n      <td>amount 1 00 l capacity  extras  image_url http...</td>\n      <td>{'amount': '1 00 l', 'capacity': '', 'extras':...</td>\n      <td>napoje</td>\n      <td>napoje</td>\n      <td>1</td>\n    </tr>\n    <tr>\n      <th>16746</th>\n      <td>7432</td>\n      <td>5906395223091</td>\n      <td>[{'EAN': ['5906395223091']}]</td>\n      <td>naturalnie mętny sok jabłkowo gruszkowy sady w...</td>\n      <td>nasze soki są produkowane w sposób tradycyjny ...</td>\n      <td>sady wincenta</td>\n      <td>11 99</td>\n      <td>amount 3l capacity 210 00 extras  image_url ht...</td>\n      <td>{'amount': '3l', 'capacity': '210 00', 'extras...</td>\n      <td>632</td>\n      <td>...</td>\n      <td>[{'EAN': ['5906395223091']}]</td>\n      <td>sady wincenta sok jabłko gruszka w kartonie tł...</td>\n      <td>sady wincenta sok jabłko gruszka w kartonie tł...</td>\n      <td>sady wincenta</td>\n      <td>15 99</td>\n      <td>amount 3 l capacity 3 l extras  image_url http...</td>\n      <td>{'amount': '3 l', 'capacity': '3 l', 'extras':...</td>\n      <td>napoje</td>\n      <td>napoje</td>\n      <td>1</td>\n    </tr>\n    <tr>\n      <th>16748</th>\n      <td>7673</td>\n      <td>5449000235947</td>\n      <td>[{'EAN': ['5449000235947']}]</td>\n      <td>fuzetea napój o smaku cytrynowym z ekstraktem ...</td>\n      <td>fuzetea napój o smaku cytrynowym z ekstraktem ...</td>\n      <td>fuzetea</td>\n      <td>2 69</td>\n      <td>amount 500 ml capacity 500 ml extras substancj...</td>\n      <td>{'amount': '500 ml', 'capacity': '500 ml', 'ex...</td>\n      <td>5403</td>\n      <td>...</td>\n      <td>[{'EAN': ['5449000235947']}]</td>\n      <td>fuzetea napój o smaku cytrynowym z ekstraktem ...</td>\n      <td></td>\n      <td>fuzetea</td>\n      <td>2 49 zł</td>\n      <td>amount 500 ml capacity  extras substancje słod...</td>\n      <td>{'amount': '500 ml', 'capacity': '', 'extras':...</td>\n      <td>napoje</td>\n      <td>napoje</td>\n      <td>1</td>\n    </tr>\n    <tr>\n      <th>16749</th>\n      <td>974</td>\n      <td>5900059700843</td>\n      <td>[{'EAN': ['5900059700843']}]</td>\n      <td>fortuna sok pomidorowy tabasco 100</td>\n      <td>w naszym soku znajdziesz tylko owoce i warzywa...</td>\n      <td>fortuna</td>\n      <td>3 89</td>\n      <td>amount 1 l capacity 1 l extras  image_url http...</td>\n      <td>{'amount': '1 l', 'capacity': '1 l', 'extras':...</td>\n      <td>7665</td>\n      <td>...</td>\n      <td>[{'EAN': ['5900059700843']}]</td>\n      <td>fortuna sok 100 pomidor z tabasco 1 l</td>\n      <td>ul hoża 51 00 681 warszawa w naszym soku znajd...</td>\n      <td>fortuna</td>\n      <td>2 49</td>\n      <td>amount 1 l capacity 1 l extras  image_url http...</td>\n      <td>{'amount': '1 l', 'capacity': '1 l', 'extras':...</td>\n      <td>napoje</td>\n      <td>napoje</td>\n      <td>1</td>\n    </tr>\n    <tr>\n      <th>16750</th>\n      <td>5689</td>\n      <td>90492341</td>\n      <td>[{'EAN': ['90492341']}]</td>\n      <td>cappy sok pomarańczowy 100 330 ml</td>\n      <td></td>\n      <td>cappy</td>\n      <td>2 10 zł</td>\n      <td>amount 330 ml capacity  extras  image_url http...</td>\n      <td>{'amount': '330 ml', 'capacity': '', 'extras':...</td>\n      <td>7881</td>\n      <td>...</td>\n      <td>[{'EAN': ['90492341']}]</td>\n      <td>cappy sok pomarańczowy 100 330 ml</td>\n      <td>cappy sok pomarańczowy 100 330 ml dzięki swoim...</td>\n      <td>cappy</td>\n      <td>2 09</td>\n      <td>amount 330 ml capacity 330 ml extras  image_ur...</td>\n      <td>{'amount': '330 ml', 'capacity': '330 ml', 'ex...</td>\n      <td>napoje</td>\n      <td>napoje</td>\n      <td>1</td>\n    </tr>\n  </tbody>\n</table>\n<p>3567 rows × 21 columns</p>\n</div>"
     },
     "metadata": {},
     "execution_count": 22
    }
   ],
   "source": [
    "train_df[(train_df['id_left'] != train_df['id_right']) & (train_df['label']==1)]"
   ]
  },
  {
   "cell_type": "code",
   "execution_count": 333,
   "metadata": {},
   "outputs": [
    {
     "output_type": "execute_result",
     "data": {
      "text/plain": [
       "      id_left  cluster_id_left              identifiers_left  \\\n",
       "2022     7875    5902078000102  [{'EAN': ['5902078000102']}]   \n",
       "618      2909    5901478002532  [{'EAN': ['5901478002532']}]   \n",
       "1487     5140    8002270000218  [{'EAN': ['8002270000218']}]   \n",
       "454      5994    5907637315352  [{'EAN': ['5907637315352']}]   \n",
       "1638     7300    5900334000286  [{'EAN': ['5900334000286']}]   \n",
       "\n",
       "                                             title_left  \\\n",
       "2022  cisowianka naturalna woda mineralna gazowana n...   \n",
       "618                    velvet ręcznik papierowy 2 rolki   \n",
       "1487  s pellegrino naturalna woda mineralna gazowana...   \n",
       "454                         płyn do wc o zapachu natury   \n",
       "1638                 tymbark napój jabłko wiśnia 500 ml   \n",
       "\n",
       "                                       description_left      brand_left  \\\n",
       "2022  cisowianka naturalna woda mineralna gazowana n...      cisowianka   \n",
       "618    super chłonny i wytrzymały trójwarstowy wydaj...          velvet   \n",
       "1487                                                     san pellegrino   \n",
       "454                         płyn do wc o zapachu natury   wiodąca marka   \n",
       "1638  ul strefowa 13 43 100 tychy kultowe napoje tym...         tymbark   \n",
       "\n",
       "     price_left                              specTableContent_left  \\\n",
       "2022       1 59  amount 1 5 l capacity 1 5 l extras  image_url ...   \n",
       "618        9 99  amount 1 szt capacity  extras  image_url https...   \n",
       "1487    4 19 zł  amount 1 00 l capacity  extras  image_url http...   \n",
       "454     3 34 zł  amount 165 ml capacity  extras  image_url http...   \n",
       "1638       1 79  amount 500 ml capacity 500 ml extras konserwan...   \n",
       "\n",
       "                                     keyValuePairs_left  id_right  ...  \\\n",
       "2022  {'amount': '1 5 l', 'capacity': '1 5 l', 'extr...      5187  ...   \n",
       "618   {'amount': '1 szt', 'capacity': '', 'extras': ...      3061  ...   \n",
       "1487  {'amount': '1 00 l', 'capacity': '', 'extras':...      7589  ...   \n",
       "454   {'amount': '165 ml', 'capacity': '', 'extras':...      3262  ...   \n",
       "1638  {'amount': '500 ml', 'capacity': '500 ml', 'ex...      5366  ...   \n",
       "\n",
       "                 identifiers_right  \\\n",
       "2022  [{'EAN': ['5901268004005']}]   \n",
       "618   [{'EAN': ['5900935002061']}]   \n",
       "1487  [{'EAN': ['5900635000053']}]   \n",
       "454   [{'EAN': ['4009175142740']}]   \n",
       "1638  [{'EAN': ['5900500030673']}]   \n",
       "\n",
       "                                            title_right  \\\n",
       "2022  kinga pienińska naturalna woda mineralna gazow...   \n",
       "618                   foxy mega ręcznik papierowy 2 szt   \n",
       "1487  nałęczowianka naturalna woda mineralna gazowan...   \n",
       "454   frosch żel do czyszczenia wc o zapachu lawendowym   \n",
       "1638                  hortex napój jabłko wiśnia 500 ml   \n",
       "\n",
       "                                      description_right      brand_right  \\\n",
       "2022                                                     kinga pienińska   \n",
       "618   ręcznik kuchenny 100 dziewiczej celulozy 2 war...             foxy   \n",
       "1487  nałęczowianka naturalna woda mineralna gazowan...    nałęczowianka   \n",
       "454   właściwości higienicznie działające naturalne ...           frosch   \n",
       "1638  wyśmienita kompozycja słodkich wiśni z soczyst...           hortex   \n",
       "\n",
       "     price_right                             specTableContent_right  \\\n",
       "2022     1 59 zł  amount 1 50 l capacity  extras  image_url http...   \n",
       "618         6 99  amount 1 szt capacity  extras  image_url https...   \n",
       "1487       12 54  amount 6 x 1 5 l capacity 6 x 1 5 l extras  im...   \n",
       "454         8 99  amount 750 ml capacity 750 ml extras  image_ur...   \n",
       "1638     1 99 zł  amount 500 ml capacity  extras konserwanty nie...   \n",
       "\n",
       "                                    keyValuePairs_right category_left  \\\n",
       "2022  {'amount': '1 50 l', 'capacity': '', 'extras':...        napoje   \n",
       "618   {'amount': '1 szt', 'capacity': '', 'extras': ...        chemia   \n",
       "1487  {'amount': '6 x 1 5 l', 'capacity': '6 x 1 5 l...        napoje   \n",
       "454   {'amount': '750 ml', 'capacity': '750 ml', 'ex...        chemia   \n",
       "1638  {'amount': '500 ml', 'capacity': '', 'extras':...        napoje   \n",
       "\n",
       "     category_right label  \n",
       "2022         napoje     0  \n",
       "618          chemia     0  \n",
       "1487         napoje     0  \n",
       "454          chemia     0  \n",
       "1638         napoje     0  \n",
       "\n",
       "[5 rows x 21 columns]"
      ],
      "text/html": "<div>\n<style scoped>\n    .dataframe tbody tr th:only-of-type {\n        vertical-align: middle;\n    }\n\n    .dataframe tbody tr th {\n        vertical-align: top;\n    }\n\n    .dataframe thead th {\n        text-align: right;\n    }\n</style>\n<table border=\"1\" class=\"dataframe\">\n  <thead>\n    <tr style=\"text-align: right;\">\n      <th></th>\n      <th>id_left</th>\n      <th>cluster_id_left</th>\n      <th>identifiers_left</th>\n      <th>title_left</th>\n      <th>description_left</th>\n      <th>brand_left</th>\n      <th>price_left</th>\n      <th>specTableContent_left</th>\n      <th>keyValuePairs_left</th>\n      <th>id_right</th>\n      <th>...</th>\n      <th>identifiers_right</th>\n      <th>title_right</th>\n      <th>description_right</th>\n      <th>brand_right</th>\n      <th>price_right</th>\n      <th>specTableContent_right</th>\n      <th>keyValuePairs_right</th>\n      <th>category_left</th>\n      <th>category_right</th>\n      <th>label</th>\n    </tr>\n  </thead>\n  <tbody>\n    <tr>\n      <th>2022</th>\n      <td>7875</td>\n      <td>5902078000102</td>\n      <td>[{'EAN': ['5902078000102']}]</td>\n      <td>cisowianka naturalna woda mineralna gazowana n...</td>\n      <td>cisowianka naturalna woda mineralna gazowana n...</td>\n      <td>cisowianka</td>\n      <td>1 59</td>\n      <td>amount 1 5 l capacity 1 5 l extras  image_url ...</td>\n      <td>{'amount': '1 5 l', 'capacity': '1 5 l', 'extr...</td>\n      <td>5187</td>\n      <td>...</td>\n      <td>[{'EAN': ['5901268004005']}]</td>\n      <td>kinga pienińska naturalna woda mineralna gazow...</td>\n      <td></td>\n      <td>kinga pienińska</td>\n      <td>1 59 zł</td>\n      <td>amount 1 50 l capacity  extras  image_url http...</td>\n      <td>{'amount': '1 50 l', 'capacity': '', 'extras':...</td>\n      <td>napoje</td>\n      <td>napoje</td>\n      <td>0</td>\n    </tr>\n    <tr>\n      <th>618</th>\n      <td>2909</td>\n      <td>5901478002532</td>\n      <td>[{'EAN': ['5901478002532']}]</td>\n      <td>velvet ręcznik papierowy 2 rolki</td>\n      <td>super chłonny i wytrzymały trójwarstowy wydaj...</td>\n      <td>velvet</td>\n      <td>9 99</td>\n      <td>amount 1 szt capacity  extras  image_url https...</td>\n      <td>{'amount': '1 szt', 'capacity': '', 'extras': ...</td>\n      <td>3061</td>\n      <td>...</td>\n      <td>[{'EAN': ['5900935002061']}]</td>\n      <td>foxy mega ręcznik papierowy 2 szt</td>\n      <td>ręcznik kuchenny 100 dziewiczej celulozy 2 war...</td>\n      <td>foxy</td>\n      <td>6 99</td>\n      <td>amount 1 szt capacity  extras  image_url https...</td>\n      <td>{'amount': '1 szt', 'capacity': '', 'extras': ...</td>\n      <td>chemia</td>\n      <td>chemia</td>\n      <td>0</td>\n    </tr>\n    <tr>\n      <th>1487</th>\n      <td>5140</td>\n      <td>8002270000218</td>\n      <td>[{'EAN': ['8002270000218']}]</td>\n      <td>s pellegrino naturalna woda mineralna gazowana...</td>\n      <td></td>\n      <td>san pellegrino</td>\n      <td>4 19 zł</td>\n      <td>amount 1 00 l capacity  extras  image_url http...</td>\n      <td>{'amount': '1 00 l', 'capacity': '', 'extras':...</td>\n      <td>7589</td>\n      <td>...</td>\n      <td>[{'EAN': ['5900635000053']}]</td>\n      <td>nałęczowianka naturalna woda mineralna gazowan...</td>\n      <td>nałęczowianka naturalna woda mineralna gazowan...</td>\n      <td>nałęczowianka</td>\n      <td>12 54</td>\n      <td>amount 6 x 1 5 l capacity 6 x 1 5 l extras  im...</td>\n      <td>{'amount': '6 x 1 5 l', 'capacity': '6 x 1 5 l...</td>\n      <td>napoje</td>\n      <td>napoje</td>\n      <td>0</td>\n    </tr>\n    <tr>\n      <th>454</th>\n      <td>5994</td>\n      <td>5907637315352</td>\n      <td>[{'EAN': ['5907637315352']}]</td>\n      <td>płyn do wc o zapachu natury</td>\n      <td>płyn do wc o zapachu natury</td>\n      <td>wiodąca marka</td>\n      <td>3 34 zł</td>\n      <td>amount 165 ml capacity  extras  image_url http...</td>\n      <td>{'amount': '165 ml', 'capacity': '', 'extras':...</td>\n      <td>3262</td>\n      <td>...</td>\n      <td>[{'EAN': ['4009175142740']}]</td>\n      <td>frosch żel do czyszczenia wc o zapachu lawendowym</td>\n      <td>właściwości higienicznie działające naturalne ...</td>\n      <td>frosch</td>\n      <td>8 99</td>\n      <td>amount 750 ml capacity 750 ml extras  image_ur...</td>\n      <td>{'amount': '750 ml', 'capacity': '750 ml', 'ex...</td>\n      <td>chemia</td>\n      <td>chemia</td>\n      <td>0</td>\n    </tr>\n    <tr>\n      <th>1638</th>\n      <td>7300</td>\n      <td>5900334000286</td>\n      <td>[{'EAN': ['5900334000286']}]</td>\n      <td>tymbark napój jabłko wiśnia 500 ml</td>\n      <td>ul strefowa 13 43 100 tychy kultowe napoje tym...</td>\n      <td>tymbark</td>\n      <td>1 79</td>\n      <td>amount 500 ml capacity 500 ml extras konserwan...</td>\n      <td>{'amount': '500 ml', 'capacity': '500 ml', 'ex...</td>\n      <td>5366</td>\n      <td>...</td>\n      <td>[{'EAN': ['5900500030673']}]</td>\n      <td>hortex napój jabłko wiśnia 500 ml</td>\n      <td>wyśmienita kompozycja słodkich wiśni z soczyst...</td>\n      <td>hortex</td>\n      <td>1 99 zł</td>\n      <td>amount 500 ml capacity  extras konserwanty nie...</td>\n      <td>{'amount': '500 ml', 'capacity': '', 'extras':...</td>\n      <td>napoje</td>\n      <td>napoje</td>\n      <td>0</td>\n    </tr>\n  </tbody>\n</table>\n<p>5 rows × 21 columns</p>\n</div>"
     },
     "metadata": {},
     "execution_count": 333
    }
   ],
   "source": [
    "path = os.path.join('test', f'pl_wdc_all_test.json.gz')\n",
    "test_df = pd.read_json(path, compression='gzip', lines=True)\n",
    "test_df.sample(frac=1).head()"
   ]
  }
 ],
 "metadata": {
  "language_info": {
   "codemirror_mode": {
    "name": "ipython",
    "version": 3
   },
   "file_extension": ".py",
   "mimetype": "text/x-python",
   "name": "python",
   "nbconvert_exporter": "python",
   "pygments_lexer": "ipython3",
   "version": "3.9.2"
  },
  "orig_nbformat": 2,
  "kernelspec": {
   "name": "python392jvsc74a57bd01d5d51aab73d9610ec47b9b307b85bba458be1808c0087ceef2f39693ec1d43d",
   "display_name": "Python 3.9.2 64-bit ('vis': conda)"
  }
 },
 "nbformat": 4,
 "nbformat_minor": 2
}