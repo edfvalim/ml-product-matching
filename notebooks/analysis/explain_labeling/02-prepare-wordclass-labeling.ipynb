{
 "cells": [
  {
   "cell_type": "code",
   "execution_count": 1,
   "metadata": {},
   "outputs": [],
   "source": [
    "# OPTIONAL: Load the \"autoreload\" extension so that code can change\n",
    "%load_ext autoreload\n",
    "\n",
    "# OPTIONAL: always reload modules so that as you change code in src, it gets loaded\n",
    "%autoreload 2"
   ]
  },
  {
   "cell_type": "code",
   "execution_count": 2,
   "metadata": {},
   "outputs": [],
   "source": [
    "import pandas as pd\n",
    "import numpy as np\n",
    "np.random.seed(42)\n",
    "import random\n",
    "random.seed(42)\n",
    "\n",
    "from tqdm.notebook import tqdm\n",
    "\n",
    "from pdb import set_trace"
   ]
  },
  {
   "cell_type": "code",
   "execution_count": 3,
   "metadata": {},
   "outputs": [],
   "source": [
    "only_bert = pd.read_csv('../../../data/processed/explain_labeling/only_bert_labeled.csv')\n",
    "only_deepmatcher = pd.read_csv('../../../data/processed/explain_labeling/only_deepmatcher_labeled.csv')\n",
    "only_magellan = pd.read_csv('../../../data/processed/explain_labeling/only_magellan_labeled.csv')\n",
    "bert_and_deepmatcher = pd.read_csv('../../../data/processed/explain_labeling/bert_and_deepmatcher_labeled.csv')\n",
    "bert_and_magellan = pd.read_csv('../../../data/processed/explain_labeling/bert_and_magellan_labeled.csv')\n",
    "deepmatcher_and_magellan = pd.read_csv('../../../data/processed/explain_labeling/deepmatcher_and_magellan_labeled.csv')\n",
    "all_correct = pd.read_csv('../../../data/processed/explain_labeling/all_correct_labeled.csv')\n",
    "all_wrong = pd.read_csv('../../../data/processed/explain_labeling/all_wrong_labeled.csv')\n",
    "\n",
    "####################\n",
    "\n",
    "JOINT_only_joint = pd.read_csv('../../../data/processed/explain_labeling/JOINT_only_joint_labeled.csv')\n",
    "JOINT_only_bert = pd.read_csv('../../../data/processed/explain_labeling/JOINT_only_bert_labeled.csv')\n",
    "JOINT_both_correct = pd.read_csv('../../../data/processed/explain_labeling/JOINT_both_correct_labeled.csv')\n",
    "JOINT_both_wrong = pd.read_csv('../../../data/processed/explain_labeling/JOINT_both_wrong_labeled.csv')"
   ]
  },
  {
   "cell_type": "code",
   "execution_count": 4,
   "metadata": {},
   "outputs": [],
   "source": [
    "to_label = only_bert[(only_bert['challenge_1'] == 1) | (only_bert['challenge_2'] == 1) | (only_bert['challenge_3'] == 1) | (only_bert['challenge_4'] == 1) | (only_bert['challenge_5'] == 1) | (only_bert['challenge_6'] == 1) | (only_bert['challenge_7'] == 1)]\n",
    "to_label = to_label.append(only_deepmatcher[(only_deepmatcher['challenge_1'] == 1) | (only_deepmatcher['challenge_2'] == 1) | (only_deepmatcher['challenge_3'] == 1) | (only_deepmatcher['challenge_4'] == 1) | (only_deepmatcher['challenge_5'] == 1) | (only_deepmatcher['challenge_6'] == 1) | (only_deepmatcher['challenge_7'] == 1)], ignore_index=True)\n",
    "to_label = to_label.append(only_magellan[(only_magellan['challenge_1'] == 1) | (only_magellan['challenge_2'] == 1) | (only_magellan['challenge_3'] == 1) | (only_magellan['challenge_4'] == 1) | (only_magellan['challenge_5'] == 1) | (only_magellan['challenge_6'] == 1) | (only_magellan['challenge_7'] == 1)])\n",
    "to_label = to_label.append(bert_and_deepmatcher[(bert_and_deepmatcher['challenge_1'] == 1) | (bert_and_deepmatcher['challenge_2'] == 1) | (bert_and_deepmatcher['challenge_3'] == 1) | (bert_and_deepmatcher['challenge_4'] == 1) | (bert_and_deepmatcher['challenge_5'] == 1) | (bert_and_deepmatcher['challenge_6'] == 1) | (bert_and_deepmatcher['challenge_7'] == 1)], ignore_index=True)\n",
    "to_label = to_label.append(bert_and_magellan[(bert_and_magellan['challenge_1'] == 1) | (bert_and_magellan['challenge_2'] == 1) | (bert_and_magellan['challenge_3'] == 1) | (bert_and_magellan['challenge_4'] == 1) | (bert_and_magellan['challenge_5'] == 1) | (bert_and_magellan['challenge_6'] == 1) | (bert_and_magellan['challenge_7'] == 1)], ignore_index=True)\n",
    "to_label = to_label.append(deepmatcher_and_magellan[(deepmatcher_and_magellan['challenge_1'] == 1) | (deepmatcher_and_magellan['challenge_2'] == 1) | (deepmatcher_and_magellan['challenge_3'] == 1) | (deepmatcher_and_magellan['challenge_4'] == 1) | (deepmatcher_and_magellan['challenge_5'] == 1) | (deepmatcher_and_magellan['challenge_6'] == 1) | (deepmatcher_and_magellan['challenge_7'] == 1)], ignore_index=True)\n",
    "to_label = to_label.append(all_correct[(all_correct['challenge_1'] == 1) | (all_correct['challenge_2'] == 1) | (all_correct['challenge_3'] == 1) | (all_correct['challenge_4'] == 1) | (all_correct['challenge_5'] == 1) | (all_correct['challenge_6'] == 1) | (all_correct['challenge_7'] == 1)], ignore_index=True)\n",
    "to_label = to_label.append(all_wrong[(all_wrong['challenge_1'] == 1) | (all_wrong['challenge_2'] == 1) | (all_wrong['challenge_3'] == 1) | (all_wrong['challenge_4'] == 1) | (all_wrong['challenge_5'] == 1) | (all_wrong['challenge_6'] == 1) | (all_wrong['challenge_7'] == 1)], ignore_index=True)\n",
    "\n",
    "to_label = to_label.append(JOINT_only_joint[(JOINT_only_joint['challenge_1'] == 1) | (JOINT_only_joint['challenge_2'] == 1) | (JOINT_only_joint['challenge_3'] == 1) | (JOINT_only_joint['challenge_4'] == 1) | (JOINT_only_joint['challenge_5'] == 1) | (JOINT_only_joint['challenge_6'] == 1) | (JOINT_only_joint['challenge_7'] == 1)], ignore_index=True)\n",
    "to_label = to_label.append(JOINT_only_bert[(JOINT_only_bert['challenge_1'] == 1) | (JOINT_only_bert['challenge_2'] == 1) | (JOINT_only_bert['challenge_3'] == 1) | (JOINT_only_bert['challenge_4'] == 1) | (JOINT_only_bert['challenge_5'] == 1) | (JOINT_only_bert['challenge_6'] == 1) | (JOINT_only_bert['challenge_7'] == 1)], ignore_index=True)\n",
    "to_label = to_label.append(JOINT_both_correct[(JOINT_both_correct['challenge_1'] == 1) | (JOINT_both_correct['challenge_2'] == 1) | (JOINT_both_correct['challenge_3'] == 1) | (JOINT_both_correct['challenge_4'] == 1) | (JOINT_both_correct['challenge_5'] == 1) | (JOINT_both_correct['challenge_6'] == 1) | (JOINT_both_correct['challenge_7'] == 1)], ignore_index=True)\n",
    "to_label = to_label.append(JOINT_both_wrong[(JOINT_both_wrong['challenge_1'] == 1) | (JOINT_both_wrong['challenge_2'] == 1) | (JOINT_both_wrong['challenge_3'] == 1) | (JOINT_both_wrong['challenge_4'] == 1) | (JOINT_both_wrong['challenge_5'] == 1) | (JOINT_both_wrong['challenge_6'] == 1) | (JOINT_both_wrong['challenge_7'] == 1)], ignore_index=True)\n",
    "\n",
    "lookup_all = only_bert[(only_bert['challenge_1'] == 1) | (only_bert['challenge_2'] == 1) | (only_bert['challenge_3'] == 1) | (only_bert['challenge_4'] == 1) | (only_bert['challenge_5'] == 1) | (only_bert['challenge_6'] == 1) | (only_bert['challenge_7'] == 1)]\n",
    "lookup_all = lookup_all.append(only_deepmatcher[(only_deepmatcher['challenge_1'] == 1) | (only_deepmatcher['challenge_2'] == 1) | (only_deepmatcher['challenge_3'] == 1) | (only_deepmatcher['challenge_4'] == 1) | (only_deepmatcher['challenge_5'] == 1) | (only_deepmatcher['challenge_6'] == 1) | (only_deepmatcher['challenge_7'] == 1)], ignore_index=True)\n",
    "lookup_all = lookup_all.append(only_magellan[(only_magellan['challenge_1'] == 1) | (only_magellan['challenge_2'] == 1) | (only_magellan['challenge_3'] == 1) | (only_magellan['challenge_4'] == 1) | (only_magellan['challenge_5'] == 1) | (only_magellan['challenge_6'] == 1) | (only_magellan['challenge_7'] == 1)])\n",
    "lookup_all = lookup_all.append(bert_and_deepmatcher[(bert_and_deepmatcher['challenge_1'] == 1) | (bert_and_deepmatcher['challenge_2'] == 1) | (bert_and_deepmatcher['challenge_3'] == 1) | (bert_and_deepmatcher['challenge_4'] == 1) | (bert_and_deepmatcher['challenge_5'] == 1) | (bert_and_deepmatcher['challenge_6'] == 1) | (bert_and_deepmatcher['challenge_7'] == 1)], ignore_index=True)\n",
    "lookup_all = lookup_all.append(bert_and_magellan[(bert_and_magellan['challenge_1'] == 1) | (bert_and_magellan['challenge_2'] == 1) | (bert_and_magellan['challenge_3'] == 1) | (bert_and_magellan['challenge_4'] == 1) | (bert_and_magellan['challenge_5'] == 1) | (bert_and_magellan['challenge_6'] == 1) | (bert_and_magellan['challenge_7'] == 1)], ignore_index=True)\n",
    "lookup_all = lookup_all.append(deepmatcher_and_magellan[(deepmatcher_and_magellan['challenge_1'] == 1) | (deepmatcher_and_magellan['challenge_2'] == 1) | (deepmatcher_and_magellan['challenge_3'] == 1) | (deepmatcher_and_magellan['challenge_4'] == 1) | (deepmatcher_and_magellan['challenge_5'] == 1) | (deepmatcher_and_magellan['challenge_6'] == 1) | (deepmatcher_and_magellan['challenge_7'] == 1)], ignore_index=True)\n",
    "lookup_all = lookup_all.append(all_correct[(all_correct['challenge_1'] == 1) | (all_correct['challenge_2'] == 1) | (all_correct['challenge_3'] == 1) | (all_correct['challenge_4'] == 1) | (all_correct['challenge_5'] == 1) | (all_correct['challenge_6'] == 1) | (all_correct['challenge_7'] == 1)], ignore_index=True)\n",
    "lookup_all = lookup_all.append(all_wrong[(all_wrong['challenge_1'] == 1) | (all_wrong['challenge_2'] == 1) | (all_wrong['challenge_3'] == 1) | (all_wrong['challenge_4'] == 1) | (all_wrong['challenge_5'] == 1) | (all_wrong['challenge_6'] == 1) | (all_wrong['challenge_7'] == 1)], ignore_index=True)\n",
    "\n",
    "lookup_onlybert = JOINT_only_joint[(JOINT_only_joint['challenge_1'] == 1) | (JOINT_only_joint['challenge_2'] == 1) | (JOINT_only_joint['challenge_3'] == 1) | (JOINT_only_joint['challenge_4'] == 1) | (JOINT_only_joint['challenge_5'] == 1) | (JOINT_only_joint['challenge_6'] == 1) | (JOINT_only_joint['challenge_7'] == 1)]\n",
    "lookup_onlybert = lookup_onlybert.append(JOINT_only_bert[(JOINT_only_bert['challenge_1'] == 1) | (JOINT_only_bert['challenge_2'] == 1) | (JOINT_only_bert['challenge_3'] == 1) | (JOINT_only_bert['challenge_4'] == 1) | (JOINT_only_bert['challenge_5'] == 1) | (JOINT_only_bert['challenge_6'] == 1) | (JOINT_only_bert['challenge_7'] == 1)], ignore_index=True)\n",
    "lookup_onlybert = lookup_onlybert.append(JOINT_both_correct[(JOINT_both_correct['challenge_1'] == 1) | (JOINT_both_correct['challenge_2'] == 1) | (JOINT_both_correct['challenge_3'] == 1) | (JOINT_both_correct['challenge_4'] == 1) | (JOINT_both_correct['challenge_5'] == 1) | (JOINT_both_correct['challenge_6'] == 1) | (JOINT_both_correct['challenge_7'] == 1)], ignore_index=True)\n",
    "lookup_onlybert = lookup_onlybert.append(JOINT_both_wrong[(JOINT_both_wrong['challenge_1'] == 1) | (JOINT_both_wrong['challenge_2'] == 1) | (JOINT_both_wrong['challenge_3'] == 1) | (JOINT_both_wrong['challenge_4'] == 1) | (JOINT_both_wrong['challenge_5'] == 1) | (JOINT_both_wrong['challenge_6'] == 1) | (JOINT_both_wrong['challenge_7'] == 1)], ignore_index=True)\n",
    "\n",
    "to_label = to_label.drop_duplicates(subset='pair_id', ignore_index=True)\n",
    "to_label = to_label.fillna('')\n",
    "\n",
    "lookup_all = lookup_all.drop_duplicates(subset='pair_id', ignore_index=True)\n",
    "lookup_all = lookup_all.fillna('')\n",
    "\n",
    "lookup_onlybert = lookup_onlybert.drop_duplicates(subset='pair_id', ignore_index=True)\n",
    "lookup_onlybert = lookup_onlybert.fillna('')\n",
    "\n",
    "to_label['brand_left_wordclasses'] = to_label['brand_left'].apply(lambda x: str(x).split())\n",
    "to_label['title_left_wordclasses'] = to_label['title_left'].apply(lambda x: str(x).split())\n",
    "to_label['brand_right_wordclasses'] = to_label['brand_right'].apply(lambda x: str(x).split())\n",
    "to_label['title_right_wordclasses'] = to_label['title_right'].apply(lambda x: str(x).split())\n",
    "\n",
    "lookup_all['brand_left_wordclasses'] = lookup_all['brand_left'].apply(lambda x: str(x).split())\n",
    "lookup_all['title_left_wordclasses'] = lookup_all['title_left'].apply(lambda x: str(x).split())\n",
    "lookup_all['brand_right_wordclasses'] = lookup_all['brand_right'].apply(lambda x: str(x).split())\n",
    "lookup_all['title_right_wordclasses'] = lookup_all['title_right'].apply(lambda x: str(x).split())\n",
    "\n",
    "lookup_onlybert['brand_left_wordclasses'] = lookup_onlybert['brand_left'].apply(lambda x: str(x).split())\n",
    "lookup_onlybert['title_left_wordclasses'] = lookup_onlybert['title_left'].apply(lambda x: str(x).split())\n",
    "lookup_onlybert['brand_right_wordclasses'] = lookup_onlybert['brand_right'].apply(lambda x: str(x).split())\n",
    "lookup_onlybert['title_right_wordclasses'] = lookup_onlybert['title_right'].apply(lambda x: str(x).split())"
   ]
  },
  {
   "cell_type": "code",
   "execution_count": 5,
   "metadata": {},
   "outputs": [],
   "source": [
    "challenge_lookup_all = lookup_all[['pair_id', 'challenge_1', 'challenge_2', 'challenge_3', 'challenge_4', 'challenge_5', 'challenge_6', 'challenge_7']]\n",
    "challenge_lookup_all.to_csv('../../../data/processed/explain_labeling/challenge_lookup_all.csv', index=False)\n",
    "\n",
    "challenge_lookup_onlybert = lookup_onlybert[['pair_id', 'challenge_1', 'challenge_2', 'challenge_3', 'challenge_4', 'challenge_5', 'challenge_6', 'challenge_7']]\n",
    "challenge_lookup_onlybert.to_csv('../../../data/processed/explain_labeling/challenge_lookup_onlybert.csv', index=False)\n",
    "\n",
    "challenge_lookup = to_label[['pair_id', 'challenge_1', 'challenge_2', 'challenge_3', 'challenge_4', 'challenge_5', 'challenge_6', 'challenge_7']]\n",
    "challenge_lookup.to_csv('../../../data/processed/explain_labeling/challenge_lookup.csv', index=False)\n",
    "\n",
    "to_label = to_label[['pair_id', 'label', 'brand_left', 'brand_left_wordclasses', 'title_left', 'title_left_wordclasses',  'brand_right', 'brand_right_wordclasses', 'title_right', 'title_right_wordclasses']]\n",
    "to_label.to_csv('../../../data/processed/explain_labeling/wordclass_labeling.csv', index=False)"
   ]
  },
  {
   "cell_type": "code",
   "execution_count": 6,
   "metadata": {},
   "outputs": [
    {
     "data": {
      "text/plain": [
       "295"
      ]
     },
     "execution_count": 6,
     "metadata": {},
     "output_type": "execute_result"
    }
   ],
   "source": [
    "len(to_label)"
   ]
  },
  {
   "cell_type": "code",
   "execution_count": 7,
   "metadata": {},
   "outputs": [
    {
     "data": {
      "text/plain": [
       "192"
      ]
     },
     "execution_count": 7,
     "metadata": {},
     "output_type": "execute_result"
    }
   ],
   "source": [
    "len(challenge_lookup_all)"
   ]
  },
  {
   "cell_type": "code",
   "execution_count": 8,
   "metadata": {},
   "outputs": [
    {
     "data": {
      "text/plain": [
       "196"
      ]
     },
     "execution_count": 8,
     "metadata": {},
     "output_type": "execute_result"
    }
   ],
   "source": [
    "len(challenge_lookup_onlybert)"
   ]
  }
 ],
 "metadata": {
  "kernelspec": {
   "display_name": "Python 3",
   "language": "python",
   "name": "python3"
  },
  "language_info": {
   "codemirror_mode": {
    "name": "ipython",
    "version": 3
   },
   "file_extension": ".py",
   "mimetype": "text/x-python",
   "name": "python",
   "nbconvert_exporter": "python",
   "pygments_lexer": "ipython3",
   "version": "3.8.3"
  }
 },
 "nbformat": 4,
 "nbformat_minor": 4
}
